{
 "cells": [
  {
   "cell_type": "markdown",
   "metadata": {},
   "source": [
    "### Crea una función para pasarle un nombre y saludar a esa persona. Solo quiero ver el saludo."
   ]
  },
  {
   "cell_type": "code",
   "execution_count": 4,
   "metadata": {},
   "outputs": [],
   "source": [
    "def saludar(nombre, apellido):\n",
    "    print(f\"Hola, {nombre} {apellido}\")"
   ]
  },
  {
   "cell_type": "code",
   "execution_count": 5,
   "metadata": {},
   "outputs": [
    {
     "name": "stdout",
     "output_type": "stream",
     "text": [
      "Hola, Evelina Martín\n"
     ]
    }
   ],
   "source": [
    "saludar(\"Evelina\", \"Martín\")"
   ]
  },
  {
   "cell_type": "markdown",
   "metadata": {},
   "source": [
    "### Crea una función que te haga la tabla de multiplicar del número que le pases"
   ]
  },
  {
   "cell_type": "code",
   "execution_count": null,
   "metadata": {},
   "outputs": [],
   "source": [
    "def multiplicador(numero):\n",
    "    for i in range(0,11):\n",
    "        print(f\"{numero} x {i} = {numero*i}\")"
   ]
  },
  {
   "cell_type": "code",
   "execution_count": 14,
   "metadata": {},
   "outputs": [
    {
     "name": "stdout",
     "output_type": "stream",
     "text": [
      "9 x 0 = 0\n",
      "9 x 1 = 9\n",
      "9 x 2 = 18\n",
      "9 x 3 = 27\n",
      "9 x 4 = 36\n",
      "9 x 5 = 45\n",
      "9 x 6 = 54\n",
      "9 x 7 = 63\n",
      "9 x 8 = 72\n",
      "9 x 9 = 81\n",
      "9 x 10 = 90\n"
     ]
    }
   ],
   "source": [
    "multiplicador(9)"
   ]
  },
  {
   "cell_type": "code",
   "execution_count": 12,
   "metadata": {},
   "outputs": [
    {
     "name": "stdout",
     "output_type": "stream",
     "text": [
      "None\n"
     ]
    }
   ],
   "source": [
    "print(tabla_del_cinco)"
   ]
  },
  {
   "cell_type": "markdown",
   "metadata": {},
   "source": [
    "### Crea una función que te de la media de tus tres exámenes y  que si no he hecho el tercer examen, me ponga por defecto un 5, guardes ese resultado en una variable llamada nota_media"
   ]
  },
  {
   "cell_type": "code",
   "execution_count": 20,
   "metadata": {},
   "outputs": [],
   "source": [
    "def conseguir_nota_media(nota1, nota2, nota3=5):\n",
    "    nota_media = (nota1+nota2+nota3)/3\n",
    "    return nota_media"
   ]
  },
  {
   "cell_type": "code",
   "execution_count": 18,
   "metadata": {},
   "outputs": [],
   "source": [
    "nota = conseguir_nota_media(10,0,2)"
   ]
  },
  {
   "cell_type": "code",
   "execution_count": 19,
   "metadata": {},
   "outputs": [
    {
     "name": "stdout",
     "output_type": "stream",
     "text": [
      "4.0\n"
     ]
    }
   ],
   "source": [
    "print(nota)"
   ]
  },
  {
   "cell_type": "code",
   "execution_count": null,
   "metadata": {},
   "outputs": [],
   "source": [
    "def conseguir_media(*args):\n",
    "    media = sum(args)/len(args)\n",
    "    return media"
   ]
  },
  {
   "cell_type": "code",
   "execution_count": 22,
   "metadata": {},
   "outputs": [
    {
     "name": "stdout",
     "output_type": "stream",
     "text": [
      "6.5\n"
     ]
    }
   ],
   "source": [
    "nota_final = conseguir_media(3,8,5,10)\n",
    "print(nota_final)"
   ]
  },
  {
   "cell_type": "markdown",
   "metadata": {},
   "source": [
    "### Crea una función a la que pasarle una lista y compruebe los números y me añada los que son mayores de 30 a otra lista llamada mayores_30"
   ]
  },
  {
   "cell_type": "code",
   "execution_count": 28,
   "metadata": {},
   "outputs": [],
   "source": [
    "\n",
    "def mayores_treinta(*args):\n",
    "    lista_mayores_30 = []\n",
    "    for num in args:\n",
    "        if num > 30:\n",
    "            lista_mayores_30.append(num)\n",
    "        else:\n",
    "            continue\n",
    "    return lista_mayores_30 \n",
    "\n"
   ]
  },
  {
   "cell_type": "code",
   "execution_count": null,
   "metadata": {},
   "outputs": [],
   "source": [
    "lista_3 = []"
   ]
  },
  {
   "cell_type": "code",
   "execution_count": 29,
   "metadata": {},
   "outputs": [],
   "source": [
    "edades_aptas = mayores_treinta(30, 12, 34, 18, 1, 66, 55)"
   ]
  },
  {
   "cell_type": "code",
   "execution_count": 30,
   "metadata": {},
   "outputs": [
    {
     "name": "stdout",
     "output_type": "stream",
     "text": [
      "[34, 66, 55]\n"
     ]
    }
   ],
   "source": [
    "print(edades_aptas)"
   ]
  },
  {
   "cell_type": "markdown",
   "metadata": {},
   "source": [
    "### Vamos a crear la clase Adalaber.\n",
    "### Toda Adalaber tiene los siguientes atributos: nombre, apellido, superpoder, frase que más repite y una mascota, aunque por defecto puede tener \"ninguna\".\n",
    "### Toda Adalaber puede: saludar a alguien, decir su propio nombre y apellido, decir cuál es su mascota (si tiene), decir su frase, decir su superpoder y decir la tabla de multiplicar del numero que le pasemos."
   ]
  },
  {
   "cell_type": "code",
   "execution_count": 31,
   "metadata": {},
   "outputs": [],
   "source": [
    "class Adalaber:\n",
    "\n",
    "    def __init__(self, nombre, apellido, superpoder, frase, mascota = \"ninguna\"):\n",
    "        self.nombre = nombre\n",
    "        self.apellido = apellido\n",
    "        self.superpoder = superpoder\n",
    "        self.frase = frase\n",
    "        self.mascota = mascota\n",
    "    \n",
    "    def saludar_y_presentarse(self,nombre):\n",
    "        print(f\"Hola, {nombre}. Me llamo {self.nombre} {self.apellido}\")\n",
    "    \n",
    "    def decir_mascota(self):\n",
    "        if self.mascota == \"ninguna\":\n",
    "            print(\"No tengo mascota\")\n",
    "        else:\n",
    "            print(f\"Tengo una mascota y se llama {self.mascota}\")\n",
    "    \n",
    "    def decir_frase(self):\n",
    "        print(f\"Yo siempre digo que {self.frase}\")\n",
    "    \n",
    "    def decir_superpoder(self):\n",
    "        print(f\"Mi superpoder es {self.superpoder}\")\n",
    "    \n",
    "    def decir_tabla(self, numero):\n",
    "        for i in range(0,11):\n",
    "            print(f\"{numero} x {i} = {numero*i}\")\n",
    "    \n"
   ]
  },
  {
   "cell_type": "code",
   "execution_count": 32,
   "metadata": {},
   "outputs": [],
   "source": [
    "rocio_martinez = Adalaber(\"Rocío\", \"Martínez\", \"contar chistes malos\", \"esto puede ser cualquier cosa, por ejemplo, patata\")"
   ]
  },
  {
   "cell_type": "code",
   "execution_count": 33,
   "metadata": {},
   "outputs": [
    {
     "data": {
      "text/plain": [
       "'contar chistes malos'"
      ]
     },
     "execution_count": 33,
     "metadata": {},
     "output_type": "execute_result"
    }
   ],
   "source": [
    "rocio_martinez.superpoder"
   ]
  },
  {
   "cell_type": "code",
   "execution_count": 35,
   "metadata": {},
   "outputs": [
    {
     "name": "stdout",
     "output_type": "stream",
     "text": [
      "Yo siempre digo que esto puede ser cualquier cosa, por ejemplo, patata\n"
     ]
    }
   ],
   "source": [
    "rocio_martinez.decir_frase()"
   ]
  },
  {
   "cell_type": "code",
   "execution_count": 36,
   "metadata": {},
   "outputs": [
    {
     "name": "stdout",
     "output_type": "stream",
     "text": [
      "Hola, Hermi. Me llamo Rocío Martínez\n"
     ]
    }
   ],
   "source": [
    "rocio_martinez.saludar_y_presentarse(\"Hermi\")"
   ]
  }
 ],
 "metadata": {
  "kernelspec": {
   "display_name": "Python 3",
   "language": "python",
   "name": "python3"
  },
  "language_info": {
   "codemirror_mode": {
    "name": "ipython",
    "version": 3
   },
   "file_extension": ".py",
   "mimetype": "text/x-python",
   "name": "python",
   "nbconvert_exporter": "python",
   "pygments_lexer": "ipython3",
   "version": "3.9.5"
  }
 },
 "nbformat": 4,
 "nbformat_minor": 2
}
