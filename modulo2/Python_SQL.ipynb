{
 "cells": [
  {
   "cell_type": "markdown",
   "metadata": {},
   "source": [
    "### Python --> SQL\n",
    "\n",
    "### Desde Python podemos conectarnos a SQL y modificar datos, insertar datos, etc.\n",
    "\n",
    "-Conexión a BBDD\n",
    "-Crear BBDD\n",
    "-Crear una tabla\n",
    "-Insertar datos\n",
    "-Eliminar datos\n",
    "-Actualizar datos\n"
   ]
  },
  {
   "cell_type": "markdown",
   "metadata": {},
   "source": [
    "### Desde SQL también podremos después...\n",
    "-Leer datos\n",
    "-Comando de integración"
   ]
  },
  {
   "cell_type": "code",
   "execution_count": 1,
   "metadata": {},
   "outputs": [],
   "source": [
    "#Importamos ciertas librerias (si nos da error lo hacemos con pip install)\n",
    "import mysql.connector\n"
   ]
  },
  {
   "cell_type": "code",
   "execution_count": 3,
   "metadata": {},
   "outputs": [
    {
     "name": "stdout",
     "output_type": "stream",
     "text": [
      "Requirement already satisfied: mysql-connector-python in c:\\users\\rmart\\appdata\\local\\programs\\python\\python311\\lib\\site-packages (9.1.0)\n",
      "Note: you may need to restart the kernel to use updated packages.\n"
     ]
    },
    {
     "name": "stderr",
     "output_type": "stream",
     "text": [
      "\n",
      "[notice] A new release of pip is available: 24.0 -> 24.3.1\n",
      "[notice] To update, run: python.exe -m pip install --upgrade pip\n"
     ]
    }
   ],
   "source": [
    "pip install mysql-connector-python"
   ]
  },
  {
   "cell_type": "code",
   "execution_count": 1,
   "metadata": {},
   "outputs": [],
   "source": [
    "from mysql.connector import errorcode\n",
    "import pandas as pd\n"
   ]
  },
  {
   "cell_type": "code",
   "execution_count": null,
   "metadata": {},
   "outputs": [],
   "source": [
    "#Conectar a BBDD\n",
    "#Creamos una variable que la llamamos como queramos, pero se suele llamar cnx\n",
    "#Esto sirve para \"conectarnos\" a nuestra base de datos\n",
    "#Usamos:\n",
    "    #-mysql.coonector.connect\n",
    "    #-Le pasamos los parámetros user, password y host y a veces, databse\n",
    "\n",
    "cnx = mysql.connector.connect(user=, password=, host=, database=)\n",
    "\n",
    "#Creamos un \"cursor\" al que le vamos a decir qué queremos cmabiar y demás\n",
    "\n",
    "mycursor = cnx.cursor()\n",
    "\n",
    "# Una vez hecho todo esto, haríamos las queries, selecciones, creaciones...\n",
    "# PERO la sintaxis aquí es ligeramente diferente\n",
    "\n",
    "#Hay varias opciones de ejecutar queries y podéis elegir la que más sencilla os parezca\n",
    "\n",
    "#Opcion1\n",
    "mycursor.execute('query') #Dentro puede haber un SELECT, CREATE...\n",
    "\n",
    "#Opcion2\n",
    "\n",
    "consulta = 'query'\n",
    "mycursor.execute(consulta)\n",
    "\n",
    "#Opcion3\n",
    "\n",
    "consulta = 'query'\n",
    "valores =('val1', 'val2')\n",
    "mycursor.execute(consulta, valores)\n",
    "\n",
    "#Los resultados los vamos a tener con comandos como:\n",
    "fetchone()\n",
    "fetchall()\n",
    "commit()\n",
    "cnx.close()\n"
   ]
  },
  {
   "cell_type": "code",
   "execution_count": 4,
   "metadata": {},
   "outputs": [],
   "source": [
    "#Primero vamos a conectarnos al servidor de Adalab\n",
    "\n",
    "cnx = mysql.connector.connect(user= 'root', password='AlumnaAdalab', host='127.0.0.1') #Usaremos este número que le dice al código\n",
    "#que el servidor de SQL al que queremos acceder esta en esta misma máquina\n",
    "\n",
    "#Ejecutamos el cursor\n",
    "\n",
    "mycursor = cnx.cursor()\n",
    "\n",
    "#Ejecutativos la query. IMPORTANTE aquí en vez de SCHEMA utiliamos DATABASE\n",
    "\n",
    "mycursor.execute('CREATE DATABASE IF NOT EXISTS bd_prueba')\n",
    "\n",
    "#Cerramos la conexión\n",
    "#Esto es imporante porque cada conexión ocupa procesamiento, si hay muchas conexiones abiertas, el servidor podría sobrecargarse\n",
    "cnx.close()\n",
    "\n",
    "\n",
    "#El resultado lo veremos en Workbench, no aquí\n",
    "#Entramos en Workbench, actualizamos las bases de datos y ahí nos debe aparecer"
   ]
  },
  {
   "cell_type": "code",
   "execution_count": null,
   "metadata": {},
   "outputs": [],
   "source": [
    "#Ahora vamos a crear una tabla dentro de bd_prueba\n",
    "#Podríamos conectarnos a otra base de datos, pero vamos a seguir con la misma\n",
    "\n",
    "cnx = mysql.connector.connect(user= 'root', password='AlumnaAdalab', host='127.0.0.1', database = 'bd_pruebas')\n",
    "\n",
    "mycursor = cnx.cursor()\n",
    "\n",
    "#Aquí la sintaxis es algo diferente \n",
    "\n",
    "query = 'CREATE TABLE IF NOT EXISTS customers (name VARCHAR(255), address VARCHAR(255))'\n",
    "\n",
    "mycursor.execute(query)\n",
    "\n",
    "#Ejecutamos y vemos que efectivamente se ha creado la tabla\n"
   ]
  },
  {
   "cell_type": "code",
   "execution_count": 6,
   "metadata": {},
   "outputs": [],
   "source": [
    "#Insertar un registro. Como no he cerrado la conexión, puedo seguir en la misma\n",
    "#Además, voy a seguir utilizando el mismo cursor, lo cual es buena práctica\n",
    "\n",
    "query2 = 'INSERT INTO customers (name, address) VALUES(%s, %s)' #El número de %s será el número de columnas\n",
    "valores = ('Marta', 'Calle Eduardo Dato')\n",
    "mycursor.execute(query2, valores)"
   ]
  },
  {
   "cell_type": "code",
   "execution_count": null,
   "metadata": {},
   "outputs": [],
   "source": [
    "cnx.commit() \n",
    "#Este commit se usa después de operaciones que modifican los datos, es decir, con:\n",
    "# INSERT, UPDATE y DELETE\n",
    "# Si no lo ejecutamos, no confirmamos los cambios\n",
    "# No hace falta para consultas como: SELECT\n",
    "#Vamos a Workbench y probamos: SELECT * FROM bd_pruebas.customers"
   ]
  },
  {
   "cell_type": "code",
   "execution_count": null,
   "metadata": {},
   "outputs": [],
   "source": [
    "mycursor = cnx.cursor()\n",
    "\n",
    "query3 = 'INSERT INTO customers (name, address) VALUES(%s, %s)'\n",
    "valores_nuevos = [\n",
    "    ('Úrsula', 'Calle Campoamor'),\n",
    "    ('Ana', 'Calle Ramón y Cajal'),\n",
    "    ('Carla', 'Calle Amor de Dios'),\n",
    "    ('Juana', 'Calle Begoña')   ]\n",
    "\n",
    "mycursor.executemany(query3, valores_nuevos) #Para cuando más de 1 valor a insertar, usamos.executemany en vez de execute\n",
    "cnx.commit()\n",
    "cnx.close()\n",
    "\n",
    "#Veamos si se han añadido a nuestra tabla..."
   ]
  },
  {
   "cell_type": "code",
   "execution_count": 6,
   "metadata": {},
   "outputs": [],
   "source": [
    "#Veamos otra función\n",
    "\n",
    "cnx = mysql.connector.connect(user= 'root', password='AlumnaAdalab', host='127.0.0.1', database = 'bd_pruebas')\n",
    "\n",
    "mycursor = cnx.cursor()\n",
    "query = 'INSERT INTO customers (name, address) VALUES(%s, %s)'\n",
    "valores = ('Lucia', 'Calle Mayor')\n",
    "\n",
    "mycursor.execute(query, valores)\n",
    "\n",
    "#Imaginaos que lo ejecuto, pero me he dado cuenta de que me he equivocado y quiero revertirlo\n",
    "#Entonces volvería a hacer el mismo código pero con rollback\n",
    "\n",
    "cnx.rollback()\n",
    "\n",
    "#Es decir, básicamente le decimos que no aplique nos cambios en la base de datos\n",
    "#Es lo contrario del commit\n"
   ]
  },
  {
   "cell_type": "code",
   "execution_count": null,
   "metadata": {},
   "outputs": [],
   "source": [
    "mycursor = cnx.cursor()\n",
    "\n",
    "query = \"DELETE FROM customers WHERE address = 'Calle Alcalá'\"\n",
    "\n",
    "mycursor.execute(query)\n",
    "\n",
    "cnx.commit()\n",
    "\n",
    "#Ejecutamos esto y cuando vayamos a Workbench habrá eliminado este registro"
   ]
  },
  {
   "cell_type": "code",
   "execution_count": 7,
   "metadata": {},
   "outputs": [],
   "source": [
    "#Le digo que me asigne otro valor\n",
    "mycursor = cnx.cursor()\n",
    "\n",
    "query = \"UPDATE customers SET address = 'Calle Real' WHERE address = 'Calle Mayor'\"\n",
    "\n",
    "mycursor.execute(query)\n",
    "\n",
    "cnx.commit()"
   ]
  },
  {
   "cell_type": "code",
   "execution_count": null,
   "metadata": {},
   "outputs": [],
   "source": [
    "#Ahora voy a hacer una consulta, pero con otra base de datos. Voy a hacer una consulta en tienda\n",
    "\n",
    "cnx = mysql.connector.connect(user= 'root', password = 'AlumnaAdalab', host = '127.0.0.1', database= 'tienda')\n",
    "mycursor = cnx.cursor()\n",
    "mycursor.execute('SELECT * FROM employees')\n",
    "\n",
    "myresult = mycursor.fetchone() #Esto lo usamos cuando solo quiero ver la primera línea del resultado\n",
    "\n",
    "print(myresult)\n",
    "\n",
    "#La consulta la puedo ver aquí mismo"
   ]
  },
  {
   "cell_type": "code",
   "execution_count": null,
   "metadata": {},
   "outputs": [],
   "source": [
    "#Y si quiero traer más de un resultado?\n",
    "\n",
    "cnx = mysql.connector.connect(user= 'root', password = 'AlumnaAdalab', host = '127.0.0.1', database= 'tienda')\n",
    "mycursor = cnx.cursor()\n",
    "mycursor.execute('SELECT * FROM employees') \n",
    "\n",
    "myresult = mycursor.fetchall() #Esto es cuando quiero ver todas las líneas de los resultados\n",
    "\n",
    "print(myresult)"
   ]
  },
  {
   "cell_type": "code",
   "execution_count": 10,
   "metadata": {},
   "outputs": [],
   "source": [
    "#¿Cómo podemos ver los resultados más bonitos?\n",
    "#Aquí tendríamos que pasarle el nombre de las columnas\n",
    "\n",
    "import pandas as pd\n",
    "df = pd.DataFrame(myresult, columns = ['id', 'nombre', 'apellido', 'email', 'telefono', 'direccion', 'ciudad', 'pais'])\n"
   ]
  },
  {
   "cell_type": "code",
   "execution_count": null,
   "metadata": {},
   "outputs": [],
   "source": [
    "df"
   ]
  },
  {
   "cell_type": "code",
   "execution_count": null,
   "metadata": {},
   "outputs": [],
   "source": [
    "#¿Cómo veíamos los primeros registros de un dataframe?\n",
    "#¿Y los últimos?\n",
    "#¿Y una muestra aleatoria?"
   ]
  },
  {
   "cell_type": "code",
   "execution_count": null,
   "metadata": {},
   "outputs": [],
   "source": [
    "#También podemos usar\n",
    ".describe()\n",
    ".describe(include='object')\n",
    ".isnull()\n",
    ".isnull.sum()\n",
    ".info()\n",
    ".columns"
   ]
  },
  {
   "cell_type": "code",
   "execution_count": null,
   "metadata": {},
   "outputs": [],
   "source": [
    "df.info()"
   ]
  },
  {
   "cell_type": "code",
   "execution_count": null,
   "metadata": {},
   "outputs": [],
   "source": [
    "df.describe()\n"
   ]
  },
  {
   "cell_type": "code",
   "execution_count": null,
   "metadata": {},
   "outputs": [],
   "source": [
    "df.describe(include='object')\n",
    "#count: número de valores no nulos\n",
    "#unique: valores únicos en la columna\n",
    "#top: los valores que más se repiten\n",
    "#freq: cuántas veces aparece el valor top"
   ]
  },
  {
   "cell_type": "code",
   "execution_count": null,
   "metadata": {},
   "outputs": [],
   "source": [
    "cnx.close()"
   ]
  },
  {
   "cell_type": "code",
   "execution_count": null,
   "metadata": {},
   "outputs": [],
   "source": [
    "cnx = mysql.connector.connect(user= 'root', password='AlumnaAdalab', host='127.0.0.1', database = 'leccion_crear_tablas')\n",
    "\n",
    "mycursor = cnx.cursor()\n",
    "\n",
    "\n",
    "query = \"SELECT * FROM adalaber WHERE ciudad = 'Madrid' OR curso = 'Frontend'\"\n",
    "\n",
    "mycursor.execute(query)\n",
    "\n",
    "results = mycursor.fetchall()\n",
    "\n",
    "print(results)"
   ]
  },
  {
   "cell_type": "code",
   "execution_count": null,
   "metadata": {},
   "outputs": [],
   "source": [
    "cnx = mysql.connector.connect(user= 'root', password='AlumnaAdalab', host='127.0.0.1', database = 'leccion_crear_tablas')\n",
    "\n",
    "mycursor = cnx.cursor()\n",
    "\n",
    "\n",
    "query = \"SELECT * FROM adalaber WHERE conocimientos_previos IN ('Poco', 'Sin')\"\n",
    "\n",
    "mycursor.execute(query)\n",
    "\n",
    "results = mycursor.fetchall()\n",
    "\n",
    "print(results)"
   ]
  },
  {
   "cell_type": "code",
   "execution_count": null,
   "metadata": {},
   "outputs": [],
   "source": [
    "cnx = mysql.connector.connect(user= 'root', password='AlumnaAdalab', host='127.0.0.1', database = 'leccion_crear_tablas')\n",
    "\n",
    "mycursor = cnx.cursor()\n",
    "\n",
    "\n",
    "query = \"SELECT DISTINCT curso FROM adalaber\"\n",
    "\n",
    "mycursor.execute(query)\n",
    "\n",
    "results = mycursor.fetchall()\n",
    "\n",
    "print(results)"
   ]
  },
  {
   "cell_type": "code",
   "execution_count": null,
   "metadata": {},
   "outputs": [],
   "source": [
    "cnx = mysql.connector.connect(user= 'root', password='AlumnaAdalab', host='127.0.0.1', database = 'leccion_crear_tablas')\n",
    "\n",
    "mycursor = cnx.cursor()\n",
    "\n",
    "\n",
    "query = \"SELECT * FROM adalaber LIMIT 3\"\n",
    "\n",
    "mycursor.execute(query)\n",
    "\n",
    "results = mycursor.fetchall()\n",
    "\n",
    "print(results)"
   ]
  },
  {
   "cell_type": "code",
   "execution_count": 24,
   "metadata": {},
   "outputs": [],
   "source": [
    "cnx.close()"
   ]
  },
  {
   "cell_type": "code",
   "execution_count": 41,
   "metadata": {},
   "outputs": [
    {
     "name": "stdout",
     "output_type": "stream",
     "text": [
      "Conexión establecida con éxito\n"
     ]
    }
   ],
   "source": [
    "try:\n",
    "    cnx = mysql.connector.connect(user= 'root', password='AlumnaAdalab', host='127.0.0.1')\n",
    "    print(\"Conexión establecida con éxito\")\n",
    "except mysql.connector.Error as err:\n",
    "    print(f\"Error al conectar con MySQL: {err}\")\n",
    "\n"
   ]
  },
  {
   "cell_type": "code",
   "execution_count": null,
   "metadata": {},
   "outputs": [],
   "source": [
    "try:\n",
    "    mycursor = cnx.cursor()\n",
    "    query = \"CREATE DATABASE IF NOT EXISTS alumnas_promo_D\"\n",
    "    mycursor.execute(query)\n",
    "    print(\"Query exitosa\")\n",
    "except:\n",
    "    print(\"Error.\")"
   ]
  },
  {
   "cell_type": "code",
   "execution_count": 33,
   "metadata": {},
   "outputs": [],
   "source": [
    "mycursor.execute(\"USE alumnas_promo_D\")\n",
    "\n",
    "query = 'CREATE TABLE IF NOT EXISTS alumnas (id_alumna INT AUTO_INCREMENT PRIMARY KEY, nombre VARCHAR(100), apellidos VARCHAR(100), ciudad VARCHAR(100),telefono VARCHAR(15))'\n",
    "\n",
    "mycursor.execute(query)"
   ]
  },
  {
   "cell_type": "code",
   "execution_count": 34,
   "metadata": {},
   "outputs": [],
   "source": [
    "insert_query = \" INSERT INTO alumnas (nombre, apellidos, ciudad, telefono) VALUES (%s, %s, %s, %s)\"\n",
    "\n",
    "values = ('Ana', 'González', 'Madrid', '600111222')\n",
    "\n",
    "mycursor.execute(insert_query, values)\n",
    "cnx.commit()"
   ]
  },
  {
   "cell_type": "code",
   "execution_count": 35,
   "metadata": {},
   "outputs": [],
   "source": [
    "#También se podría hacer así, pero no son buenas prácticas en bases de datos importantes, ya que es un código más débil\n",
    "#que puede sufrir ataques más fácilmente y podrían ejecutar acciones no autorizadas\n",
    "\n",
    "insert_query = \"\"\"\n",
    "    INSERT INTO alumnas (nombre, apellidos, ciudad, telefono)\n",
    "    VALUES\n",
    "    ('Ana', 'González', 'Madrid', '600111222'),\n",
    "    ('María', 'Pérez', 'Barcelona', '600333444'),\n",
    "    ('Laura', 'López', 'Valencia', '600555666'),\n",
    "    ('Clara', 'Martínez', 'Madrid', '600777888'),\n",
    "    ('Sofía', 'Rodríguez', 'Sevilla', '600999000'),\n",
    "    ('Eva', 'Fernández', 'Barcelona', '601234567'),\n",
    "    ('Carmen', 'García', 'Valencia', '601345678'),\n",
    "    ('Bea', 'Sánchez', 'Madrid', '601456789'),\n",
    "    ('Isabel', 'Romero', 'Sevilla', '601567890'),\n",
    "    ('Julia', 'Vázquez', 'Valencia', '601678901')\n",
    "    \"\"\"\n",
    "mycursor.execute(insert_query)\n",
    "cnx.commit()\n",
    "cnx.close() "
   ]
  },
  {
   "cell_type": "code",
   "execution_count": null,
   "metadata": {},
   "outputs": [],
   "source": [
    "#Cómo guardar solo los datos que he filtrado\n",
    "\n",
    "cnx = mysql.connector.connect(user= 'root', password='AlumnaAdalab', host='127.0.0.1', database = 'alumnas_promo_d')\n",
    "\n",
    "mycursor = cnx.cursor()\n",
    "\n",
    "\n",
    "query = \"SELECT * FROM alumnas WHERE ciudad = 'Madrid'\"\n",
    "\n",
    "mycursor.execute(query)\n",
    "\n",
    "results = mycursor.fetchall()\n",
    "\n",
    "print(results)"
   ]
  },
  {
   "cell_type": "code",
   "execution_count": 37,
   "metadata": {},
   "outputs": [],
   "source": [
    "df_madrid = pd.DataFrame(results, columns= ['id', 'nombre', 'apellidos', 'ciudad', 'tlfn'])"
   ]
  },
  {
   "cell_type": "code",
   "execution_count": null,
   "metadata": {},
   "outputs": [],
   "source": [
    "df_madrid"
   ]
  },
  {
   "cell_type": "code",
   "execution_count": 40,
   "metadata": {},
   "outputs": [],
   "source": [
    "cnx.close()"
   ]
  },
  {
   "cell_type": "code",
   "execution_count": 6,
   "metadata": {},
   "outputs": [
    {
     "name": "stdout",
     "output_type": "stream",
     "text": [
      "Conexión establecida con éxito\n"
     ]
    }
   ],
   "source": [
    "import mysql.connector\n",
    "\n",
    "# Establecer la conexión\n",
    "cnx = mysql.connector.connect(\n",
    "    user='root', \n",
    "    password='AlumnaAdalab', \n",
    "    host='127.0.0.1'\n",
    ")\n",
    "\n",
    "print(\"Conexión establecida con éxito\")"
   ]
  },
  {
   "cell_type": "code",
   "execution_count": 7,
   "metadata": {},
   "outputs": [],
   "source": [
    "mycursor = cnx.cursor()"
   ]
  },
  {
   "cell_type": "code",
   "execution_count": 8,
   "metadata": {},
   "outputs": [],
   "source": [
    "query = \"USE videoclub\"\n",
    "mycursor.execute(query)"
   ]
  },
  {
   "cell_type": "code",
   "execution_count": 10,
   "metadata": {},
   "outputs": [],
   "source": [
    "query = \"INSERT INTO clientes (nombre, apellido, direccion, telefono, email, fecha_registro) VALUES (%s, %s, %s, %s, %s, %s)\"\n",
    "values = [('Ana', 'Martínez', 'Calle Luna 101', '555-1122', 'ana.martinez@example.com', '2023-04-01'), ('Jorge', 'Ramírez', 'Av. Sol 202', '555-3344', 'jorge.ramirez@example.com', '2023-05-15'), ('María', 'Fernández', 'Calle Estrella 303', '555-5566', 'maria.fernandez@example.com', '2023-06-20'), ('Pedro', 'Sánchez', 'Av. Libertad 404', '555-7788', 'pedro.sanchez@example.com', '2023-07-10'), ('Sofía', 'Gómez', 'Calle Unión 505', '555-9900', 'sofia.gomez@example.com', '2023-08-25'), ('Luis', 'Torres', 'Av. Central 606', '555-2233', 'luis.torres@example.com', '2023-09-05'), ('Claudia', 'Ruiz', 'Calle Norte 707', '555-4455', 'claudia.ruiz@example.com', '2023-10-10'), ('Fernando', 'Vega', 'Av. Sur 808', '555-6677', 'fernando.vega@example.com', '2023-11-20'), ('Elena', 'Díaz', 'Calle Este 909', '555-8899', 'elena.diaz@example.com', '2023-12-01'), ('Ricardo', 'Morales', 'Av. Oeste 010', '555-0000', 'ricardo.morales@example.com', '2024-01-15')]\n",
    "mycursor.executemany(query, values)"
   ]
  },
  {
   "cell_type": "code",
   "execution_count": 11,
   "metadata": {},
   "outputs": [
    {
     "name": "stdout",
     "output_type": "stream",
     "text": [
      "[(1, 'Carlos', 'García', 'Av. Principal 123', '555-1234', 'carlos@example.com', datetime.date(2023, 1, 15)), (2, 'Lucía', 'Pérez', 'Calle Secundaria 45', '555-5678', 'lucia@example.com', datetime.date(2023, 2, 20)), (3, 'Miguel', 'Lopez', 'Av. Tercera 789', '555-9876', 'miguel@example.com', datetime.date(2023, 3, 10)), (4, 'Ana', 'Martínez', 'Calle Luna 101', '555-1122', 'ana.martinez@example.com', datetime.date(2023, 4, 1)), (5, 'Jorge', 'Ramírez', 'Av. Sol 202', '555-3344', 'jorge.ramirez@example.com', datetime.date(2023, 5, 15)), (6, 'María', 'Fernández', 'Calle Estrella 303', '555-5566', 'maria.fernandez@example.com', datetime.date(2023, 6, 20)), (7, 'Pedro', 'Sánchez', 'Av. Libertad 404', '555-7788', 'pedro.sanchez@example.com', datetime.date(2023, 7, 10)), (8, 'Sofía', 'Gómez', 'Calle Unión 505', '555-9900', 'sofia.gomez@example.com', datetime.date(2023, 8, 25)), (9, 'Luis', 'Torres', 'Av. Central 606', '555-2233', 'luis.torres@example.com', datetime.date(2023, 9, 5)), (10, 'Claudia', 'Ruiz', 'Calle Norte 707', '555-4455', 'claudia.ruiz@example.com', datetime.date(2023, 10, 10)), (11, 'Fernando', 'Vega', 'Av. Sur 808', '555-6677', 'fernando.vega@example.com', datetime.date(2023, 11, 20)), (12, 'Elena', 'Díaz', 'Calle Este 909', '555-8899', 'elena.diaz@example.com', datetime.date(2023, 12, 1)), (13, 'Ricardo', 'Morales', 'Av. Oeste 010', '555-0000', 'ricardo.morales@example.com', datetime.date(2024, 1, 15))]\n"
     ]
    }
   ],
   "source": [
    "mycursor.execute('SELECT * FROM clientes')\n",
    "myresults = mycursor.fetchall()\n",
    "\n",
    "print(myresults)"
   ]
  },
  {
   "cell_type": "code",
   "execution_count": 12,
   "metadata": {},
   "outputs": [],
   "source": [
    "import pandas as pd"
   ]
  },
  {
   "cell_type": "code",
   "execution_count": 14,
   "metadata": {},
   "outputs": [],
   "source": [
    "df_videoclub = pd.DataFrame(myresults, columns = ['id', 'nombre', 'apellido', 'direccion', 'telefono', 'email', 'fecha_registro'])"
   ]
  },
  {
   "cell_type": "code",
   "execution_count": 15,
   "metadata": {},
   "outputs": [
    {
     "data": {
      "text/html": [
       "<div>\n",
       "<style scoped>\n",
       "    .dataframe tbody tr th:only-of-type {\n",
       "        vertical-align: middle;\n",
       "    }\n",
       "\n",
       "    .dataframe tbody tr th {\n",
       "        vertical-align: top;\n",
       "    }\n",
       "\n",
       "    .dataframe thead th {\n",
       "        text-align: right;\n",
       "    }\n",
       "</style>\n",
       "<table border=\"1\" class=\"dataframe\">\n",
       "  <thead>\n",
       "    <tr style=\"text-align: right;\">\n",
       "      <th></th>\n",
       "      <th>id</th>\n",
       "      <th>nombre</th>\n",
       "      <th>apellido</th>\n",
       "      <th>direccion</th>\n",
       "      <th>telefono</th>\n",
       "      <th>email</th>\n",
       "      <th>fecha_registro</th>\n",
       "    </tr>\n",
       "  </thead>\n",
       "  <tbody>\n",
       "    <tr>\n",
       "      <th>0</th>\n",
       "      <td>1</td>\n",
       "      <td>Carlos</td>\n",
       "      <td>García</td>\n",
       "      <td>Av. Principal 123</td>\n",
       "      <td>555-1234</td>\n",
       "      <td>carlos@example.com</td>\n",
       "      <td>2023-01-15</td>\n",
       "    </tr>\n",
       "    <tr>\n",
       "      <th>1</th>\n",
       "      <td>2</td>\n",
       "      <td>Lucía</td>\n",
       "      <td>Pérez</td>\n",
       "      <td>Calle Secundaria 45</td>\n",
       "      <td>555-5678</td>\n",
       "      <td>lucia@example.com</td>\n",
       "      <td>2023-02-20</td>\n",
       "    </tr>\n",
       "    <tr>\n",
       "      <th>2</th>\n",
       "      <td>3</td>\n",
       "      <td>Miguel</td>\n",
       "      <td>Lopez</td>\n",
       "      <td>Av. Tercera 789</td>\n",
       "      <td>555-9876</td>\n",
       "      <td>miguel@example.com</td>\n",
       "      <td>2023-03-10</td>\n",
       "    </tr>\n",
       "    <tr>\n",
       "      <th>3</th>\n",
       "      <td>4</td>\n",
       "      <td>Ana</td>\n",
       "      <td>Martínez</td>\n",
       "      <td>Calle Luna 101</td>\n",
       "      <td>555-1122</td>\n",
       "      <td>ana.martinez@example.com</td>\n",
       "      <td>2023-04-01</td>\n",
       "    </tr>\n",
       "    <tr>\n",
       "      <th>4</th>\n",
       "      <td>5</td>\n",
       "      <td>Jorge</td>\n",
       "      <td>Ramírez</td>\n",
       "      <td>Av. Sol 202</td>\n",
       "      <td>555-3344</td>\n",
       "      <td>jorge.ramirez@example.com</td>\n",
       "      <td>2023-05-15</td>\n",
       "    </tr>\n",
       "    <tr>\n",
       "      <th>5</th>\n",
       "      <td>6</td>\n",
       "      <td>María</td>\n",
       "      <td>Fernández</td>\n",
       "      <td>Calle Estrella 303</td>\n",
       "      <td>555-5566</td>\n",
       "      <td>maria.fernandez@example.com</td>\n",
       "      <td>2023-06-20</td>\n",
       "    </tr>\n",
       "    <tr>\n",
       "      <th>6</th>\n",
       "      <td>7</td>\n",
       "      <td>Pedro</td>\n",
       "      <td>Sánchez</td>\n",
       "      <td>Av. Libertad 404</td>\n",
       "      <td>555-7788</td>\n",
       "      <td>pedro.sanchez@example.com</td>\n",
       "      <td>2023-07-10</td>\n",
       "    </tr>\n",
       "    <tr>\n",
       "      <th>7</th>\n",
       "      <td>8</td>\n",
       "      <td>Sofía</td>\n",
       "      <td>Gómez</td>\n",
       "      <td>Calle Unión 505</td>\n",
       "      <td>555-9900</td>\n",
       "      <td>sofia.gomez@example.com</td>\n",
       "      <td>2023-08-25</td>\n",
       "    </tr>\n",
       "    <tr>\n",
       "      <th>8</th>\n",
       "      <td>9</td>\n",
       "      <td>Luis</td>\n",
       "      <td>Torres</td>\n",
       "      <td>Av. Central 606</td>\n",
       "      <td>555-2233</td>\n",
       "      <td>luis.torres@example.com</td>\n",
       "      <td>2023-09-05</td>\n",
       "    </tr>\n",
       "    <tr>\n",
       "      <th>9</th>\n",
       "      <td>10</td>\n",
       "      <td>Claudia</td>\n",
       "      <td>Ruiz</td>\n",
       "      <td>Calle Norte 707</td>\n",
       "      <td>555-4455</td>\n",
       "      <td>claudia.ruiz@example.com</td>\n",
       "      <td>2023-10-10</td>\n",
       "    </tr>\n",
       "    <tr>\n",
       "      <th>10</th>\n",
       "      <td>11</td>\n",
       "      <td>Fernando</td>\n",
       "      <td>Vega</td>\n",
       "      <td>Av. Sur 808</td>\n",
       "      <td>555-6677</td>\n",
       "      <td>fernando.vega@example.com</td>\n",
       "      <td>2023-11-20</td>\n",
       "    </tr>\n",
       "    <tr>\n",
       "      <th>11</th>\n",
       "      <td>12</td>\n",
       "      <td>Elena</td>\n",
       "      <td>Díaz</td>\n",
       "      <td>Calle Este 909</td>\n",
       "      <td>555-8899</td>\n",
       "      <td>elena.diaz@example.com</td>\n",
       "      <td>2023-12-01</td>\n",
       "    </tr>\n",
       "    <tr>\n",
       "      <th>12</th>\n",
       "      <td>13</td>\n",
       "      <td>Ricardo</td>\n",
       "      <td>Morales</td>\n",
       "      <td>Av. Oeste 010</td>\n",
       "      <td>555-0000</td>\n",
       "      <td>ricardo.morales@example.com</td>\n",
       "      <td>2024-01-15</td>\n",
       "    </tr>\n",
       "  </tbody>\n",
       "</table>\n",
       "</div>"
      ],
      "text/plain": [
       "    id    nombre   apellido            direccion  telefono  \\\n",
       "0    1    Carlos     García    Av. Principal 123  555-1234   \n",
       "1    2     Lucía      Pérez  Calle Secundaria 45  555-5678   \n",
       "2    3    Miguel      Lopez      Av. Tercera 789  555-9876   \n",
       "3    4       Ana   Martínez       Calle Luna 101  555-1122   \n",
       "4    5     Jorge    Ramírez          Av. Sol 202  555-3344   \n",
       "5    6     María  Fernández   Calle Estrella 303  555-5566   \n",
       "6    7     Pedro    Sánchez     Av. Libertad 404  555-7788   \n",
       "7    8     Sofía      Gómez      Calle Unión 505  555-9900   \n",
       "8    9      Luis     Torres      Av. Central 606  555-2233   \n",
       "9   10   Claudia       Ruiz      Calle Norte 707  555-4455   \n",
       "10  11  Fernando       Vega          Av. Sur 808  555-6677   \n",
       "11  12     Elena       Díaz       Calle Este 909  555-8899   \n",
       "12  13   Ricardo    Morales        Av. Oeste 010  555-0000   \n",
       "\n",
       "                          email fecha_registro  \n",
       "0            carlos@example.com     2023-01-15  \n",
       "1             lucia@example.com     2023-02-20  \n",
       "2            miguel@example.com     2023-03-10  \n",
       "3      ana.martinez@example.com     2023-04-01  \n",
       "4     jorge.ramirez@example.com     2023-05-15  \n",
       "5   maria.fernandez@example.com     2023-06-20  \n",
       "6     pedro.sanchez@example.com     2023-07-10  \n",
       "7       sofia.gomez@example.com     2023-08-25  \n",
       "8       luis.torres@example.com     2023-09-05  \n",
       "9      claudia.ruiz@example.com     2023-10-10  \n",
       "10    fernando.vega@example.com     2023-11-20  \n",
       "11       elena.diaz@example.com     2023-12-01  \n",
       "12  ricardo.morales@example.com     2024-01-15  "
      ]
     },
     "execution_count": 15,
     "metadata": {},
     "output_type": "execute_result"
    }
   ],
   "source": [
    "df_videoclub"
   ]
  },
  {
   "cell_type": "code",
   "execution_count": 16,
   "metadata": {},
   "outputs": [
    {
     "ename": "NameError",
     "evalue": "name 'python' is not defined",
     "output_type": "error",
     "traceback": [
      "\u001b[1;31m---------------------------------------------------------------------------\u001b[0m",
      "\u001b[1;31mNameError\u001b[0m                                 Traceback (most recent call last)",
      "Cell \u001b[1;32mIn[16], line 1\u001b[0m\n\u001b[1;32m----> 1\u001b[0m \u001b[43mpython\u001b[49m \u001b[38;5;241m-\u001b[39m\u001b[38;5;241m-\u001b[39mversion\n",
      "\u001b[1;31mNameError\u001b[0m: name 'python' is not defined"
     ]
    }
   ],
   "source": [
    "python --version\n"
   ]
  }
 ],
 "metadata": {
  "kernelspec": {
   "display_name": "Python 3",
   "language": "python",
   "name": "python3"
  },
  "language_info": {
   "codemirror_mode": {
    "name": "ipython",
    "version": 3
   },
   "file_extension": ".py",
   "mimetype": "text/x-python",
   "name": "python",
   "nbconvert_exporter": "python",
   "pygments_lexer": "ipython3",
   "version": "3.11.9"
  }
 },
 "nbformat": 4,
 "nbformat_minor": 2
}
