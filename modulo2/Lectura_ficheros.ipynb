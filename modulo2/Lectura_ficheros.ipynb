{
 "cells": [
  {
   "cell_type": "markdown",
   "metadata": {},
   "source": [
    "# LECTURA DE FICHEROS\n",
    "\n",
    "### Vamos a explorar...\n",
    "\n",
    "- XML\n",
    "- JSON\n",
    "- CSV\n",
    "- EXCEL\n"
   ]
  },
  {
   "cell_type": "markdown",
   "metadata": {},
   "source": [
    "### XML\n",
    "\n",
    "- \"Lenguaje de Marcado Extensible\". Es decir, es un lenguaje que utiliza etiquetas.\n",
    "- Su objetivo es estructurar datos, guardarlos para luego poder utilizarlos.\n",
    "- Usos: almacenamiento de datos, almacenar datos en la web."
   ]
  },
  {
   "cell_type": "code",
   "execution_count": null,
   "metadata": {},
   "outputs": [],
   "source": [
    "\"\"\" <libros>\n",
    "    <libro>\n",
    "        <titulo>El Principito</titulo>\n",
    "        <autor>Antoine de Saint-Exupéry</autor>\n",
    "        <año>1943</año>\n",
    "    </libro>\n",
    "    <libro>\n",
    "        <titulo>1984</titulo>\n",
    "        <autor>George Orwell</autor>\n",
    "        <año>1949</año>\n",
    "    </libro>\n",
    "</libros> \"\"\" "
   ]
  },
  {
   "cell_type": "markdown",
   "metadata": {},
   "source": [
    "### JSON\n",
    "- Ya lo hemos visto, pero son estructuras basadas en pares clave-valor y listas.\n",
    ">>"
   ]
  },
  {
   "cell_type": "code",
   "execution_count": null,
   "metadata": {},
   "outputs": [],
   "source": [
    "\"\"\"{ \"nombre\": \"Juan\",\n",
    "  \"edad\": 30,\n",
    "  \"país\": \"México\" \n",
    "}\"\"\""
   ]
  },
  {
   "cell_type": "markdown",
   "metadata": {},
   "source": [
    "### CSV\n",
    "- Archivo en forma de tabla donde cada lína representa una fila y las columnas están separadas por comas (a veces por punto y coma):"
   ]
  },
  {
   "cell_type": "code",
   "execution_count": null,
   "metadata": {},
   "outputs": [],
   "source": [
    "\"\"\" Nombre,Edad,País\n",
    "Juan,30,México\n",
    "María,25,España\"\"\""
   ]
  },
  {
   "cell_type": "markdown",
   "metadata": {},
   "source": [
    "### EXCEL\n",
    "\n",
    "- Ya nos sonará bastante. Se utiliza para almacenar datos en hojas de cálculo"
   ]
  },
  {
   "cell_type": "markdown",
   "metadata": {},
   "source": [
    "Normalmente tendremos una variable donde guardaremos el fichero. Para leer el fichero utilizaremos la librería pandas.\n",
    "La usaremos MUCHO MUCHO\n",
    "Nos va a ser MUY útil para manejar datos\n"
   ]
  },
  {
   "cell_type": "code",
   "execution_count": 9,
   "metadata": {},
   "outputs": [],
   "source": [
    "import pandas as pd"
   ]
  },
  {
   "cell_type": "code",
   "execution_count": null,
   "metadata": {},
   "outputs": [],
   "source": [
    "df dataframe / dataset"
   ]
  },
  {
   "cell_type": "code",
   "execution_count": null,
   "metadata": {},
   "outputs": [],
   "source": [
    "#La estructura sería\n",
    "\n",
    "nombre_variable = pd.read_json/xml/csv(\"personajes_pelicula.json\")\n"
   ]
  },
  {
   "cell_type": "markdown",
   "metadata": {},
   "source": [
    "### LEER UN JSON"
   ]
  },
  {
   "cell_type": "code",
   "execution_count": 10,
   "metadata": {},
   "outputs": [],
   "source": [
    "df_onepiece = pd.read_json(\"one_piece.json\") #metemos el archivo en la misma carpeta donde está este notebook"
   ]
  },
  {
   "cell_type": "code",
   "execution_count": 11,
   "metadata": {},
   "outputs": [
    {
     "data": {
      "text/html": [
       "<div>\n",
       "<style scoped>\n",
       "    .dataframe tbody tr th:only-of-type {\n",
       "        vertical-align: middle;\n",
       "    }\n",
       "\n",
       "    .dataframe tbody tr th {\n",
       "        vertical-align: top;\n",
       "    }\n",
       "\n",
       "    .dataframe thead th {\n",
       "        text-align: right;\n",
       "    }\n",
       "</style>\n",
       "<table border=\"1\" class=\"dataframe\">\n",
       "  <thead>\n",
       "    <tr style=\"text-align: right;\">\n",
       "      <th></th>\n",
       "      <th>rank</th>\n",
       "      <th>trend</th>\n",
       "      <th>season</th>\n",
       "      <th>episode</th>\n",
       "      <th>name</th>\n",
       "      <th>start</th>\n",
       "      <th>total_votes</th>\n",
       "      <th>average_rating</th>\n",
       "    </tr>\n",
       "  </thead>\n",
       "  <tbody>\n",
       "    <tr>\n",
       "      <th>0</th>\n",
       "      <td>24,129</td>\n",
       "      <td>18</td>\n",
       "      <td>1</td>\n",
       "      <td>1</td>\n",
       "      <td>I'm Luffy! The Man Who Will Become the Pirate ...</td>\n",
       "      <td>1999</td>\n",
       "      <td>647</td>\n",
       "      <td>7.6</td>\n",
       "    </tr>\n",
       "    <tr>\n",
       "      <th>1</th>\n",
       "      <td>29,290</td>\n",
       "      <td>11</td>\n",
       "      <td>1</td>\n",
       "      <td>2</td>\n",
       "      <td>The Great Swordsman Appears! Pirate Hunter, Ro...</td>\n",
       "      <td>1999</td>\n",
       "      <td>473</td>\n",
       "      <td>7.8</td>\n",
       "    </tr>\n",
       "    <tr>\n",
       "      <th>2</th>\n",
       "      <td>32,043</td>\n",
       "      <td>7</td>\n",
       "      <td>1</td>\n",
       "      <td>3</td>\n",
       "      <td>Morgan vs. Luffy! Who's This Beautiful Young G...</td>\n",
       "      <td>1999</td>\n",
       "      <td>428</td>\n",
       "      <td>7.7</td>\n",
       "    </tr>\n",
       "    <tr>\n",
       "      <th>3</th>\n",
       "      <td>28,818</td>\n",
       "      <td>8</td>\n",
       "      <td>1</td>\n",
       "      <td>4</td>\n",
       "      <td>Luffy's Past! The Red-haired Shanks Appears!</td>\n",
       "      <td>1999</td>\n",
       "      <td>449</td>\n",
       "      <td>8.1</td>\n",
       "    </tr>\n",
       "    <tr>\n",
       "      <th>4</th>\n",
       "      <td>37,113</td>\n",
       "      <td>4</td>\n",
       "      <td>1</td>\n",
       "      <td>5</td>\n",
       "      <td>Fear, Mysterious Power! Pirate Clown Captain B...</td>\n",
       "      <td>1999</td>\n",
       "      <td>370</td>\n",
       "      <td>7.5</td>\n",
       "    </tr>\n",
       "    <tr>\n",
       "      <th>5</th>\n",
       "      <td>36,209</td>\n",
       "      <td>4</td>\n",
       "      <td>1</td>\n",
       "      <td>6</td>\n",
       "      <td>Desperate Situation! Beast Tamer Mohji vs. Luffy!</td>\n",
       "      <td>1999</td>\n",
       "      <td>364</td>\n",
       "      <td>7.7</td>\n",
       "    </tr>\n",
       "  </tbody>\n",
       "</table>\n",
       "</div>"
      ],
      "text/plain": [
       "     rank  trend  season  episode  \\\n",
       "0  24,129     18       1        1   \n",
       "1  29,290     11       1        2   \n",
       "2  32,043      7       1        3   \n",
       "3  28,818      8       1        4   \n",
       "4  37,113      4       1        5   \n",
       "5  36,209      4       1        6   \n",
       "\n",
       "                                                name  start  total_votes  \\\n",
       "0  I'm Luffy! The Man Who Will Become the Pirate ...   1999          647   \n",
       "1  The Great Swordsman Appears! Pirate Hunter, Ro...   1999          473   \n",
       "2  Morgan vs. Luffy! Who's This Beautiful Young G...   1999          428   \n",
       "3       Luffy's Past! The Red-haired Shanks Appears!   1999          449   \n",
       "4  Fear, Mysterious Power! Pirate Clown Captain B...   1999          370   \n",
       "5  Desperate Situation! Beast Tamer Mohji vs. Luffy!   1999          364   \n",
       "\n",
       "   average_rating  \n",
       "0             7.6  \n",
       "1             7.8  \n",
       "2             7.7  \n",
       "3             8.1  \n",
       "4             7.5  \n",
       "5             7.7  "
      ]
     },
     "execution_count": 11,
     "metadata": {},
     "output_type": "execute_result"
    }
   ],
   "source": [
    "df_onepiece"
   ]
  },
  {
   "cell_type": "code",
   "execution_count": null,
   "metadata": {},
   "outputs": [
    {
     "data": {
      "text/html": [
       "<div>\n",
       "<style scoped>\n",
       "    .dataframe tbody tr th:only-of-type {\n",
       "        vertical-align: middle;\n",
       "    }\n",
       "\n",
       "    .dataframe tbody tr th {\n",
       "        vertical-align: top;\n",
       "    }\n",
       "\n",
       "    .dataframe thead th {\n",
       "        text-align: right;\n",
       "    }\n",
       "</style>\n",
       "<table border=\"1\" class=\"dataframe\">\n",
       "  <thead>\n",
       "    <tr style=\"text-align: right;\">\n",
       "      <th></th>\n",
       "      <th>rank</th>\n",
       "      <th>trend</th>\n",
       "      <th>season</th>\n",
       "      <th>episode</th>\n",
       "      <th>name</th>\n",
       "      <th>start</th>\n",
       "      <th>total_votes</th>\n",
       "      <th>average_rating</th>\n",
       "    </tr>\n",
       "  </thead>\n",
       "  <tbody>\n",
       "    <tr>\n",
       "      <th>0</th>\n",
       "      <td>24,129</td>\n",
       "      <td>18</td>\n",
       "      <td>1</td>\n",
       "      <td>1</td>\n",
       "      <td>I'm Luffy! The Man Who Will Become the Pirate ...</td>\n",
       "      <td>1999</td>\n",
       "      <td>647</td>\n",
       "      <td>7.6</td>\n",
       "    </tr>\n",
       "  </tbody>\n",
       "</table>\n",
       "</div>"
      ],
      "text/plain": [
       "     rank  trend  season  episode  \\\n",
       "0  24,129     18       1        1   \n",
       "\n",
       "                                                name  start  total_votes  \\\n",
       "0  I'm Luffy! The Man Who Will Become the Pirate ...   1999          647   \n",
       "\n",
       "   average_rating  \n",
       "0             7.6  "
      ]
     },
     "execution_count": 14,
     "metadata": {},
     "output_type": "execute_result"
    }
   ],
   "source": [
    "df_onepiece.head(10) #cuidado con el nombre que le demos al fichero"
   ]
  },
  {
   "cell_type": "code",
   "execution_count": 17,
   "metadata": {},
   "outputs": [
    {
     "data": {
      "text/html": [
       "<div>\n",
       "<style scoped>\n",
       "    .dataframe tbody tr th:only-of-type {\n",
       "        vertical-align: middle;\n",
       "    }\n",
       "\n",
       "    .dataframe tbody tr th {\n",
       "        vertical-align: top;\n",
       "    }\n",
       "\n",
       "    .dataframe thead th {\n",
       "        text-align: right;\n",
       "    }\n",
       "</style>\n",
       "<table border=\"1\" class=\"dataframe\">\n",
       "  <thead>\n",
       "    <tr style=\"text-align: right;\">\n",
       "      <th></th>\n",
       "      <th>rank</th>\n",
       "      <th>trend</th>\n",
       "      <th>season</th>\n",
       "      <th>episode</th>\n",
       "      <th>name</th>\n",
       "      <th>start</th>\n",
       "      <th>total_votes</th>\n",
       "      <th>average_rating</th>\n",
       "    </tr>\n",
       "  </thead>\n",
       "  <tbody>\n",
       "    <tr>\n",
       "      <th>3</th>\n",
       "      <td>28,818</td>\n",
       "      <td>8</td>\n",
       "      <td>1</td>\n",
       "      <td>4</td>\n",
       "      <td>Luffy's Past! The Red-haired Shanks Appears!</td>\n",
       "      <td>1999</td>\n",
       "      <td>449</td>\n",
       "      <td>8.1</td>\n",
       "    </tr>\n",
       "    <tr>\n",
       "      <th>4</th>\n",
       "      <td>37,113</td>\n",
       "      <td>4</td>\n",
       "      <td>1</td>\n",
       "      <td>5</td>\n",
       "      <td>Fear, Mysterious Power! Pirate Clown Captain B...</td>\n",
       "      <td>1999</td>\n",
       "      <td>370</td>\n",
       "      <td>7.5</td>\n",
       "    </tr>\n",
       "    <tr>\n",
       "      <th>5</th>\n",
       "      <td>36,209</td>\n",
       "      <td>4</td>\n",
       "      <td>1</td>\n",
       "      <td>6</td>\n",
       "      <td>Desperate Situation! Beast Tamer Mohji vs. Luffy!</td>\n",
       "      <td>1999</td>\n",
       "      <td>364</td>\n",
       "      <td>7.7</td>\n",
       "    </tr>\n",
       "  </tbody>\n",
       "</table>\n",
       "</div>"
      ],
      "text/plain": [
       "     rank  trend  season  episode  \\\n",
       "3  28,818      8       1        4   \n",
       "4  37,113      4       1        5   \n",
       "5  36,209      4       1        6   \n",
       "\n",
       "                                                name  start  total_votes  \\\n",
       "3       Luffy's Past! The Red-haired Shanks Appears!   1999          449   \n",
       "4  Fear, Mysterious Power! Pirate Clown Captain B...   1999          370   \n",
       "5  Desperate Situation! Beast Tamer Mohji vs. Luffy!   1999          364   \n",
       "\n",
       "   average_rating  \n",
       "3             8.1  \n",
       "4             7.5  \n",
       "5             7.7  "
      ]
     },
     "execution_count": 17,
     "metadata": {},
     "output_type": "execute_result"
    }
   ],
   "source": [
    "df_onepiece.tail(3)"
   ]
  },
  {
   "cell_type": "code",
   "execution_count": 16,
   "metadata": {},
   "outputs": [
    {
     "data": {
      "text/html": [
       "<div>\n",
       "<style scoped>\n",
       "    .dataframe tbody tr th:only-of-type {\n",
       "        vertical-align: middle;\n",
       "    }\n",
       "\n",
       "    .dataframe tbody tr th {\n",
       "        vertical-align: top;\n",
       "    }\n",
       "\n",
       "    .dataframe thead th {\n",
       "        text-align: right;\n",
       "    }\n",
       "</style>\n",
       "<table border=\"1\" class=\"dataframe\">\n",
       "  <thead>\n",
       "    <tr style=\"text-align: right;\">\n",
       "      <th></th>\n",
       "      <th>rank</th>\n",
       "      <th>trend</th>\n",
       "      <th>season</th>\n",
       "      <th>episode</th>\n",
       "      <th>name</th>\n",
       "      <th>start</th>\n",
       "      <th>total_votes</th>\n",
       "      <th>average_rating</th>\n",
       "    </tr>\n",
       "  </thead>\n",
       "  <tbody>\n",
       "    <tr>\n",
       "      <th>5</th>\n",
       "      <td>36,209</td>\n",
       "      <td>4</td>\n",
       "      <td>1</td>\n",
       "      <td>6</td>\n",
       "      <td>Desperate Situation! Beast Tamer Mohji vs. Luffy!</td>\n",
       "      <td>1999</td>\n",
       "      <td>364</td>\n",
       "      <td>7.7</td>\n",
       "    </tr>\n",
       "    <tr>\n",
       "      <th>1</th>\n",
       "      <td>29,290</td>\n",
       "      <td>11</td>\n",
       "      <td>1</td>\n",
       "      <td>2</td>\n",
       "      <td>The Great Swordsman Appears! Pirate Hunter, Ro...</td>\n",
       "      <td>1999</td>\n",
       "      <td>473</td>\n",
       "      <td>7.8</td>\n",
       "    </tr>\n",
       "    <tr>\n",
       "      <th>2</th>\n",
       "      <td>32,043</td>\n",
       "      <td>7</td>\n",
       "      <td>1</td>\n",
       "      <td>3</td>\n",
       "      <td>Morgan vs. Luffy! Who's This Beautiful Young G...</td>\n",
       "      <td>1999</td>\n",
       "      <td>428</td>\n",
       "      <td>7.7</td>\n",
       "    </tr>\n",
       "  </tbody>\n",
       "</table>\n",
       "</div>"
      ],
      "text/plain": [
       "     rank  trend  season  episode  \\\n",
       "5  36,209      4       1        6   \n",
       "1  29,290     11       1        2   \n",
       "2  32,043      7       1        3   \n",
       "\n",
       "                                                name  start  total_votes  \\\n",
       "5  Desperate Situation! Beast Tamer Mohji vs. Luffy!   1999          364   \n",
       "1  The Great Swordsman Appears! Pirate Hunter, Ro...   1999          473   \n",
       "2  Morgan vs. Luffy! Who's This Beautiful Young G...   1999          428   \n",
       "\n",
       "   average_rating  \n",
       "5             7.7  \n",
       "1             7.8  \n",
       "2             7.7  "
      ]
     },
     "execution_count": 16,
     "metadata": {},
     "output_type": "execute_result"
    }
   ],
   "source": [
    "df_onepiece.sample(5)"
   ]
  },
  {
   "cell_type": "code",
   "execution_count": 18,
   "metadata": {},
   "outputs": [
    {
     "data": {
      "text/html": [
       "<div>\n",
       "<style scoped>\n",
       "    .dataframe tbody tr th:only-of-type {\n",
       "        vertical-align: middle;\n",
       "    }\n",
       "\n",
       "    .dataframe tbody tr th {\n",
       "        vertical-align: top;\n",
       "    }\n",
       "\n",
       "    .dataframe thead th {\n",
       "        text-align: right;\n",
       "    }\n",
       "</style>\n",
       "<table border=\"1\" class=\"dataframe\">\n",
       "  <thead>\n",
       "    <tr style=\"text-align: right;\">\n",
       "      <th></th>\n",
       "      <th>rank</th>\n",
       "      <th>trend</th>\n",
       "      <th>season</th>\n",
       "      <th>episode</th>\n",
       "      <th>name</th>\n",
       "      <th>start</th>\n",
       "      <th>total_votes</th>\n",
       "      <th>average_rating</th>\n",
       "    </tr>\n",
       "  </thead>\n",
       "  <tbody>\n",
       "    <tr>\n",
       "      <th>0</th>\n",
       "      <td>False</td>\n",
       "      <td>False</td>\n",
       "      <td>False</td>\n",
       "      <td>False</td>\n",
       "      <td>False</td>\n",
       "      <td>False</td>\n",
       "      <td>False</td>\n",
       "      <td>False</td>\n",
       "    </tr>\n",
       "    <tr>\n",
       "      <th>1</th>\n",
       "      <td>False</td>\n",
       "      <td>False</td>\n",
       "      <td>False</td>\n",
       "      <td>False</td>\n",
       "      <td>False</td>\n",
       "      <td>False</td>\n",
       "      <td>False</td>\n",
       "      <td>False</td>\n",
       "    </tr>\n",
       "    <tr>\n",
       "      <th>2</th>\n",
       "      <td>False</td>\n",
       "      <td>False</td>\n",
       "      <td>False</td>\n",
       "      <td>False</td>\n",
       "      <td>False</td>\n",
       "      <td>False</td>\n",
       "      <td>False</td>\n",
       "      <td>False</td>\n",
       "    </tr>\n",
       "    <tr>\n",
       "      <th>3</th>\n",
       "      <td>False</td>\n",
       "      <td>False</td>\n",
       "      <td>False</td>\n",
       "      <td>False</td>\n",
       "      <td>False</td>\n",
       "      <td>False</td>\n",
       "      <td>False</td>\n",
       "      <td>False</td>\n",
       "    </tr>\n",
       "    <tr>\n",
       "      <th>4</th>\n",
       "      <td>False</td>\n",
       "      <td>False</td>\n",
       "      <td>False</td>\n",
       "      <td>False</td>\n",
       "      <td>False</td>\n",
       "      <td>False</td>\n",
       "      <td>False</td>\n",
       "      <td>False</td>\n",
       "    </tr>\n",
       "    <tr>\n",
       "      <th>5</th>\n",
       "      <td>False</td>\n",
       "      <td>False</td>\n",
       "      <td>False</td>\n",
       "      <td>False</td>\n",
       "      <td>False</td>\n",
       "      <td>False</td>\n",
       "      <td>False</td>\n",
       "      <td>False</td>\n",
       "    </tr>\n",
       "  </tbody>\n",
       "</table>\n",
       "</div>"
      ],
      "text/plain": [
       "    rank  trend  season  episode   name  start  total_votes  average_rating\n",
       "0  False  False   False    False  False  False        False           False\n",
       "1  False  False   False    False  False  False        False           False\n",
       "2  False  False   False    False  False  False        False           False\n",
       "3  False  False   False    False  False  False        False           False\n",
       "4  False  False   False    False  False  False        False           False\n",
       "5  False  False   False    False  False  False        False           False"
      ]
     },
     "execution_count": 18,
     "metadata": {},
     "output_type": "execute_result"
    }
   ],
   "source": [
    "df_onepiece.isnull()"
   ]
  },
  {
   "cell_type": "code",
   "execution_count": 19,
   "metadata": {},
   "outputs": [
    {
     "data": {
      "text/plain": [
       "rank              0\n",
       "trend             0\n",
       "season            0\n",
       "episode           0\n",
       "name              0\n",
       "start             0\n",
       "total_votes       0\n",
       "average_rating    0\n",
       "dtype: int64"
      ]
     },
     "execution_count": 19,
     "metadata": {},
     "output_type": "execute_result"
    }
   ],
   "source": [
    "df_onepiece.isnull().sum()"
   ]
  },
  {
   "cell_type": "code",
   "execution_count": 20,
   "metadata": {},
   "outputs": [
    {
     "name": "stdout",
     "output_type": "stream",
     "text": [
      "<class 'pandas.core.frame.DataFrame'>\n",
      "RangeIndex: 6 entries, 0 to 5\n",
      "Data columns (total 8 columns):\n",
      " #   Column          Non-Null Count  Dtype  \n",
      "---  ------          --------------  -----  \n",
      " 0   rank            6 non-null      object \n",
      " 1   trend           6 non-null      int64  \n",
      " 2   season          6 non-null      int64  \n",
      " 3   episode         6 non-null      int64  \n",
      " 4   name            6 non-null      object \n",
      " 5   start           6 non-null      int64  \n",
      " 6   total_votes     6 non-null      int64  \n",
      " 7   average_rating  6 non-null      float64\n",
      "dtypes: float64(1), int64(5), object(2)\n",
      "memory usage: 512.0+ bytes\n"
     ]
    }
   ],
   "source": [
    "df_onepiece.info()"
   ]
  },
  {
   "cell_type": "code",
   "execution_count": null,
   "metadata": {},
   "outputs": [],
   "source": [
    "df_onepiece.drop_duplicates()"
   ]
  },
  {
   "cell_type": "code",
   "execution_count": 6,
   "metadata": {},
   "outputs": [],
   "source": [
    "df_onepiece.fillna(\"Sin datos\", inplace=True)"
   ]
  },
  {
   "cell_type": "code",
   "execution_count": 37,
   "metadata": {},
   "outputs": [],
   "source": [
    "valores = df_onepiece[\"rank\"].unique()"
   ]
  },
  {
   "cell_type": "code",
   "execution_count": 38,
   "metadata": {},
   "outputs": [
    {
     "data": {
      "text/plain": [
       "array(['24,129', '29,290', '32,043', '28,818', '37,113', '36,209'],\n",
       "      dtype=object)"
      ]
     },
     "execution_count": 38,
     "metadata": {},
     "output_type": "execute_result"
    }
   ],
   "source": [
    "valores"
   ]
  },
  {
   "cell_type": "markdown",
   "metadata": {},
   "source": [
    "### LEER UN XML"
   ]
  },
  {
   "cell_type": "code",
   "execution_count": 21,
   "metadata": {},
   "outputs": [],
   "source": [
    "df_books = pd.read_xml(\"books.xml\")"
   ]
  },
  {
   "cell_type": "code",
   "execution_count": 22,
   "metadata": {},
   "outputs": [
    {
     "data": {
      "text/html": [
       "<div>\n",
       "<style scoped>\n",
       "    .dataframe tbody tr th:only-of-type {\n",
       "        vertical-align: middle;\n",
       "    }\n",
       "\n",
       "    .dataframe tbody tr th {\n",
       "        vertical-align: top;\n",
       "    }\n",
       "\n",
       "    .dataframe thead th {\n",
       "        text-align: right;\n",
       "    }\n",
       "</style>\n",
       "<table border=\"1\" class=\"dataframe\">\n",
       "  <thead>\n",
       "    <tr style=\"text-align: right;\">\n",
       "      <th></th>\n",
       "      <th>id</th>\n",
       "      <th>author</th>\n",
       "      <th>title</th>\n",
       "      <th>genre</th>\n",
       "      <th>price</th>\n",
       "      <th>publish_date</th>\n",
       "      <th>description</th>\n",
       "    </tr>\n",
       "  </thead>\n",
       "  <tbody>\n",
       "    <tr>\n",
       "      <th>0</th>\n",
       "      <td>bk101</td>\n",
       "      <td>Gambardella, Matthew</td>\n",
       "      <td>XML Developer's Guide</td>\n",
       "      <td>Computer</td>\n",
       "      <td>44.95</td>\n",
       "      <td>2000-10-01</td>\n",
       "      <td>An in-depth look at creating applications \\n  ...</td>\n",
       "    </tr>\n",
       "    <tr>\n",
       "      <th>1</th>\n",
       "      <td>bk102</td>\n",
       "      <td>Ralls, Kim</td>\n",
       "      <td>Midnight Rain</td>\n",
       "      <td>Fantasy</td>\n",
       "      <td>5.95</td>\n",
       "      <td>2000-12-16</td>\n",
       "      <td>A former architect battles corporate zombies, ...</td>\n",
       "    </tr>\n",
       "    <tr>\n",
       "      <th>2</th>\n",
       "      <td>bk103</td>\n",
       "      <td>Corets, Eva</td>\n",
       "      <td>Maeve Ascendant</td>\n",
       "      <td>Fantasy</td>\n",
       "      <td>5.95</td>\n",
       "      <td>2000-11-17</td>\n",
       "      <td>After the collapse of a nanotechnology \\n     ...</td>\n",
       "    </tr>\n",
       "    <tr>\n",
       "      <th>3</th>\n",
       "      <td>bk104</td>\n",
       "      <td>Corets, Eva</td>\n",
       "      <td>Oberon's Legacy</td>\n",
       "      <td>Fantasy</td>\n",
       "      <td>5.95</td>\n",
       "      <td>2001-03-10</td>\n",
       "      <td>In post-apocalypse England, the mysterious \\n ...</td>\n",
       "    </tr>\n",
       "    <tr>\n",
       "      <th>4</th>\n",
       "      <td>bk105</td>\n",
       "      <td>Corets, Eva</td>\n",
       "      <td>The Sundered Grail</td>\n",
       "      <td>Fantasy</td>\n",
       "      <td>5.95</td>\n",
       "      <td>2001-09-10</td>\n",
       "      <td>The two daughters of Maeve, half-sisters, \\n  ...</td>\n",
       "    </tr>\n",
       "  </tbody>\n",
       "</table>\n",
       "</div>"
      ],
      "text/plain": [
       "      id                author                  title     genre  price  \\\n",
       "0  bk101  Gambardella, Matthew  XML Developer's Guide  Computer  44.95   \n",
       "1  bk102            Ralls, Kim          Midnight Rain   Fantasy   5.95   \n",
       "2  bk103           Corets, Eva        Maeve Ascendant   Fantasy   5.95   \n",
       "3  bk104           Corets, Eva        Oberon's Legacy   Fantasy   5.95   \n",
       "4  bk105           Corets, Eva     The Sundered Grail   Fantasy   5.95   \n",
       "\n",
       "  publish_date                                        description  \n",
       "0   2000-10-01  An in-depth look at creating applications \\n  ...  \n",
       "1   2000-12-16  A former architect battles corporate zombies, ...  \n",
       "2   2000-11-17  After the collapse of a nanotechnology \\n     ...  \n",
       "3   2001-03-10  In post-apocalypse England, the mysterious \\n ...  \n",
       "4   2001-09-10  The two daughters of Maeve, half-sisters, \\n  ...  "
      ]
     },
     "execution_count": 22,
     "metadata": {},
     "output_type": "execute_result"
    }
   ],
   "source": [
    "df_books.head(5)"
   ]
  },
  {
   "cell_type": "markdown",
   "metadata": {},
   "source": [
    "### LEER UN EXCEL"
   ]
  },
  {
   "cell_type": "code",
   "execution_count": 23,
   "metadata": {},
   "outputs": [],
   "source": [
    "df_libros = pd.read_excel(\"libros_ejemplo.xlsx\")"
   ]
  },
  {
   "cell_type": "code",
   "execution_count": 24,
   "metadata": {},
   "outputs": [
    {
     "data": {
      "text/html": [
       "<div>\n",
       "<style scoped>\n",
       "    .dataframe tbody tr th:only-of-type {\n",
       "        vertical-align: middle;\n",
       "    }\n",
       "\n",
       "    .dataframe tbody tr th {\n",
       "        vertical-align: top;\n",
       "    }\n",
       "\n",
       "    .dataframe thead th {\n",
       "        text-align: right;\n",
       "    }\n",
       "</style>\n",
       "<table border=\"1\" class=\"dataframe\">\n",
       "  <thead>\n",
       "    <tr style=\"text-align: right;\">\n",
       "      <th></th>\n",
       "      <th>ID</th>\n",
       "      <th>Nombre</th>\n",
       "      <th>Autor</th>\n",
       "      <th>Precio</th>\n",
       "      <th>Fecha_Publicacion</th>\n",
       "    </tr>\n",
       "  </thead>\n",
       "  <tbody>\n",
       "    <tr>\n",
       "      <th>0</th>\n",
       "      <td>1</td>\n",
       "      <td>Libro A</td>\n",
       "      <td>Autor 1</td>\n",
       "      <td>15.99</td>\n",
       "      <td>2021-05-10</td>\n",
       "    </tr>\n",
       "    <tr>\n",
       "      <th>1</th>\n",
       "      <td>2</td>\n",
       "      <td>Libro B</td>\n",
       "      <td>Autor 2</td>\n",
       "      <td>23.50</td>\n",
       "      <td>2020-11-15</td>\n",
       "    </tr>\n",
       "    <tr>\n",
       "      <th>2</th>\n",
       "      <td>3</td>\n",
       "      <td>Libro C</td>\n",
       "      <td>Autor 3</td>\n",
       "      <td>12.75</td>\n",
       "      <td>2019-06-20</td>\n",
       "    </tr>\n",
       "    <tr>\n",
       "      <th>3</th>\n",
       "      <td>4</td>\n",
       "      <td>Libro D</td>\n",
       "      <td>Autor 4</td>\n",
       "      <td>8.99</td>\n",
       "      <td>2022-02-01</td>\n",
       "    </tr>\n",
       "    <tr>\n",
       "      <th>4</th>\n",
       "      <td>5</td>\n",
       "      <td>Libro E</td>\n",
       "      <td>Autor 5</td>\n",
       "      <td>19.95</td>\n",
       "      <td>2018-09-05</td>\n",
       "    </tr>\n",
       "  </tbody>\n",
       "</table>\n",
       "</div>"
      ],
      "text/plain": [
       "   ID   Nombre    Autor  Precio Fecha_Publicacion\n",
       "0   1  Libro A  Autor 1   15.99        2021-05-10\n",
       "1   2  Libro B  Autor 2   23.50        2020-11-15\n",
       "2   3  Libro C  Autor 3   12.75        2019-06-20\n",
       "3   4  Libro D  Autor 4    8.99        2022-02-01\n",
       "4   5  Libro E  Autor 5   19.95        2018-09-05"
      ]
     },
     "execution_count": 24,
     "metadata": {},
     "output_type": "execute_result"
    }
   ],
   "source": [
    "df_libros.head(5)"
   ]
  },
  {
   "cell_type": "code",
   "execution_count": 25,
   "metadata": {},
   "outputs": [
    {
     "data": {
      "text/html": [
       "<div>\n",
       "<style scoped>\n",
       "    .dataframe tbody tr th:only-of-type {\n",
       "        vertical-align: middle;\n",
       "    }\n",
       "\n",
       "    .dataframe tbody tr th {\n",
       "        vertical-align: top;\n",
       "    }\n",
       "\n",
       "    .dataframe thead th {\n",
       "        text-align: right;\n",
       "    }\n",
       "</style>\n",
       "<table border=\"1\" class=\"dataframe\">\n",
       "  <thead>\n",
       "    <tr style=\"text-align: right;\">\n",
       "      <th></th>\n",
       "      <th>ID</th>\n",
       "      <th>Nombre</th>\n",
       "      <th>Autor</th>\n",
       "      <th>Precio</th>\n",
       "      <th>Fecha_Publicacion</th>\n",
       "    </tr>\n",
       "  </thead>\n",
       "  <tbody>\n",
       "    <tr>\n",
       "      <th>0</th>\n",
       "      <td>1</td>\n",
       "      <td>Libro A</td>\n",
       "      <td>Autor 1</td>\n",
       "      <td>15.99</td>\n",
       "      <td>2021-05-10</td>\n",
       "    </tr>\n",
       "    <tr>\n",
       "      <th>1</th>\n",
       "      <td>2</td>\n",
       "      <td>Libro B</td>\n",
       "      <td>Autor 2</td>\n",
       "      <td>23.50</td>\n",
       "      <td>2020-11-15</td>\n",
       "    </tr>\n",
       "    <tr>\n",
       "      <th>2</th>\n",
       "      <td>3</td>\n",
       "      <td>Libro C</td>\n",
       "      <td>Autor 3</td>\n",
       "      <td>12.75</td>\n",
       "      <td>2019-06-20</td>\n",
       "    </tr>\n",
       "    <tr>\n",
       "      <th>3</th>\n",
       "      <td>4</td>\n",
       "      <td>Libro D</td>\n",
       "      <td>Autor 4</td>\n",
       "      <td>8.99</td>\n",
       "      <td>2022-02-01</td>\n",
       "    </tr>\n",
       "    <tr>\n",
       "      <th>4</th>\n",
       "      <td>5</td>\n",
       "      <td>Libro E</td>\n",
       "      <td>Autor 5</td>\n",
       "      <td>19.95</td>\n",
       "      <td>2018-09-05</td>\n",
       "    </tr>\n",
       "  </tbody>\n",
       "</table>\n",
       "</div>"
      ],
      "text/plain": [
       "   ID   Nombre    Autor  Precio Fecha_Publicacion\n",
       "0   1  Libro A  Autor 1   15.99        2021-05-10\n",
       "1   2  Libro B  Autor 2   23.50        2020-11-15\n",
       "2   3  Libro C  Autor 3   12.75        2019-06-20\n",
       "3   4  Libro D  Autor 4    8.99        2022-02-01\n",
       "4   5  Libro E  Autor 5   19.95        2018-09-05"
      ]
     },
     "execution_count": 25,
     "metadata": {},
     "output_type": "execute_result"
    }
   ],
   "source": [
    "df_libros.tail(5)"
   ]
  },
  {
   "cell_type": "markdown",
   "metadata": {},
   "source": [
    "### LEER UN CSV"
   ]
  },
  {
   "cell_type": "code",
   "execution_count": 7,
   "metadata": {},
   "outputs": [],
   "source": [
    "df_clientes = pd.read_csv(\"clientes.csv\")"
   ]
  },
  {
   "cell_type": "code",
   "execution_count": null,
   "metadata": {},
   "outputs": [],
   "source": [
    "df_clientes.head(4)"
   ]
  },
  {
   "cell_type": "code",
   "execution_count": null,
   "metadata": {},
   "outputs": [],
   "source": [
    "df = pd.read_csv('archivo.csv', index_col=False) #Si vemos que nos aparece una fila con el índice"
   ]
  },
  {
   "cell_type": "code",
   "execution_count": 6,
   "metadata": {},
   "outputs": [],
   "source": [
    "pd.set_option('display.max_rows', None) # Por si queremos que nos muestre todas las filas"
   ]
  },
  {
   "cell_type": "code",
   "execution_count": 28,
   "metadata": {},
   "outputs": [],
   "source": [
    "df_christmas = pd.read_csv(\"christmas_movies.csv\", index_col=False)"
   ]
  },
  {
   "cell_type": "code",
   "execution_count": null,
   "metadata": {},
   "outputs": [],
   "source": [
    "df_christmas.head(2)"
   ]
  },
  {
   "cell_type": "code",
   "execution_count": 31,
   "metadata": {},
   "outputs": [
    {
     "data": {
      "text/html": [
       "<div>\n",
       "<style scoped>\n",
       "    .dataframe tbody tr th:only-of-type {\n",
       "        vertical-align: middle;\n",
       "    }\n",
       "\n",
       "    .dataframe tbody tr th {\n",
       "        vertical-align: top;\n",
       "    }\n",
       "\n",
       "    .dataframe thead th {\n",
       "        text-align: right;\n",
       "    }\n",
       "</style>\n",
       "<table border=\"1\" class=\"dataframe\">\n",
       "  <thead>\n",
       "    <tr style=\"text-align: right;\">\n",
       "      <th></th>\n",
       "      <th>title</th>\n",
       "      <th>rating</th>\n",
       "      <th>runtime</th>\n",
       "      <th>imdb_rating</th>\n",
       "      <th>meta_score</th>\n",
       "      <th>genre</th>\n",
       "      <th>release_year</th>\n",
       "      <th>description</th>\n",
       "      <th>director</th>\n",
       "      <th>stars</th>\n",
       "      <th>votes</th>\n",
       "      <th>gross</th>\n",
       "      <th>img_src</th>\n",
       "      <th>type</th>\n",
       "    </tr>\n",
       "  </thead>\n",
       "  <tbody>\n",
       "    <tr>\n",
       "      <th>871</th>\n",
       "      <td>Proper Manors: Christmas Special: Christmas Pa...</td>\n",
       "      <td>NaN</td>\n",
       "      <td>20.0</td>\n",
       "      <td>NaN</td>\n",
       "      <td>NaN</td>\n",
       "      <td>Action, Comedy, Crime</td>\n",
       "      <td>2012.0</td>\n",
       "      <td>Miles Barnes is forced to throw contractually-...</td>\n",
       "      <td>Dallin Boyce</td>\n",
       "      <td>Brandyn Cross, Peter D'Alessio, Janis Race-Big...</td>\n",
       "      <td>NaN</td>\n",
       "      <td>NaN</td>\n",
       "      <td>https://m.media-amazon.com/images/S/sash/i-t32...</td>\n",
       "      <td>TV Episode</td>\n",
       "    </tr>\n",
       "    <tr>\n",
       "      <th>872</th>\n",
       "      <td>Sacred Music at Christmas: A Choral Christmas</td>\n",
       "      <td>NaN</td>\n",
       "      <td>NaN</td>\n",
       "      <td>NaN</td>\n",
       "      <td>NaN</td>\n",
       "      <td>Documentary, Music</td>\n",
       "      <td>2010.0</td>\n",
       "      <td>Add a Plot</td>\n",
       "      <td>NaN</td>\n",
       "      <td>NaN</td>\n",
       "      <td>NaN</td>\n",
       "      <td>NaN</td>\n",
       "      <td>https://m.media-amazon.com/images/S/sash/i-t32...</td>\n",
       "      <td>TV Episode</td>\n",
       "    </tr>\n",
       "  </tbody>\n",
       "</table>\n",
       "</div>"
      ],
      "text/plain": [
       "                                                 title rating  runtime  \\\n",
       "871  Proper Manors: Christmas Special: Christmas Pa...    NaN     20.0   \n",
       "872      Sacred Music at Christmas: A Choral Christmas    NaN      NaN   \n",
       "\n",
       "     imdb_rating  meta_score                  genre  release_year  \\\n",
       "871          NaN         NaN  Action, Comedy, Crime        2012.0   \n",
       "872          NaN         NaN     Documentary, Music        2010.0   \n",
       "\n",
       "                                           description      director  \\\n",
       "871  Miles Barnes is forced to throw contractually-...  Dallin Boyce   \n",
       "872                                         Add a Plot           NaN   \n",
       "\n",
       "                                                 stars votes gross  \\\n",
       "871  Brandyn Cross, Peter D'Alessio, Janis Race-Big...   NaN   NaN   \n",
       "872                                                NaN   NaN   NaN   \n",
       "\n",
       "                                               img_src        type  \n",
       "871  https://m.media-amazon.com/images/S/sash/i-t32...  TV Episode  \n",
       "872  https://m.media-amazon.com/images/S/sash/i-t32...  TV Episode  "
      ]
     },
     "execution_count": 31,
     "metadata": {},
     "output_type": "execute_result"
    }
   ],
   "source": [
    "df_christmas.tail(2)"
   ]
  },
  {
   "cell_type": "code",
   "execution_count": 32,
   "metadata": {},
   "outputs": [
    {
     "name": "stderr",
     "output_type": "stream",
     "text": [
      "C:\\Users\\rmart\\AppData\\Local\\Temp\\ipykernel_4668\\2427164663.py:1: FutureWarning: Setting an item of incompatible dtype is deprecated and will raise an error in a future version of pandas. Value 'Sin datos' has dtype incompatible with float64, please explicitly cast to a compatible dtype first.\n",
      "  df_christmas.fillna(\"Sin datos\", inplace=True)\n"
     ]
    }
   ],
   "source": [
    "df_christmas.fillna(\"Sin datos\", inplace=True)"
   ]
  },
  {
   "cell_type": "code",
   "execution_count": 33,
   "metadata": {},
   "outputs": [
    {
     "data": {
      "text/html": [
       "<div>\n",
       "<style scoped>\n",
       "    .dataframe tbody tr th:only-of-type {\n",
       "        vertical-align: middle;\n",
       "    }\n",
       "\n",
       "    .dataframe tbody tr th {\n",
       "        vertical-align: top;\n",
       "    }\n",
       "\n",
       "    .dataframe thead th {\n",
       "        text-align: right;\n",
       "    }\n",
       "</style>\n",
       "<table border=\"1\" class=\"dataframe\">\n",
       "  <thead>\n",
       "    <tr style=\"text-align: right;\">\n",
       "      <th></th>\n",
       "      <th>title</th>\n",
       "      <th>rating</th>\n",
       "      <th>runtime</th>\n",
       "      <th>imdb_rating</th>\n",
       "      <th>meta_score</th>\n",
       "      <th>genre</th>\n",
       "      <th>release_year</th>\n",
       "      <th>description</th>\n",
       "      <th>director</th>\n",
       "      <th>stars</th>\n",
       "      <th>votes</th>\n",
       "      <th>gross</th>\n",
       "      <th>img_src</th>\n",
       "      <th>type</th>\n",
       "    </tr>\n",
       "  </thead>\n",
       "  <tbody>\n",
       "    <tr>\n",
       "      <th>870</th>\n",
       "      <td>Cosmic Cowboys: Céréal Christmas</td>\n",
       "      <td>Sin datos</td>\n",
       "      <td>Sin datos</td>\n",
       "      <td>Sin datos</td>\n",
       "      <td>Sin datos</td>\n",
       "      <td>Animation</td>\n",
       "      <td>2004.0</td>\n",
       "      <td>Add a Plot</td>\n",
       "      <td>Sin datos</td>\n",
       "      <td>Sin datos</td>\n",
       "      <td>Sin datos</td>\n",
       "      <td>Sin datos</td>\n",
       "      <td>https://m.media-amazon.com/images/S/sash/i-t32...</td>\n",
       "      <td>TV Episode</td>\n",
       "    </tr>\n",
       "    <tr>\n",
       "      <th>871</th>\n",
       "      <td>Proper Manors: Christmas Special: Christmas Pa...</td>\n",
       "      <td>Sin datos</td>\n",
       "      <td>20.0</td>\n",
       "      <td>Sin datos</td>\n",
       "      <td>Sin datos</td>\n",
       "      <td>Action, Comedy, Crime</td>\n",
       "      <td>2012.0</td>\n",
       "      <td>Miles Barnes is forced to throw contractually-...</td>\n",
       "      <td>Dallin Boyce</td>\n",
       "      <td>Brandyn Cross, Peter D'Alessio, Janis Race-Big...</td>\n",
       "      <td>Sin datos</td>\n",
       "      <td>Sin datos</td>\n",
       "      <td>https://m.media-amazon.com/images/S/sash/i-t32...</td>\n",
       "      <td>TV Episode</td>\n",
       "    </tr>\n",
       "    <tr>\n",
       "      <th>872</th>\n",
       "      <td>Sacred Music at Christmas: A Choral Christmas</td>\n",
       "      <td>Sin datos</td>\n",
       "      <td>Sin datos</td>\n",
       "      <td>Sin datos</td>\n",
       "      <td>Sin datos</td>\n",
       "      <td>Documentary, Music</td>\n",
       "      <td>2010.0</td>\n",
       "      <td>Add a Plot</td>\n",
       "      <td>Sin datos</td>\n",
       "      <td>Sin datos</td>\n",
       "      <td>Sin datos</td>\n",
       "      <td>Sin datos</td>\n",
       "      <td>https://m.media-amazon.com/images/S/sash/i-t32...</td>\n",
       "      <td>TV Episode</td>\n",
       "    </tr>\n",
       "  </tbody>\n",
       "</table>\n",
       "</div>"
      ],
      "text/plain": [
       "                                                 title     rating    runtime  \\\n",
       "870                   Cosmic Cowboys: Céréal Christmas  Sin datos  Sin datos   \n",
       "871  Proper Manors: Christmas Special: Christmas Pa...  Sin datos       20.0   \n",
       "872      Sacred Music at Christmas: A Choral Christmas  Sin datos  Sin datos   \n",
       "\n",
       "    imdb_rating meta_score                  genre release_year  \\\n",
       "870   Sin datos  Sin datos              Animation       2004.0   \n",
       "871   Sin datos  Sin datos  Action, Comedy, Crime       2012.0   \n",
       "872   Sin datos  Sin datos     Documentary, Music       2010.0   \n",
       "\n",
       "                                           description      director  \\\n",
       "870                                         Add a Plot     Sin datos   \n",
       "871  Miles Barnes is forced to throw contractually-...  Dallin Boyce   \n",
       "872                                         Add a Plot     Sin datos   \n",
       "\n",
       "                                                 stars      votes      gross  \\\n",
       "870                                          Sin datos  Sin datos  Sin datos   \n",
       "871  Brandyn Cross, Peter D'Alessio, Janis Race-Big...  Sin datos  Sin datos   \n",
       "872                                          Sin datos  Sin datos  Sin datos   \n",
       "\n",
       "                                               img_src        type  \n",
       "870  https://m.media-amazon.com/images/S/sash/i-t32...  TV Episode  \n",
       "871  https://m.media-amazon.com/images/S/sash/i-t32...  TV Episode  \n",
       "872  https://m.media-amazon.com/images/S/sash/i-t32...  TV Episode  "
      ]
     },
     "execution_count": 33,
     "metadata": {},
     "output_type": "execute_result"
    }
   ],
   "source": [
    "df_christmas.tail(3)"
   ]
  },
  {
   "cell_type": "code",
   "execution_count": null,
   "metadata": {},
   "outputs": [],
   "source": [
    "df_christmas"
   ]
  },
  {
   "cell_type": "code",
   "execution_count": null,
   "metadata": {},
   "outputs": [],
   "source": [
    "df_christmas['title']"
   ]
  },
  {
   "cell_type": "markdown",
   "metadata": {},
   "source": [
    "### ¿Y si quiero guardarlo?\n",
    "\n",
    "## nombre_df.to_csv/excel/xml(\"nuevo_nombre\", index=False)\n",
    "### Y se guarda en la misma carpeta"
   ]
  },
  {
   "cell_type": "code",
   "execution_count": 36,
   "metadata": {},
   "outputs": [],
   "source": [
    "df_christmas.to_csv(\"df_final.csv\", index=False) #Y se nos guarda en la misma carpeta"
   ]
  }
 ],
 "metadata": {
  "kernelspec": {
   "display_name": "Python 3",
   "language": "python",
   "name": "python3"
  },
  "language_info": {
   "codemirror_mode": {
    "name": "ipython",
    "version": 3
   },
   "file_extension": ".py",
   "mimetype": "text/x-python",
   "name": "python",
   "nbconvert_exporter": "python",
   "pygments_lexer": "ipython3",
   "version": "3.9.5"
  }
 },
 "nbformat": 4,
 "nbformat_minor": 2
}
