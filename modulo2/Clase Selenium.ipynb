{
 "cells": [
  {
   "cell_type": "markdown",
   "metadata": {},
   "source": [
    "## Selenium\n",
    "- Herramienta para automatizar la navegación e interactuar con sitios web\n",
    "- Selenium permite automatizar tareas repetitivas como recopilar info de web, completar formularios, etc."
   ]
  },
  {
   "cell_type": "code",
   "execution_count": null,
   "metadata": {},
   "outputs": [],
   "source": [
    "!pip install selenium"
   ]
  },
  {
   "cell_type": "code",
   "execution_count": 2,
   "metadata": {},
   "outputs": [],
   "source": [
    "from selenium import webdriver\n"
   ]
  },
  {
   "cell_type": "code",
   "execution_count": null,
   "metadata": {},
   "outputs": [],
   "source": [
    "pip install webdriver-manager"
   ]
  },
  {
   "cell_type": "code",
   "execution_count": 3,
   "metadata": {},
   "outputs": [],
   "source": [
    "from webdriver_manager.chrome import ChromeDriverManager\n",
    "from selenium.webdriver.common.keys import Keys  \n",
    "from selenium.webdriver.support.ui import Select "
   ]
  },
  {
   "cell_type": "code",
   "execution_count": 4,
   "metadata": {},
   "outputs": [],
   "source": [
    "import pandas as pd"
   ]
  },
  {
   "cell_type": "code",
   "execution_count": 5,
   "metadata": {},
   "outputs": [],
   "source": [
    "# Importar librerías para tratamiento de datos\n",
    "# -----------------------------------------------------------------------\n",
    "import pandas as pd  \n",
    "\n",
    "# Importar librerías para web scraping y manipulación de datos\n",
    "# -----------------------------------------------------------------------\n",
    "from bs4 import BeautifulSoup\n",
    "import requests\n",
    "\n",
    "# Importar librerías para automatización de navegadores web con Selenium\n",
    "# -----------------------------------------------------------------------\n",
    "from selenium import webdriver  # Selenium es una herramienta para automatizar la interacción con navegadores web.\n",
    "from webdriver_manager.chrome import ChromeDriverManager  # ChromeDriverManager gestiona la instalación del controlador de Chrome.\n",
    "from selenium.webdriver.common.keys import Keys  # Keys es útil para simular eventos de teclado en Selenium.\n",
    "from selenium.webdriver.support.ui import Select  # Select se utiliza para interactuar con elementos <select> en páginas web.\n",
    "\n",
    "# Importar librerías para pausar la ejecución\n",
    "# -----------------------------------------------------------------------\n",
    "from time import sleep  # Sleep se utiliza para pausar la ejecución del programa por un número de segundos.\n",
    "\n",
    "# Configuraciones\n",
    "# -----------------------------------------------------------------------\n",
    "pd.set_option('display.max_columns', None)  # Establece una opción de Pandas para mostrar todas las columnas de un DataFrame."
   ]
  },
  {
   "cell_type": "markdown",
   "metadata": {},
   "source": [
    "## Vamos a utilizar la web de Adalab\n",
    "- Automatizaremos un comportamiento en la web\n",
    "- Primero lo hacemos de forma manual y después se automatiza"
   ]
  },
  {
   "cell_type": "markdown",
   "metadata": {},
   "source": [
    "## PASOS\n",
    "\n",
    "#### 1. Inicializamos el navegador Chrome\n",
    "#### 2. Introducimos la URL\n",
    "#### 3. Maximizamos la ventana\n",
    "#### 4. Realizamos acciones: aceptar, clicks, etc.\n",
    "#### * sleep()"
   ]
  },
  {
   "cell_type": "code",
   "execution_count": 23,
   "metadata": {},
   "outputs": [],
   "source": [
    "driver = webdriver.Chrome()\n",
    "driver.get(\"http://www.adalab.es\")"
   ]
  },
  {
   "cell_type": "markdown",
   "metadata": {},
   "source": [
    "### Parece que necesitamos ampliar la ventanita y que de a Aceptar en un botón. ¿Cómo veo cuál es el código de ese botón?\n",
    "\n",
    "### Botón derecho --> inspeccionar --> flechita --> buscamos con el ratón el boton aceptar--> botón derecho --> copy selector o Xpath"
   ]
  },
  {
   "cell_type": "code",
   "execution_count": 25,
   "metadata": {},
   "outputs": [],
   "source": [
    "from time import sleep"
   ]
  },
  {
   "cell_type": "code",
   "execution_count": 27,
   "metadata": {},
   "outputs": [],
   "source": [
    "driver = webdriver.Chrome()\n",
    "driver.get(\"http://www.adalab.es\")\n",
    "\n",
    "driver.maximize_window()\n",
    "\n",
    "sleep(5)  #Para que espere un momentito a que cargue, en este cargo, 5 segundos\n",
    "\n",
    "driver.find_element(\"css selector\", \"#wt-cli-accept-all-btn\").click() #Pongo css selector porque he elegido copían Selector\n",
    "\n",
    "sleep(5)\n",
    "\n",
    "driver.close()\n",
    "\n"
   ]
  },
  {
   "cell_type": "markdown",
   "metadata": {},
   "source": [
    "### En clase vamos a usar chrome, pero para otros buscadores podríais usar otros:"
   ]
  },
  {
   "cell_type": "code",
   "execution_count": 32,
   "metadata": {},
   "outputs": [],
   "source": [
    "from selenium import webdriver\n",
    "from webdriver_manager.firefox import GeckoDriverManager\n",
    "\n",
    "driver = webdriver.Firefox()"
   ]
  },
  {
   "cell_type": "markdown",
   "metadata": {},
   "source": [
    "### Capturar pantalla"
   ]
  },
  {
   "cell_type": "code",
   "execution_count": 28,
   "metadata": {},
   "outputs": [],
   "source": [
    "# Inicializa el navegador Chrome\n",
    "driver = webdriver.Chrome()\n",
    "\n",
    "# Navega a la página web \"http://www.adalab.es\"\n",
    "driver.get(\"http://www.adalab.es\")\n",
    "\n",
    "\n",
    "driver.maximize_window()\n",
    "\n",
    "# Acepta las cookies haciendo clic en el elemento con el selector CSS \"#wt-cli-accept-all-btn\"\n",
    "driver.find_element(\"css selector\", \"#wt-cli-accept-all-btn\").click()\n",
    "\n",
    "\n",
    "# Espera durante 5 segundos (esto puede ser útil para permitir que la página cargue completamente)\n",
    "sleep(5)\n",
    "\n",
    "# Captura una captura de pantalla de la página web actual y la guarda como \"adalab.png\"\n",
    "driver.save_screenshot('adalab.png') #Lo guarda en el mismo directorio donde está guardado este archivo\n",
    "\n",
    "# Cierra el navegador\n",
    "driver.close()\n"
   ]
  },
  {
   "cell_type": "markdown",
   "metadata": {},
   "source": [
    "### Ir a otras páginas"
   ]
  },
  {
   "cell_type": "code",
   "execution_count": 29,
   "metadata": {},
   "outputs": [],
   "source": [
    "\n",
    "# Inicializa el navegador Chrome\n",
    "driver = webdriver.Chrome()\n",
    "\n",
    "# Navega a la página web \"http://www.adalab.es\"\n",
    "driver.get(\"http://www.adalab.es\")\n",
    "\n",
    "\n",
    "driver.maximize_window()\n",
    "\n",
    "# Acepta las cookies haciendo clic en el elemento con el selector CSS \"#wt-cli-accept-all-btn\"\n",
    "driver.find_element(\"css selector\", \"#wt-cli-accept-all-btn\").click()\n",
    "\n",
    "\n",
    "# Espera durante 5 segundos (esto puede ser útil para permitir que la página cargue completamente)\n",
    "sleep(5)\n",
    "driver.find_element(\"link text\", 'BLOG').click()\n",
    "\n",
    "sleep(5)\n",
    "\n",
    "# entramos en el apartado de Sobre Data Analytics\n",
    "driver.find_element(\"link text\", 'Sobre Data Analytics').click()\n",
    "\n",
    "sleep(5)\n",
    "# cerramos el navegador\n",
    "driver.close()"
   ]
  },
  {
   "cell_type": "code",
   "execution_count": null,
   "metadata": {},
   "outputs": [],
   "source": [
    "# Funciones:\n",
    "\n",
    "driver.get() # para pasarle la url\n",
    "driver.find_element() #con el tipo de elemento y el titulo\n",
    ".click() #para hacer clic en algo\n",
    "driver.close #cerramos conexion\n",
    "sleep(5) #para que espere 5 segundos antes de hacer la siguiente accion\n",
    "driver.close #para que cierre la página"
   ]
  },
  {
   "cell_type": "markdown",
   "metadata": {},
   "source": [
    "## Vamos a ver otro ejemplo, paso por paso:"
   ]
  },
  {
   "cell_type": "code",
   "execution_count": 37,
   "metadata": {},
   "outputs": [
    {
     "name": "stdout",
     "output_type": "stream",
     "text": [
      "{'nombre': ['Set para mancuernas 10kg. 6 pesas. 1 barra corta y 2 abrazaderas Bodytone', 'Estuche 6 Mancuernas 10 kg Keboo Serie 500 2 Pesas de 1 kg, 2 de 1,5 kg y 2 de 2', 'Juego de Mancuernas y Pesas Ajustables 10 kg 2 en 1 de Keboo Serie 300 4 Discos'], 'precio': ['40,00€', '45,50€', '38,87€'], 'puntuacion': ['4/5', '5/5', 'No info']}\n"
     ]
    }
   ],
   "source": [
    "\n",
    "# 1. Abrimos el navegador\n",
    "driver = webdriver.Chrome()\n",
    "\n",
    "# 2. Metemos la URL\n",
    "driver.get(\"https://www.decathlon.es/\")\n",
    "\n",
    "sleep(5)\n",
    "\n",
    "driver.maximize_window()\n",
    "\n",
    "sleep(5)\n",
    "\n",
    "# 3. Hacemos clic en el botón \"Aceptar\".\n",
    "driver.find_element(\"css selector\", \"#didomi-notice-agree-button\").click()\n",
    "\n",
    "# 4. Solicitar al usuario la búsqueda\n",
    "eleccion_usuario = input(\"¿Qué quieres buscar?\")\n",
    "sleep(3)\n",
    "\n",
    "# 5. Utilizamos entrada de texto para buscar resultado: le vamos a decir que nos lo busque y le de al enter\n",
    "# Aquí da error con selector, hay que darle a Xpath\n",
    "driver.find_element(\"xpath\", '//*[@id=\"search-bar\"]/div/form/div/input').send_keys(eleccion_usuario, Keys.ENTER) \n",
    "\n",
    "# 6. Creamos diccionario vacío\n",
    "diccionario_resultados = {\"nombre\": [], \"precio\": [], \"puntuacion\": []}\n",
    "\n",
    "# 7. Iterar sobre los 3 primeros resultados\n",
    "for i in range(1, 4):\n",
    "        # Hacer clic en el producto\n",
    "        driver.find_element(\n",
    "            \"css selector\",\n",
    "            f\"#app > main > div.list-body.svelte-duar7s > section.listing-section.svelte-duar7s > div > div:nth-child({i}) > div.product-block-top-main.vtmn-relative.vtmn-flex.vtmn-flex-col.vtmn-w-full.vtmn-items-start > div.dpb-models.vtmn-relative.vtmn-self-center.svelte-1ambt2m > div > a > img\"\n",
    "        ).click()\n",
    "        sleep(2)\n",
    "\n",
    "        # Extraer nombre\n",
    "        nombre = driver.find_element(\"xpath\", '//*[@id=\"app\"]/main/article/div[2]/section/h1').text\n",
    "        diccionario_resultados[\"nombre\"].append(nombre)\n",
    "\n",
    "        # Extraer precio\n",
    "        try:\n",
    "            precio = driver.find_element(\n",
    "                \"xpath\", '//*[@id=\"app\"]/main/article/div[2]/section/div[1]/div/div/div/span'\n",
    "            ).text\n",
    "        except:\n",
    "            precio = \"No info\"\n",
    "        diccionario_resultados[\"precio\"].append(precio)\n",
    "\n",
    "        # Extraer puntuación\n",
    "        try:\n",
    "            puntuacion = driver.find_element(\n",
    "                #\"xpath\", '//*[@id=\"app\"]/main/article/div[2]/section/div[2]/div/button/div/span[6]'\n",
    "                'css selector','#app > main > article > div.vtmn-relative.vtmn-z-\\[2\\] > section > div.vtmn-relative.vtmn-bg-background-primary > button > div.vtmn-rating.vtmn-rating_size--small.vtmn-fux-rating-variant-accent > span.vtmn-rating_comment--primary'\n",
    "            ).text\n",
    "        except:\n",
    "            puntuacion = \"No info\"\n",
    "        diccionario_resultados[\"puntuacion\"].append(puntuacion)\n",
    "\n",
    "        # Navegar de regreso a los resultados de búsqueda\n",
    "        driver.back()\n",
    "        sleep(2)\n",
    "\n",
    "# Cerrar el navegador\n",
    "driver.close()\n",
    "\n",
    "# Mostrar resultados\n",
    "print(diccionario_resultados)\n"
   ]
  },
  {
   "cell_type": "code",
   "execution_count": 29,
   "metadata": {},
   "outputs": [
    {
     "data": {
      "text/html": [
       "<div>\n",
       "<style scoped>\n",
       "    .dataframe tbody tr th:only-of-type {\n",
       "        vertical-align: middle;\n",
       "    }\n",
       "\n",
       "    .dataframe tbody tr th {\n",
       "        vertical-align: top;\n",
       "    }\n",
       "\n",
       "    .dataframe thead th {\n",
       "        text-align: right;\n",
       "    }\n",
       "</style>\n",
       "<table border=\"1\" class=\"dataframe\">\n",
       "  <thead>\n",
       "    <tr style=\"text-align: right;\">\n",
       "      <th></th>\n",
       "      <th>nombre</th>\n",
       "      <th>precio</th>\n",
       "      <th>puntuacion</th>\n",
       "    </tr>\n",
       "  </thead>\n",
       "  <tbody>\n",
       "    <tr>\n",
       "      <th>0</th>\n",
       "      <td>Zapatillas Fitness ADIDAS Amplimove Hombre Negro</td>\n",
       "      <td>41,49 €</td>\n",
       "      <td>4.3/5</td>\n",
       "    </tr>\n",
       "    <tr>\n",
       "      <th>1</th>\n",
       "      <td>Zapatillas Fitness Training Adidas Dropset 3 M...</td>\n",
       "      <td>104,99 €</td>\n",
       "      <td>5/5</td>\n",
       "    </tr>\n",
       "    <tr>\n",
       "      <th>2</th>\n",
       "      <td>Zapatillas Caminar Adidas VL Court 3.0 Hombre ...</td>\n",
       "      <td>42,49 €</td>\n",
       "      <td>4.6/5</td>\n",
       "    </tr>\n",
       "  </tbody>\n",
       "</table>\n",
       "</div>"
      ],
      "text/plain": [
       "                                              nombre    precio puntuacion\n",
       "0   Zapatillas Fitness ADIDAS Amplimove Hombre Negro   41,49 €      4.3/5\n",
       "1  Zapatillas Fitness Training Adidas Dropset 3 M...  104,99 €        5/5\n",
       "2  Zapatillas Caminar Adidas VL Court 3.0 Hombre ...   42,49 €      4.6/5"
      ]
     },
     "execution_count": 29,
     "metadata": {},
     "output_type": "execute_result"
    }
   ],
   "source": [
    "df = pd.DataFrame(diccionario_resultados)\n",
    "df"
   ]
  },
  {
   "cell_type": "code",
   "execution_count": 7,
   "metadata": {},
   "outputs": [],
   "source": [
    "url_zacatrus = 'https://zacatrus.es/?gad_source=1&gclid=Cj0KCQiAhbi8BhDIARIsAJLOlud62mWmlFnuCreBqfU_9c5BzF_RSBPFz5g06ds_vclfegaRRKwa-q8aAijNEALw_wcB'"
   ]
  },
  {
   "cell_type": "code",
   "execution_count": null,
   "metadata": {},
   "outputs": [],
   "source": [
    "driver = webdriver.Chrome()\n",
    "driver.get(url_zacatrus)\n",
    "driver.maximize_window()\n",
    "sleep(5)\n",
    "driver.find_element(\"css selector\", \"#html-body > aside > div > div > div.amgdprcookie-buttons-block > button.amgdprcookie-button.-allow.-save\").click()\n",
    "tipo_juego = input(\"¿Qué tipo de juego buscas?\")\n",
    "\n",
    "driver.find_element(\"xpath\", '//*[@id=\"ammenu-header-container\"]/div/section/div/section[1]/input').send_keys(tipo_juego, Keys.ENTER) \n",
    "sleep(5)\n",
    "print(f\"Un buen juego {tipo_juego} es {driver.find_element('css selector', 'strong.product.name.product-item-name a.product-item-link').text}\")\n",
    "driver.close()\n"
   ]
  }
 ],
 "metadata": {
  "kernelspec": {
   "display_name": "Python 3",
   "language": "python",
   "name": "python3"
  },
  "language_info": {
   "codemirror_mode": {
    "name": "ipython",
    "version": 3
   },
   "file_extension": ".py",
   "mimetype": "text/x-python",
   "name": "python",
   "nbconvert_exporter": "python",
   "pygments_lexer": "ipython3",
   "version": "3.11.9"
  }
 },
 "nbformat": 4,
 "nbformat_minor": 2
}
