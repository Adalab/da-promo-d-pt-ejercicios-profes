{
 "cells": [
  {
   "cell_type": "markdown",
   "metadata": {},
   "source": [
    "# Estructuras de control: if/elif/else"
   ]
  },
  {
   "cell_type": "markdown",
   "metadata": {},
   "source": [
    "## If/elif/else\n",
    "- Estructura de control que permite que un programa ejecute unas instrucciones cuando se cumplen unas o varias condiciones\n",
    "- Usaremos mucho las comparaciones y valores booleanos\n",
    "- Estructura:\n",
    "    if condicion:\n",
    "        se ejecuta este código\n",
    "    elif condicion2:\n",
    "        se ejecuta este código\n",
    "    elif tal:\n",
    "        cual\n",
    "    else:\n",
    "        se ejecuta este\n",
    "- Importante la sangría y los dos puntos\n",
    "- No recomendable concatenar if, porque así la máquina \"trabaja más\" y pasa por todos los \"if\"\n",
    "- Puede haber varios elif, pero solo un if y un else\n",
    "- El \"else\" solo se usa para que se ejecute si no se cumple ninguna de las demás funciones. No va con ninguna condición, su condición es que no se cumplan las anteriores.\n",
    "- Sentencias anidadas\n",
    "- Condiciones múltiples con and y or"
   ]
  },
  {
   "cell_type": "code",
   "execution_count": null,
   "metadata": {},
   "outputs": [
    {
     "name": "stdout",
     "output_type": "stream",
     "text": [
      "Puedes pasar\n"
     ]
    }
   ],
   "source": [
    "#Si me llamo Rocío Martínez puedo pasar, si no nada\n",
    "\n",
    "name = input(\"¿Cómo te llamas?\")\n",
    "\n",
    "\n",
    "if name == \"Rocío Martínez\":\n",
    "    print(\"Puedes pasar\")"
   ]
  },
  {
   "cell_type": "code",
   "execution_count": 39,
   "metadata": {},
   "outputs": [
    {
     "data": {
      "text/plain": [
       "True"
      ]
     },
     "execution_count": 39,
     "metadata": {},
     "output_type": "execute_result"
    }
   ],
   "source": [
    "name == \"Rocío Martínez\""
   ]
  },
  {
   "cell_type": "code",
   "execution_count": 41,
   "metadata": {},
   "outputs": [
    {
     "name": "stdout",
     "output_type": "stream",
     "text": [
      "a es menor que b\n"
     ]
    }
   ],
   "source": [
    "a = 10\n",
    "b = 20\n",
    "\n",
    "if a<b:\n",
    "    print(\"a es menor que b\")\n",
    "elif a>b:\n",
    "    print(\"a es mayor que b\")\n",
    "else:\n",
    "    print(\"Son iguales\")"
   ]
  },
  {
   "cell_type": "code",
   "execution_count": 40,
   "metadata": {},
   "outputs": [
    {
     "data": {
      "text/plain": [
       "True"
      ]
     },
     "execution_count": 40,
     "metadata": {},
     "output_type": "execute_result"
    }
   ],
   "source": [
    "a < b"
   ]
  },
  {
   "cell_type": "code",
   "execution_count": 42,
   "metadata": {},
   "outputs": [
    {
     "data": {
      "text/plain": [
       "True"
      ]
     },
     "execution_count": 42,
     "metadata": {},
     "output_type": "execute_result"
    }
   ],
   "source": [
    "b > a"
   ]
  },
  {
   "cell_type": "code",
   "execution_count": null,
   "metadata": {},
   "outputs": [
    {
     "name": "stdout",
     "output_type": "stream",
     "text": [
      "Ok\n"
     ]
    }
   ],
   "source": [
    "a = 10\n",
    "b = 20\n",
    "c = 1\n",
    "\n",
    "#MÁS DE UNA CONDICIÓN\n",
    "#Ahora quiero que me imprima un OK si a es menor que b y mayor que c, y si no es así, que me diga NO\n",
    "#PISTA: podemos usar palabras clave como and\n",
    "\n",
    "if a < b and a > c:\n",
    "    print(\"Ok\")\n",
    "else:\n",
    "    print(\"No\")"
   ]
  },
  {
   "cell_type": "code",
   "execution_count": 45,
   "metadata": {},
   "outputs": [
    {
     "data": {
      "text/plain": [
       "True"
      ]
     },
     "execution_count": 45,
     "metadata": {},
     "output_type": "execute_result"
    }
   ],
   "source": [
    "b>a>c"
   ]
  },
  {
   "cell_type": "markdown",
   "metadata": {},
   "source": [
    "- La primera línea de la estructura de control, tiene la expresión a evaluar, que dará True o False: es decir, se cumple o no se cumple.\n",
    "\n",
    "- USO: if (la primera), elif (si hay otra condición), else (la última que usamos)\n",
    "\n",
    "- Para que Python \"sepa\" que no hay nada más que evaluar, usamos : \n",
    "- Cuando se cumpla ese requisito, Python pasará a hacer lo que hay en la siguiente línea, que tendrá una sangría. Si no la cumple, pasa al siguiente \"elif\" o \"else\" o sale de la estructura si no hay más opciones.\n",
    "- Cuando terminemos de ejecutar el bloque de instrucciones, basta con eliminar la sangría.\n",
    "- Llamaremos a la primera línea, la **línea de condición** y a la segunda, **línea de consecuencia**\n",
    "- En la línea de consecuencia, podemos hacer lo que queramos: un print(), hacer un .append() a una lista, un input(), borrar algo de un diccionario..."
   ]
  },
  {
   "cell_type": "code",
   "execution_count": 49,
   "metadata": {},
   "outputs": [
    {
     "name": "stdout",
     "output_type": "stream",
     "text": [
      "Vaya, Marta no ha podido venir.\n"
     ]
    }
   ],
   "source": [
    "nombres = ['María', 'Juana', 'Luisa', 'Rosa']\n",
    "\n",
    "if \"Marta\" in nombres:\n",
    "    print(\"Marta ha venido a la fiesta\")\n",
    "else:\n",
    "    print(\"Vaya, Marta no ha podido venir.\")"
   ]
  },
  {
   "cell_type": "code",
   "execution_count": 50,
   "metadata": {},
   "outputs": [
    {
     "data": {
      "text/plain": [
       "False"
      ]
     },
     "execution_count": 50,
     "metadata": {},
     "output_type": "execute_result"
    }
   ],
   "source": [
    "\"Marta\" in nombres"
   ]
  },
  {
   "cell_type": "code",
   "execution_count": 51,
   "metadata": {},
   "outputs": [
    {
     "name": "stdout",
     "output_type": "stream",
     "text": [
      "Contraseña incorrecta. Hemos bloqueado tu cuenta\n"
     ]
    }
   ],
   "source": [
    "password = \"rocio1234\"\n",
    "\n",
    "password2 = input(\"Introduce tu contraseña\")\n",
    "\n",
    "if password2 == password:\n",
    "    print(\"Genial, has entrado en tu cuenta.\")\n",
    "else:\n",
    "    print(\"Contraseña incorrecta. Hemos bloqueado tu cuenta\")"
   ]
  },
  {
   "cell_type": "code",
   "execution_count": 52,
   "metadata": {},
   "outputs": [
    {
     "data": {
      "text/plain": [
       "False"
      ]
     },
     "execution_count": 52,
     "metadata": {},
     "output_type": "execute_result"
    }
   ],
   "source": [
    "password2 == password"
   ]
  },
  {
   "cell_type": "markdown",
   "metadata": {},
   "source": [
    "- Ejemplo de if anidados"
   ]
  },
  {
   "cell_type": "code",
   "execution_count": null,
   "metadata": {},
   "outputs": [
    {
     "name": "stdout",
     "output_type": "stream",
     "text": [
      "Artículo disponible, no hay la talla {talla} para {genero}\n"
     ]
    }
   ],
   "source": [
    "#Opciones de ropa de una tienda en la que estamos comprando online\n",
    "#género: Mujer, Hombre\n",
    "#tallas: S, M, L, XL\n",
    "\n",
    "#¿se podría hacer esto con un input?\n",
    "genero=  \"Hombre\"\n",
    "talla = \"L\"\n",
    "\n",
    "\n",
    "if genero == 'Mujer':\n",
    "  if talla == 'L':\n",
    "    print(\"No hay stock de esta talla\")\n",
    "  elif talla in ('S', 'XL'):\n",
    "    print(\"Quedan pocas unidades. ¡Date prisa!\")\n",
    "  elif talla == 'M':\n",
    "    print(\"Artículo disponible\")\n",
    "  else:\n",
    "    print(\"Por favor, introduzca una talla correcta (S, M, L o XL)\")\n",
    "elif genero == 'Hombre':\n",
    "  if talla in (\"S\", \"M\", \"XL\"):\n",
    "    print(f\"La talla {talla} no tiene stock\")\n",
    "  elif talla == 'L':\n",
    "    print(f\"Artículo disponible, no hay la talla {talla} para {genero}\")\n",
    "  else:\n",
    "    print(\"Introduzca una talla correcta (S, M, L o XL)\")\n",
    "else:\n",
    "  print(\"Introduzca un género aceptado en el sistema (Hombre o Mujer)\")\n"
   ]
  },
  {
   "cell_type": "code",
   "execution_count": 56,
   "metadata": {},
   "outputs": [
    {
     "name": "stdout",
     "output_type": "stream",
     "text": [
      "¡Qué bonita es Sevilla!\n"
     ]
    }
   ],
   "source": [
    "ciudad = \"Sevilla\"\n",
    "print(f\"¡Qué bonita es {ciudad}!\")"
   ]
  },
  {
   "cell_type": "markdown",
   "metadata": {},
   "source": [
    "### Si una persona es menor de edad y no tiene autorización, no puede pasar a la fiesta, si tiene autorización, puede pasar y si es mayor de edad, puede pasar."
   ]
  },
  {
   "cell_type": "code",
   "execution_count": null,
   "metadata": {},
   "outputs": [],
   "source": []
  },
  {
   "cell_type": "code",
   "execution_count": 57,
   "metadata": {},
   "outputs": [],
   "source": [
    "edad= int(input(\"¿Qué edad tienes\"))\n",
    "if edad < 18:\n",
    "    autorizacion = input(\"¿Tienes autorízación? Escribe 'Sí' o 'No\").lower()"
   ]
  },
  {
   "cell_type": "code",
   "execution_count": 58,
   "metadata": {},
   "outputs": [
    {
     "data": {
      "text/plain": [
       "17"
      ]
     },
     "execution_count": 58,
     "metadata": {},
     "output_type": "execute_result"
    }
   ],
   "source": [
    "edad"
   ]
  },
  {
   "cell_type": "code",
   "execution_count": 59,
   "metadata": {},
   "outputs": [
    {
     "data": {
      "text/plain": [
       "'si'"
      ]
     },
     "execution_count": 59,
     "metadata": {},
     "output_type": "execute_result"
    }
   ],
   "source": [
    "autorizacion"
   ]
  },
  {
   "cell_type": "code",
   "execution_count": null,
   "metadata": {},
   "outputs": [],
   "source": [
    "if edad >= 18:\n",
    "    print(\"Sí puedes pasar\")\n",
    "elif 0 < edad < 18:\n",
    "    if autorizacion == 'si' or autorizacion ==  'sí':  #importante aquí repetir la comparación. También podríamos hacer autorización in ('si', 'sí')\n",
    "        print(\"Puedes pasar, menos mal que has traído autorización\")\n",
    "    else:\n",
    "        print(\"No puedes pasar sin autorización\")\n",
    "else:\n",
    "    print(\"Introduce una edad correcta, no puede ser negativa\")\n"
   ]
  },
  {
   "cell_type": "code",
   "execution_count": null,
   "metadata": {},
   "outputs": [],
   "source": [
    "#Siempre hay otras formas de hacer las cosas...\n",
    "#If variable será TRUE si la variable es True y False si es False. No hae falta decir if autorizacion is True\n",
    "\n",
    "autorizacion = True\n",
    "edad = 15\n",
    "\n",
    "if edad >= 18:\n",
    "    print(\"Sí puedes pasar\")\n",
    "elif edad < 18:\n",
    "    if autorizacion:\n",
    "        print(\"Puedes pasar, menos mal que has traído autorización\")\n",
    "    else:\n",
    "        print(\"No puedes pasar sin autorización\")\n",
    "else:\n",
    "    print(\"Introduce una edad correcta, no puede ser negativa\")"
   ]
  },
  {
   "cell_type": "markdown",
   "metadata": {},
   "source": [
    "# Crea una lista de frutas. Pide al usuario que añada una fruta, si ya está dile que está repetida, si no está, añádela a la lista"
   ]
  },
  {
   "cell_type": "code",
   "execution_count": 16,
   "metadata": {},
   "outputs": [],
   "source": [
    "frutas = [\"pera\", \"manzana\", \"plátano\"]"
   ]
  },
  {
   "cell_type": "code",
   "execution_count": 64,
   "metadata": {},
   "outputs": [],
   "source": [
    "fruta_nueva = input(\"Dime una fruta, porfa\")"
   ]
  },
  {
   "cell_type": "code",
   "execution_count": 65,
   "metadata": {},
   "outputs": [
    {
     "name": "stdout",
     "output_type": "stream",
     "text": [
      "Genial, hemos añadido uvas a la lista\n",
      "['pera', 'manzana', 'plátano', 'fresa', 'uvas']\n"
     ]
    }
   ],
   "source": [
    "if fruta_nueva in frutas:\n",
    "    print(\"Ya la tenemos\")\n",
    "else: \n",
    "    frutas.append(fruta_nueva)\n",
    "    print(f\"Genial, hemos añadido {fruta_nueva} a la lista\")\n",
    "    print(frutas)"
   ]
  },
  {
   "cell_type": "markdown",
   "metadata": {},
   "source": [
    "### Ejercicio con diccionario\n",
    "- Pide a la usuaria que elija un color. Si el color está en el diccionario, que muestre el significado de ese color\n",
    "- Pista! Recuerda que para acceder al valor de una clave se accedia así: diccionario[clave]"
   ]
  },
  {
   "cell_type": "code",
   "execution_count": null,
   "metadata": {},
   "outputs": [],
   "source": [
    "colores = {\n",
    "    \"rojo\": \"amor y pasión\",\n",
    "    \"azul\": \"calma y tranquilidad\",\n",
    "    \"verde\": \"naturaleza y esperanza\"\n",
    "}"
   ]
  },
  {
   "cell_type": "code",
   "execution_count": 67,
   "metadata": {},
   "outputs": [
    {
     "data": {
      "text/plain": [
       "'amor y pasión'"
      ]
     },
     "execution_count": 67,
     "metadata": {},
     "output_type": "execute_result"
    }
   ],
   "source": [
    "colores[\"rojo\"]"
   ]
  },
  {
   "cell_type": "code",
   "execution_count": 69,
   "metadata": {},
   "outputs": [
    {
     "name": "stdout",
     "output_type": "stream",
     "text": [
      "El significado de verde es naturaleza y esperanza\n"
     ]
    }
   ],
   "source": [
    "color = input(\"Elige un color, por favor:\")\n",
    "\n",
    "if color in colores:\n",
    "    print(f\"El significado de {color} es {colores[color]}\")"
   ]
  },
  {
   "cell_type": "markdown",
   "metadata": {},
   "source": [
    "## Condiciones múltiples\n",
    "- Podemos pedir que se compruebe más de una condición\n",
    "- CUIDADO CON: <= o <\n",
    "- Cubrir todas las opciones"
   ]
  },
  {
   "cell_type": "code",
   "execution_count": 41,
   "metadata": {},
   "outputs": [],
   "source": [
    "edad = 30"
   ]
  },
  {
   "cell_type": "code",
   "execution_count": null,
   "metadata": {},
   "outputs": [],
   "source": [
    "#Hay diferentes formas de hacer la misma comprobación\n",
    "\n",
    "#Hay una beca que solo te la dan si tienes entre 30 y 50 años \n",
    "\n",
    "#opción 1\n",
    "if edad >= 30 and edad <= 50:\n",
    "    print(\"Puedes acceder a la beca\")\n",
    "else:\n",
    "    print(\"No puedes acceder a la beca\")"
   ]
  },
  {
   "cell_type": "code",
   "execution_count": null,
   "metadata": {},
   "outputs": [],
   "source": [
    "#opción 2\n",
    "if 30 <= edad <= 50:\n",
    "    print(\"Puedes acceder a la beca\")\n",
    "else:\n",
    "    print(\"No puedes acceder a la beca\")"
   ]
  },
  {
   "cell_type": "code",
   "execution_count": null,
   "metadata": {},
   "outputs": [],
   "source": [
    "#opción INCORRECTA\n",
    "\n",
    "if edad > 30 and < 50:\n",
    "    print(\"Puedes acceder a la beca\")\n",
    "else:\n",
    "    print(\"No puedes acceder a la beca\")"
   ]
  },
  {
   "cell_type": "markdown",
   "metadata": {},
   "source": [
    "# BUCLE WHILE"
   ]
  },
  {
   "cell_type": "markdown",
   "metadata": {},
   "source": [
    "- El bucle while repite un conjunto de código mientras se cumpla una condición, para que deje de repetir el bucle, esa condición debe cambiar.\n",
    "- Estructura:\n",
    "\n",
    "    variable_control\n",
    "    \n",
    "    while condicion:\n",
    "        bloque_instrucciones\n",
    "        modifica_variable\n",
    "\n",
    "- Mientras la condición sea True, vuelve a ejecutarse\n",
    "- Cuidado con los bucles infinitos: ¡Tenemos que hacer algo para que la condición cambien durante la repetición del bucle!\n",
    "- Tengo una amiga que se llama Antonia, pero si le llamo Toñi, se enfada. Siempre que le llamo Toñi se enfada y entramos en bucle. Si le llamo Antonia, salimos del bucle."
   ]
  },
  {
   "cell_type": "code",
   "execution_count": 71,
   "metadata": {},
   "outputs": [
    {
     "name": "stdout",
     "output_type": "stream",
     "text": [
      "Antonia: 'Estoy enfadada'\n",
      "Hola :D\n"
     ]
    }
   ],
   "source": [
    "saludo = '¡Hola, Toñi'\n",
    "\n",
    "while 'Toñi' in saludo:\n",
    "    print(\"Antonia: 'Estoy enfadada'\")\n",
    "    saludo = saludo.replace(\"Toñi\", \"Antonia\") #¡CUIDADO AQUÍ! Si no modificamos la variable original, no hacemos un cambio en realidad\n",
    "print(\"Hola :D\")\n",
    "   "
   ]
  },
  {
   "cell_type": "code",
   "execution_count": 72,
   "metadata": {},
   "outputs": [
    {
     "name": "stdout",
     "output_type": "stream",
     "text": [
      "No puedes montar en moto\n",
      "Ha pasado un año, ahora tienes 11 años\n",
      "No puedes montar en moto\n",
      "Ha pasado un año, ahora tienes 12 años\n",
      "No puedes montar en moto\n",
      "Ha pasado un año, ahora tienes 13 años\n",
      "No puedes montar en moto\n",
      "Ha pasado un año, ahora tienes 14 años\n",
      "No puedes montar en moto\n",
      "Ha pasado un año, ahora tienes 15 años\n",
      "No puedes montar en moto\n",
      "Ha pasado un año, ahora tienes 16 años\n",
      "No puedes montar en moto\n",
      "Ha pasado un año, ahora tienes 17 años\n",
      "No puedes montar en moto\n",
      "Ha pasado un año, ahora tienes 18 años\n",
      "¡Ya puedes montar en moto!\n"
     ]
    }
   ],
   "source": [
    "#Hasta que no cumplas los 18, no podrás montar en moto\n",
    "tu_edad = 10\n",
    "\n",
    "while tu_edad < 18:\n",
    "    print(\"No puedes montar en moto\")\n",
    "    tu_edad += 1   \n",
    "    print(f\"Ha pasado un año, ahora tienes {tu_edad} años\")\n",
    "    \n",
    "print(\"¡Ya puedes montar en moto!\")"
   ]
  },
  {
   "cell_type": "code",
   "execution_count": 74,
   "metadata": {},
   "outputs": [
    {
     "name": "stdout",
     "output_type": "stream",
     "text": [
      "0\n",
      "1\n",
      "2\n",
      "3\n",
      "4\n",
      "5\n"
     ]
    }
   ],
   "source": [
    "contador = 0\n",
    "while contador <= 5:\n",
    "\tprint(contador)\n",
    "\tcontador += 1 "
   ]
  },
  {
   "cell_type": "code",
   "execution_count": 76,
   "metadata": {},
   "outputs": [
    {
     "name": "stdout",
     "output_type": "stream",
     "text": [
      "Llevas ahorrado 20\n",
      "Llevas ahorrado 60\n",
      "Llevas ahorrado 110\n",
      "Has ahorrado 110 euros\n"
     ]
    }
   ],
   "source": [
    "#Tengo una hucha y quiero llenarla mínimo hasta 100 euros\n",
    "\n",
    "acumulador = 0\n",
    "\n",
    "while acumulador <= 100:\n",
    "    ahorro= int(input(\"¿Cuánto metes en la hucha?\"))\n",
    "    acumulador += ahorro\n",
    "    print(f\"Llevas ahorrado {acumulador}\")\n",
    "print(f\"Has ahorrado {acumulador} euros\")"
   ]
  },
  {
   "cell_type": "code",
   "execution_count": null,
   "metadata": {},
   "outputs": [],
   "source": [
    "contador = 5\n",
    "contador = contador + 1\n",
    "contador += 1"
   ]
  },
  {
   "cell_type": "markdown",
   "metadata": {},
   "source": [
    "## El uso del -= o +=\n",
    "- En vez de escribir contador = contador + 1, en Python escribimos contador += 1\n",
    "\n",
    "## Contadores:\n",
    "    - Variable a la que vamos sumando cuantas veces a pasado algo\n",
    "## Acumulador:\n",
    "    - Variable a la que le sumamos la cantidad de algo"
   ]
  },
  {
   "cell_type": "code",
   "execution_count": null,
   "metadata": {},
   "outputs": [],
   "source": [
    "numero = int(input(\"Escriba un numero positivo\"))\n",
    "numero = -2\n",
    "\n",
    "while numero <0:\n",
    "    print(\"He dicho positivo, vuelva a intentarlo\")\n",
    "    numero = int(input(\"Escriba un numero positivo\")) #CUIDADO AQUÍ, si no le volvemos a dar la oportunidad de reintroducir un número, se crea un bucle infinito\n",
    "print(\"¡Gracias!\")\n"
   ]
  },
  {
   "cell_type": "code",
   "execution_count": null,
   "metadata": {},
   "outputs": [],
   "source": [
    "# Haz este mismo ejercicio, pero con while. Pídele una y otra vez la contraseña a la usuaria hasta que sea la misma.\n",
    "password = \"rocio1234\"\n",
    "\n",
    "password2 = input(\"Introduce tu contraseña\")\n",
    "\n",
    "if password2 == password:\n",
    "    print(\"Genial, has entrado en tu cuenta.\")\n",
    "else:\n",
    "    print(\"Contraseña incorrecta. Hemos bloqueado tu cuenta\")\n",
    "\n",
    "\n",
    "#PISTA! Recuerda que para comparar dos elementos se usa ==, y para decir que son diferentes, se usa...?"
   ]
  },
  {
   "cell_type": "code",
   "execution_count": null,
   "metadata": {},
   "outputs": [],
   "source": [
    "password = \"rocio1234\"\n",
    "\n",
    "password2 = input(\"Introduce tu contraseña\")\n",
    "\n",
    "\n",
    "while password != password2:\n",
    "    password2 = input(\"Vuelve a intentarlo\")\n",
    "    "
   ]
  },
  {
   "cell_type": "markdown",
   "metadata": {},
   "source": [
    "## Control de bucles\n",
    "## Hoy los veremos por encima, se usan más en otro tipo de bucle que veremos el próximo día\n",
    "### Son declaraciones de control para controlar el flujo de ejecución de los ciclos: es decir, para nosotras decir cuándo parar por completo el bucle o que se salte una de las vueltas del bucle. Veamos...\n",
    "- Break\n",
    "- Continue "
   ]
  },
  {
   "cell_type": "code",
   "execution_count": 80,
   "metadata": {},
   "outputs": [
    {
     "name": "stdout",
     "output_type": "stream",
     "text": [
      "Has acertado\n"
     ]
    }
   ],
   "source": [
    "#BREAK: corta el bucle por completo y sale de él\n",
    "num1 = 20\n",
    "num2= int(input(\"Introduce un número\"))\n",
    "\n",
    "while num1 != num2:\n",
    "    num2= int(input(\"Adivina un número del 1 al 20. Introduce 0 para salir del juego\"))\n",
    "    if num2 == 0:\n",
    "        print(\"Adiós\")\n",
    "        break\n",
    "    elif num2 == num1:\n",
    "        print(\"Has acertado\")\n",
    "\n"
   ]
  },
  {
   "cell_type": "code",
   "execution_count": null,
   "metadata": {},
   "outputs": [],
   "source": [
    "#CONTINUE: se salta una de las repeticiones del bucle\n",
    "\n",
    "#Quiero hacer una lista de 5 numeros pares\n",
    "\n",
    "lista_pares = []\n",
    "\n",
    "while len(lista_pares) < 5:\n",
    "    num = int(input(\"Dime un número\"))\n",
    "    if num % 2 != 0:\n",
    "        print(\"Ese no es un número par\")\n",
    "        continue\n",
    "    else: lista_pares.append(num)\n",
    "\n",
    "print(lista_pares)\n",
    "\n",
    "#¿Se podría hacer diferente? ¿Se podrían cambiar las condiciones de posición?"
   ]
  },
  {
   "cell_type": "markdown",
   "metadata": {},
   "source": [
    "# BUCLE FOR"
   ]
  },
  {
   "cell_type": "markdown",
   "metadata": {},
   "source": [
    "\n",
    "- Es otra herramienta que permite repetir la misma porción de código tantas veces como queramos\n",
    "- La variable de control no es necesaria definirla antes del bucle\n",
    "- El cuerpo del bucle se ejecuta tantas veces como elementos tenga un objeto iterable (una lista, una cadena de texto, rango de números, etc.)\n",
    "- La costumbre más extendida es usar la letra i como variable de control, pero se puede usar cualquier otra palabra.\n",
    "- Sintaxis:\n",
    "    for variable_control in elemento_iterable:\n",
    "        instrucciones"
   ]
  },
  {
   "cell_type": "code",
   "execution_count": null,
   "metadata": {},
   "outputs": [],
   "source": [
    "#Tengo una lista de la compra y quiero que Alexa me diga todo lo que tengo que comprar\n",
    "\n",
    "lista_compra = [\"lechuga\", \"tomate\", \"zanahoria\", \"espinacas\"]\n",
    "\n",
    "for i in lista_compra:\n",
    "    print(f\"Tienes que comprar {i}\")\n"
   ]
  },
  {
   "cell_type": "code",
   "execution_count": null,
   "metadata": {},
   "outputs": [],
   "source": [
    "for numero in [1,2,3]:\n",
    "    print(numero)"
   ]
  },
  {
   "cell_type": "code",
   "execution_count": null,
   "metadata": {},
   "outputs": [],
   "source": [
    "for i in [1,2,3]:\n",
    "    print(i) #ser coherentes con el nombre que le damos a la variable de control"
   ]
  },
  {
   "cell_type": "code",
   "execution_count": null,
   "metadata": {},
   "outputs": [],
   "source": [
    "for i in [1,2,3]:\n",
    "    print(f\"Mi número favorito es el {i}\")"
   ]
  },
  {
   "cell_type": "code",
   "execution_count": null,
   "metadata": {},
   "outputs": [],
   "source": [
    "# Tengo esta lista de nombres y quiero que me los imprima de uno en uno:\n",
    "\n",
    "amigas = [\"Ana\", \"Carmen\", \"Sara\", \"Pepi\", \"Gloria\"]"
   ]
  },
  {
   "cell_type": "code",
   "execution_count": null,
   "metadata": {},
   "outputs": [],
   "source": [
    "# Tengo esta lista de números. Quiero que me diga en una frase, qué numero es y cuánto sería si lo multiplicamos por 20\n",
    "\n",
    "numeros_aleatorios = [30,5,20,12,40,100,2]\n"
   ]
  },
  {
   "cell_type": "markdown",
   "metadata": {},
   "source": [
    "- Si el iterable está vacío, no se repite ninguna vez\n",
    "- Por cada vuelta, la variable de control (\"i\" o el nombre que le queramos dar) tendrá un valor diferente.\n",
    "- for i in [1,2,3]--> aquí i es la variable de control y [1,2,3] es el elemento iterable\n",
    "- El elemento iterable también puede ser una palabra o una lista. Veamos más ejemplos. "
   ]
  },
  {
   "cell_type": "code",
   "execution_count": null,
   "metadata": {},
   "outputs": [],
   "source": [
    "for letra in \"ADALAB\":\n",
    "    print(f\"Dame una {letra}\")"
   ]
  },
  {
   "cell_type": "code",
   "execution_count": null,
   "metadata": {},
   "outputs": [],
   "source": [
    "for i in \"ADALAB\":\n",
    "    print(f\"Dame una {i}\")"
   ]
  },
  {
   "cell_type": "code",
   "execution_count": null,
   "metadata": {},
   "outputs": [],
   "source": [
    "#Ahora igual, pero que me dé cada letra en minúscula\n"
   ]
  },
  {
   "cell_type": "code",
   "execution_count": null,
   "metadata": {},
   "outputs": [
    {
     "name": "stdout",
     "output_type": "stream",
     "text": [
      "El nombre es Paco y tiene 4 caracteres\n",
      "El nombre es Toñi y tiene 4 caracteres\n",
      "El nombre es Jose y tiene 4 caracteres\n",
      "El nombre es María y tiene 5 caracteres\n",
      "El nombre es Mónica y tiene 6 caracteres\n"
     ]
    }
   ],
   "source": [
    "lista_nombres = [\"Paco\", \"Antonia\", \"Jose\", \"María\", \"Mónica\", \"Ana\", \"Po\"]\n",
    "\n",
    "#Quiero que me imprima por cada nombre una frase con el nombre y el número de caracteres que tiene\n"
   ]
  },
  {
   "cell_type": "code",
   "execution_count": null,
   "metadata": {},
   "outputs": [],
   "source": [
    "elementos = [\"Rosa\", 20, \"Málaga\", 1.70]\n",
    "\n",
    "for elemento in elementos:\n",
    "    print(elemento)"
   ]
  },
  {
   "cell_type": "code",
   "execution_count": null,
   "metadata": {},
   "outputs": [],
   "source": [
    "#Y es igual es...\n",
    "#El nombre de elemento se le da por entender mejor lo que hacemos, pero podría ser cualquier nombre.\n",
    "\n",
    "for elemento in [\"Rosa\", 20, \"Málaga\", 1.70]:\n",
    "    print(elemento)"
   ]
  },
  {
   "cell_type": "code",
   "execution_count": null,
   "metadata": {},
   "outputs": [],
   "source": [
    "#Podemos usar otras estructuras como los diccionarios\n",
    "\n",
    "diccionario_menu = {\"primer plato\": \"sopa\", \"segundo plato\": \"pollo a la naranja\", \"postre\": \"tiramisú\"}\n",
    "\n",
    "for elemento in diccionario_menu:\n",
    "    print(f\"De {elemento} tenemos {diccionario_menu[elemento]}\")"
   ]
  },
  {
   "cell_type": "code",
   "execution_count": 29,
   "metadata": {},
   "outputs": [
    {
     "name": "stdout",
     "output_type": "stream",
     "text": [
      "De primer plato tenemos sopa\n",
      "De segundo plato tenemos pollo a la naranja\n",
      "De postre tenemos tiramisú\n"
     ]
    }
   ],
   "source": [
    "#Pero tenemos muchas formas de hacer lo mismo\n",
    "\n",
    "for clave, valor in diccionario_menu.items():\n",
    "    print(f\"De {clave} tenemos {valor}\")"
   ]
  },
  {
   "cell_type": "code",
   "execution_count": null,
   "metadata": {},
   "outputs": [],
   "source": [
    "#uso del range\n",
    "\n",
    "for i in range(10):\n",
    "    print(i)"
   ]
  },
  {
   "cell_type": "code",
   "execution_count": null,
   "metadata": {},
   "outputs": [],
   "source": [
    "for i in range(1,5):\n",
    "    print(i)"
   ]
  },
  {
   "cell_type": "code",
   "execution_count": null,
   "metadata": {},
   "outputs": [],
   "source": [
    "for i in range(0,10,2):\n",
    "    print(i)"
   ]
  },
  {
   "cell_type": "code",
   "execution_count": null,
   "metadata": {},
   "outputs": [],
   "source": [
    "#Hacer cambios en una lista\n",
    "\n",
    "lista_num = [1,2,3,4,5,6,7,8,9,10]\n",
    "lista_nueva = []\n",
    "\n",
    "for num in lista_num:\n",
    "    if num % 2 == 0:\n",
    "        lista_nueva.append(num)\n",
    "print(lista_nueva)"
   ]
  },
  {
   "cell_type": "code",
   "execution_count": null,
   "metadata": {},
   "outputs": [],
   "source": [
    "#Tengo esta lista de precios, pero solo me interesan los productos que valgan 30 euros o más. Quiero me imprima de uno en uno los precios.\n",
    "\n",
    "lista_precios = [4,10,1,5,20,60,30,20,21,43,10,54,30,40]"
   ]
  },
  {
   "cell_type": "code",
   "execution_count": null,
   "metadata": {},
   "outputs": [],
   "source": [
    "#Ahora quiero hacer lo mismo pero con este diccionario y que me imprima el nombre del producto que valga 30 o más\n"
   ]
  },
  {
   "cell_type": "markdown",
   "metadata": {},
   "source": [
    "## Control de bucles y librería random"
   ]
  },
  {
   "cell_type": "code",
   "execution_count": 19,
   "metadata": {},
   "outputs": [],
   "source": [
    "import random"
   ]
  },
  {
   "cell_type": "code",
   "execution_count": 23,
   "metadata": {},
   "outputs": [],
   "source": [
    "numero_aleatorio = random.randint(1,10)"
   ]
  },
  {
   "cell_type": "code",
   "execution_count": 24,
   "metadata": {},
   "outputs": [
    {
     "data": {
      "text/plain": [
       "1"
      ]
     },
     "execution_count": 24,
     "metadata": {},
     "output_type": "execute_result"
    }
   ],
   "source": [
    "numero_aleatorio"
   ]
  },
  {
   "cell_type": "code",
   "execution_count": null,
   "metadata": {},
   "outputs": [],
   "source": [
    "for i in range(3):\n",
    "    num = int(input(\"Adivina el número, tienes 3 oportunidades\"))\n",
    "    if num == numero_aleatorio:\n",
    "        print(\"Has acertado.\")\n",
    "        break\n",
    "print(\"Se acabó el juego.\")"
   ]
  },
  {
   "cell_type": "code",
   "execution_count": null,
   "metadata": {},
   "outputs": [],
   "source": [
    "#Veamos cómo podríamos usar el continue con un bucle for\n",
    "\n",
    "edades = [10, 30, 45, 23, 90, 51, 10, 5, 34, 60, 17]\n",
    "mayores_edad = []\n",
    "\n",
    "\n",
    "for edad in edades:\n",
    "    if edad < 18:\n",
    "        continue\n",
    "    else:\n",
    "        mayores_edad.append(edad)\n",
    "        \n",
    "print(mayores_edad)\n"
   ]
  },
  {
   "cell_type": "markdown",
   "metadata": {},
   "source": [
    "### List comprehension\n",
    "- Es una manera más concisa y muy profesional de hacer un bucle con for en una línea\n",
    "- Es más legible\n",
    "- Sintaxis: nueva_lista = [expresion for elemento in variable_iterable]"
   ]
  },
  {
   "cell_type": "code",
   "execution_count": null,
   "metadata": {},
   "outputs": [],
   "source": [
    "#Tengo unas palabras pero quiero sustituir las a por las e\n",
    "\n",
    "palabras = [\"casa\", \"asa\", \"pasa\", \"gansa\"]\n",
    "\n",
    "nueva_lista = [palabra.replace(\"a\", \"e\") for palabra in palabras]\n",
    "print(nueva_lista)"
   ]
  },
  {
   "cell_type": "code",
   "execution_count": null,
   "metadata": {},
   "outputs": [],
   "source": [
    "lista_numeros = [40,50,60,70,80]\n",
    "\n",
    "numeros_entre_diez = [numero//10 for numero in lista_numeros]\n",
    "print(numeros_entre_diez)"
   ]
  },
  {
   "cell_type": "markdown",
   "metadata": {},
   "source": [
    "### Try/except"
   ]
  },
  {
   "cell_type": "markdown",
   "metadata": {},
   "source": [
    "- Es una forma de controlar errores en Python.\n",
    "- Como os habéis fijado, cuando hacemos algo que está mal, da error en Python y se corta todo el código, esto puede ser un problema. Por eso usamos try/except para evitar que de error si algo sale mal. Así, si por ejemplo, estamos en el bucle, el código seguirá funcionando.\n",
    "- Se usa metiendo una estrucutra de código que puede que nos de error en try y luego definimos en except el error que podría ocurrir para que lo muestre.\n",
    "- La sintais es:\n",
    "    try:\n",
    "        código que pueda generar error\n",
    "    except TipoDeError:\n",
    "        código para manerar el error\n",
    "\n"
   ]
  },
  {
   "cell_type": "code",
   "execution_count": 33,
   "metadata": {},
   "outputs": [
    {
     "name": "stdout",
     "output_type": "stream",
     "text": [
      "Tienes que introducir un NÚMERO\n"
     ]
    }
   ],
   "source": [
    "try:\n",
    "    numero = int(input(\"Escribe un número\")) #pedimos que nos introduzca un número. ¿Pero si la usuaria escribe otra cosa?\n",
    "    print(f\"El doble de {numero} es {numero*2}\")\n",
    "\n",
    "except ValueError:\n",
    "    print(\"Tienes que introducir un NÚMERO\")"
   ]
  },
  {
   "cell_type": "code",
   "execution_count": null,
   "metadata": {},
   "outputs": [],
   "source": [
    "entradas = [\"10\", \"20\", \"hola\", \"30\", \"adios\"] \n",
    "\n",
    "for entrada in entradas:\n",
    "    try:\n",
    "        numero = int(entrada)  # Intentamos convertir cada elemento a un entero\n",
    "        print(f\"{entrada} es un número válido. Su doble es {numero * 2}.\")\n",
    "    except ValueError:  # Si ocurre un error, manejamos la excepción\n",
    "        print(f\"{entrada} no es un número válido.\")"
   ]
  },
  {
   "cell_type": "markdown",
   "metadata": {},
   "source": [
    "### Podemos darle un nombre al error que se pueda generar, pero si no, podemos usar sencillamente el except."
   ]
  },
  {
   "cell_type": "code",
   "execution_count": 35,
   "metadata": {},
   "outputs": [
    {
     "name": "stdout",
     "output_type": "stream",
     "text": [
      "Error\n"
     ]
    }
   ],
   "source": [
    "try:\n",
    "    print(int(\"hola\"))\n",
    "except:\n",
    "    print(\"Error\")"
   ]
  },
  {
   "cell_type": "code",
   "execution_count": null,
   "metadata": {},
   "outputs": [
    {
     "name": "stdout",
     "output_type": "stream",
     "text": [
      "Aquí tienes tu Tetera\n"
     ]
    }
   ],
   "source": [
    "lista_de_cosas = [\"tetera\", \"mesa\", \"paraguas\", \"libro\", \"casco\", \"vino\"]\n",
    "\n",
    "\n",
    "posicion = int(input(\"Dime la posición de la cosa que quieres, siendo la primera la 0\"))\n",
    "\n",
    "try:\n",
    "    print(f\"Aquí tienes tu {lista_de_cosas[posicion]}\")\n",
    "except:\n",
    "    print(\"No hay nada en esa ubicación\")"
   ]
  },
  {
   "cell_type": "markdown",
   "metadata": {},
   "source": [
    "- `TypeError`: se produce cuando una función o operación se aplica a un objeto de tipo inapropiado.\n",
    "\n",
    "- `ValueError`: se produce cuando una función o método recibe un argumento de tipo correcto pero con un valor inapropiado.\n",
    "\n",
    "- `IndexError`: se produce cuando se intenta acceder a un índice que está fuera del rango de una lista o secuencia.\n",
    "\n",
    "- `KeyError`: se produce cuando se intenta acceder a una clave que no existe en un diccionario.\n",
    "\n",
    "- `ZeroDivisionError`: se produce cuando se intenta dividir un número por cero.\n"
   ]
  }
 ],
 "metadata": {
  "kernelspec": {
   "display_name": "Python 3",
   "language": "python",
   "name": "python3"
  },
  "language_info": {
   "codemirror_mode": {
    "name": "ipython",
    "version": 3
   },
   "file_extension": ".py",
   "mimetype": "text/x-python",
   "name": "python",
   "nbconvert_exporter": "python",
   "pygments_lexer": "ipython3",
   "version": "3.9.5"
  }
 },
 "nbformat": 4,
 "nbformat_minor": 2
}
