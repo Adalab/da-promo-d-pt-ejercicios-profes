{
 "cells": [
  {
   "cell_type": "markdown",
   "metadata": {},
   "source": [
    "# Estructuras de control: if/elif/else"
   ]
  },
  {
   "cell_type": "markdown",
   "metadata": {},
   "source": [
    "## If/elif/else\n",
    "- Estructura de control que permite que un programa ejecute unas instrucciones cuando se cumplen unas o varias condiciones\n",
    "- Usaremos mucho las comparaciones y valores booleanos\n",
    "- Estructura:\n",
    "    if condicion:\n",
    "        se ejecuta este código\n",
    "    elif condicion2:\n",
    "        se ejecuta este código\n",
    "    elif tal:\n",
    "        cual\n",
    "    else:\n",
    "        se ejecuta este\n",
    "- Importante la sangría y los dos puntos\n",
    "- No recomendable concatenar if, porque así la máquina \"trabaja más\" y pasa por todos los \"if\"\n",
    "- Puede haber varios elif, pero solo un if y un else\n",
    "- El \"else\" solo se usa para que se ejecute si no se cumple ninguna de las demás funciones. No va con ninguna condición, su condición es que no se cumplan las anteriores.\n",
    "- Sentencias anidadas\n",
    "- Condiciones múltiples con and y or"
   ]
  },
  {
   "cell_type": "code",
   "execution_count": null,
   "metadata": {},
   "outputs": [
    {
     "name": "stdout",
     "output_type": "stream",
     "text": [
      "Puedes pasar\n"
     ]
    }
   ],
   "source": [
    "#Si me llamo Rocío Martínez puedo pasar, si no nada\n",
    "\n",
    "name = input(\"¿Cómo te llamas?\")\n",
    "\n",
    "\n",
    "if name == \"Rocío Martínez\":\n",
    "    print(\"Puedes pasar\")"
   ]
  },
  {
   "cell_type": "code",
   "execution_count": 39,
   "metadata": {},
   "outputs": [
    {
     "data": {
      "text/plain": [
       "True"
      ]
     },
     "execution_count": 39,
     "metadata": {},
     "output_type": "execute_result"
    }
   ],
   "source": [
    "name == \"Rocío Martínez\""
   ]
  },
  {
   "cell_type": "code",
   "execution_count": 41,
   "metadata": {},
   "outputs": [
    {
     "name": "stdout",
     "output_type": "stream",
     "text": [
      "a es menor que b\n"
     ]
    }
   ],
   "source": [
    "a = 10\n",
    "b = 20\n",
    "\n",
    "if a<b:\n",
    "    print(\"a es menor que b\")\n",
    "elif a>b:\n",
    "    print(\"a es mayor que b\")\n",
    "else:\n",
    "    print(\"Son iguales\")"
   ]
  },
  {
   "cell_type": "code",
   "execution_count": 40,
   "metadata": {},
   "outputs": [
    {
     "data": {
      "text/plain": [
       "True"
      ]
     },
     "execution_count": 40,
     "metadata": {},
     "output_type": "execute_result"
    }
   ],
   "source": [
    "a < b"
   ]
  },
  {
   "cell_type": "code",
   "execution_count": 42,
   "metadata": {},
   "outputs": [
    {
     "data": {
      "text/plain": [
       "True"
      ]
     },
     "execution_count": 42,
     "metadata": {},
     "output_type": "execute_result"
    }
   ],
   "source": [
    "b > a"
   ]
  },
  {
   "cell_type": "code",
   "execution_count": null,
   "metadata": {},
   "outputs": [
    {
     "name": "stdout",
     "output_type": "stream",
     "text": [
      "Ok\n"
     ]
    }
   ],
   "source": [
    "a = 10\n",
    "b = 20\n",
    "c = 1\n",
    "\n",
    "#MÁS DE UNA CONDICIÓN\n",
    "#Ahora quiero que me imprima un OK si a es menor que b y mayor que c, y si no es así, que me diga NO\n",
    "#PISTA: podemos usar palabras clave como and\n",
    "\n",
    "if a < b and a > c:\n",
    "    print(\"Ok\")\n",
    "else:\n",
    "    print(\"No\")"
   ]
  },
  {
   "cell_type": "code",
   "execution_count": 45,
   "metadata": {},
   "outputs": [
    {
     "data": {
      "text/plain": [
       "True"
      ]
     },
     "execution_count": 45,
     "metadata": {},
     "output_type": "execute_result"
    }
   ],
   "source": [
    "b>a>c"
   ]
  },
  {
   "cell_type": "markdown",
   "metadata": {},
   "source": [
    "- La primera línea de la estructura de control, tiene la expresión a evaluar, que dará True o False: es decir, se cumple o no se cumple.\n",
    "\n",
    "- USO: if (la primera), elif (si hay otra condición), else (la última que usamos)\n",
    "\n",
    "- Para que Python \"sepa\" que no hay nada más que evaluar, usamos : \n",
    "- Cuando se cumpla ese requisito, Python pasará a hacer lo que hay en la siguiente línea, que tendrá una sangría. Si no la cumple, pasa al siguiente \"elif\" o \"else\" o sale de la estructura si no hay más opciones.\n",
    "- Cuando terminemos de ejecutar el bloque de instrucciones, basta con eliminar la sangría.\n",
    "- Llamaremos a la primera línea, la **línea de condición** y a la segunda, **línea de consecuencia**\n",
    "- En la línea de consecuencia, podemos hacer lo que queramos: un print(), hacer un .append() a una lista, un input(), borrar algo de un diccionario..."
   ]
  },
  {
   "cell_type": "code",
   "execution_count": 49,
   "metadata": {},
   "outputs": [
    {
     "name": "stdout",
     "output_type": "stream",
     "text": [
      "Vaya, Marta no ha podido venir.\n"
     ]
    }
   ],
   "source": [
    "nombres = ['María', 'Juana', 'Luisa', 'Rosa']\n",
    "\n",
    "if \"Marta\" in nombres:\n",
    "    print(\"Marta ha venido a la fiesta\")\n",
    "else:\n",
    "    print(\"Vaya, Marta no ha podido venir.\")"
   ]
  },
  {
   "cell_type": "code",
   "execution_count": 50,
   "metadata": {},
   "outputs": [
    {
     "data": {
      "text/plain": [
       "False"
      ]
     },
     "execution_count": 50,
     "metadata": {},
     "output_type": "execute_result"
    }
   ],
   "source": [
    "\"Marta\" in nombres"
   ]
  },
  {
   "cell_type": "code",
   "execution_count": 51,
   "metadata": {},
   "outputs": [
    {
     "name": "stdout",
     "output_type": "stream",
     "text": [
      "Contraseña incorrecta. Hemos bloqueado tu cuenta\n"
     ]
    }
   ],
   "source": [
    "password = \"rocio1234\"\n",
    "\n",
    "password2 = input(\"Introduce tu contraseña\")\n",
    "\n",
    "if password2 == password:\n",
    "    print(\"Genial, has entrado en tu cuenta.\")\n",
    "else:\n",
    "    print(\"Contraseña incorrecta. Hemos bloqueado tu cuenta\")"
   ]
  },
  {
   "cell_type": "code",
   "execution_count": 52,
   "metadata": {},
   "outputs": [
    {
     "data": {
      "text/plain": [
       "False"
      ]
     },
     "execution_count": 52,
     "metadata": {},
     "output_type": "execute_result"
    }
   ],
   "source": [
    "password2 == password"
   ]
  },
  {
   "cell_type": "markdown",
   "metadata": {},
   "source": [
    "- Ejemplo de if anidados"
   ]
  },
  {
   "cell_type": "code",
   "execution_count": null,
   "metadata": {},
   "outputs": [
    {
     "name": "stdout",
     "output_type": "stream",
     "text": [
      "Artículo disponible, no hay la talla {talla} para {genero}\n"
     ]
    }
   ],
   "source": [
    "#Opciones de ropa de una tienda en la que estamos comprando online\n",
    "#género: Mujer, Hombre\n",
    "#tallas: S, M, L, XL\n",
    "\n",
    "#¿se podría hacer esto con un input?\n",
    "genero=  \"Hombre\"\n",
    "talla = \"L\"\n",
    "\n",
    "\n",
    "if genero == 'Mujer':\n",
    "  if talla == 'L':\n",
    "    print(\"No hay stock de esta talla\")\n",
    "  elif talla in ('S', 'XL'):\n",
    "    print(\"Quedan pocas unidades. ¡Date prisa!\")\n",
    "  elif talla == 'M':\n",
    "    print(\"Artículo disponible\")\n",
    "  else:\n",
    "    print(\"Por favor, introduzca una talla correcta (S, M, L o XL)\")\n",
    "elif genero == 'Hombre':\n",
    "  if talla in (\"S\", \"M\", \"XL\"):\n",
    "    print(f\"La talla {talla} no tiene stock\")\n",
    "  elif talla == 'L':\n",
    "    print(f\"Artículo disponible, no hay la talla {talla} para {genero}\")\n",
    "  else:\n",
    "    print(\"Introduzca una talla correcta (S, M, L o XL)\")\n",
    "else:\n",
    "  print(\"Introduzca un género aceptado en el sistema (Hombre o Mujer)\")\n"
   ]
  },
  {
   "cell_type": "code",
   "execution_count": 56,
   "metadata": {},
   "outputs": [
    {
     "name": "stdout",
     "output_type": "stream",
     "text": [
      "¡Qué bonita es Sevilla!\n"
     ]
    }
   ],
   "source": [
    "ciudad = \"Sevilla\"\n",
    "print(f\"¡Qué bonita es {ciudad}!\")"
   ]
  },
  {
   "cell_type": "markdown",
   "metadata": {},
   "source": [
    "### Si una persona es menor de edad y no tiene autorización, no puede pasar a la fiesta, si tiene autorización, puede pasar y si es mayor de edad, puede pasar."
   ]
  },
  {
   "cell_type": "code",
   "execution_count": null,
   "metadata": {},
   "outputs": [],
   "source": []
  },
  {
   "cell_type": "code",
   "execution_count": 57,
   "metadata": {},
   "outputs": [],
   "source": [
    "edad= int(input(\"¿Qué edad tienes\"))\n",
    "if edad < 18:\n",
    "    autorizacion = input(\"¿Tienes autorízación? Escribe 'Sí' o 'No\").lower()"
   ]
  },
  {
   "cell_type": "code",
   "execution_count": 58,
   "metadata": {},
   "outputs": [
    {
     "data": {
      "text/plain": [
       "17"
      ]
     },
     "execution_count": 58,
     "metadata": {},
     "output_type": "execute_result"
    }
   ],
   "source": [
    "edad"
   ]
  },
  {
   "cell_type": "code",
   "execution_count": 59,
   "metadata": {},
   "outputs": [
    {
     "data": {
      "text/plain": [
       "'si'"
      ]
     },
     "execution_count": 59,
     "metadata": {},
     "output_type": "execute_result"
    }
   ],
   "source": [
    "autorizacion"
   ]
  },
  {
   "cell_type": "code",
   "execution_count": null,
   "metadata": {},
   "outputs": [],
   "source": [
    "if edad >= 18:\n",
    "    print(\"Sí puedes pasar\")\n",
    "elif 0 < edad < 18:\n",
    "    if autorizacion == 'si' or autorizacion ==  'sí':  #importante aquí repetir la comparación. También podríamos hacer autorización in ('si', 'sí')\n",
    "        print(\"Puedes pasar, menos mal que has traído autorización\")\n",
    "    else:\n",
    "        print(\"No puedes pasar sin autorización\")\n",
    "else:\n",
    "    print(\"Introduce una edad correcta, no puede ser negativa\")\n"
   ]
  },
  {
   "cell_type": "code",
   "execution_count": null,
   "metadata": {},
   "outputs": [],
   "source": [
    "#Siempre hay otras formas de hacer las cosas...\n",
    "#If variable será TRUE si la variable es True y False si es False. No hae falta decir if autorizacion is True\n",
    "\n",
    "autorizacion = True\n",
    "edad = 15\n",
    "\n",
    "if edad >= 18:\n",
    "    print(\"Sí puedes pasar\")\n",
    "elif edad < 18:\n",
    "    if autorizacion:\n",
    "        print(\"Puedes pasar, menos mal que has traído autorización\")\n",
    "    else:\n",
    "        print(\"No puedes pasar sin autorización\")\n",
    "else:\n",
    "    print(\"Introduce una edad correcta, no puede ser negativa\")"
   ]
  },
  {
   "cell_type": "markdown",
   "metadata": {},
   "source": [
    "# Crea una lista de frutas. Pide al usuario que añada una fruta, si ya está dile que está repetida, si no está, añádela a la lista"
   ]
  },
  {
   "cell_type": "code",
   "execution_count": 16,
   "metadata": {},
   "outputs": [],
   "source": [
    "frutas = [\"pera\", \"manzana\", \"plátano\"]"
   ]
  },
  {
   "cell_type": "code",
   "execution_count": 64,
   "metadata": {},
   "outputs": [],
   "source": [
    "fruta_nueva = input(\"Dime una fruta, porfa\")"
   ]
  },
  {
   "cell_type": "code",
   "execution_count": 65,
   "metadata": {},
   "outputs": [
    {
     "name": "stdout",
     "output_type": "stream",
     "text": [
      "Genial, hemos añadido uvas a la lista\n",
      "['pera', 'manzana', 'plátano', 'fresa', 'uvas']\n"
     ]
    }
   ],
   "source": [
    "if fruta_nueva in frutas:\n",
    "    print(\"Ya la tenemos\")\n",
    "else: \n",
    "    frutas.append(fruta_nueva)\n",
    "    print(f\"Genial, hemos añadido {fruta_nueva} a la lista\")\n",
    "    print(frutas)"
   ]
  },
  {
   "cell_type": "markdown",
   "metadata": {},
   "source": [
    "### Ejercicio con diccionario\n",
    "- Pide a la usuaria que elija un color. Si el color está en el diccionario, que muestre el significado de ese color\n",
    "- Pista! Recuerda que para acceder al valor de una clave se accedia así: diccionario[clave]"
   ]
  },
  {
   "cell_type": "code",
   "execution_count": null,
   "metadata": {},
   "outputs": [],
   "source": [
    "colores = {\n",
    "    \"rojo\": \"amor y pasión\",\n",
    "    \"azul\": \"calma y tranquilidad\",\n",
    "    \"verde\": \"naturaleza y esperanza\"\n",
    "}"
   ]
  },
  {
   "cell_type": "code",
   "execution_count": 67,
   "metadata": {},
   "outputs": [
    {
     "data": {
      "text/plain": [
       "'amor y pasión'"
      ]
     },
     "execution_count": 67,
     "metadata": {},
     "output_type": "execute_result"
    }
   ],
   "source": [
    "colores[\"rojo\"]"
   ]
  },
  {
   "cell_type": "code",
   "execution_count": 69,
   "metadata": {},
   "outputs": [
    {
     "name": "stdout",
     "output_type": "stream",
     "text": [
      "El significado de verde es naturaleza y esperanza\n"
     ]
    }
   ],
   "source": [
    "color = input(\"Elige un color, por favor:\")\n",
    "\n",
    "if color in colores:\n",
    "    print(f\"El significado de {color} es {colores[color]}\")"
   ]
  },
  {
   "cell_type": "markdown",
   "metadata": {},
   "source": [
    "## Condiciones múltiples\n",
    "- Podemos pedir que se compruebe más de una condición\n",
    "- CUIDADO CON: <= o <\n",
    "- Cubrir todas las opciones"
   ]
  },
  {
   "cell_type": "code",
   "execution_count": 41,
   "metadata": {},
   "outputs": [],
   "source": [
    "edad = 30"
   ]
  },
  {
   "cell_type": "code",
   "execution_count": null,
   "metadata": {},
   "outputs": [],
   "source": [
    "#Hay diferentes formas de hacer la misma comprobación\n",
    "\n",
    "#Hay una beca que solo te la dan si tienes entre 30 y 50 años \n",
    "\n",
    "#opción 1\n",
    "if edad >= 30 and edad <= 50:\n",
    "    print(\"Puedes acceder a la beca\")\n",
    "else:\n",
    "    print(\"No puedes acceder a la beca\")"
   ]
  },
  {
   "cell_type": "code",
   "execution_count": null,
   "metadata": {},
   "outputs": [],
   "source": [
    "#opción 2\n",
    "if 30 <= edad <= 50:\n",
    "    print(\"Puedes acceder a la beca\")\n",
    "else:\n",
    "    print(\"No puedes acceder a la beca\")"
   ]
  },
  {
   "cell_type": "code",
   "execution_count": null,
   "metadata": {},
   "outputs": [],
   "source": [
    "#opción INCORRECTA\n",
    "\n",
    "if edad > 30 and < 50:\n",
    "    print(\"Puedes acceder a la beca\")\n",
    "else:\n",
    "    print(\"No puedes acceder a la beca\")"
   ]
  },
  {
   "cell_type": "markdown",
   "metadata": {},
   "source": [
    "# BUCLE WHILE"
   ]
  },
  {
   "cell_type": "markdown",
   "metadata": {},
   "source": [
    "- El bucle while repite un conjunto de código mientras se cumpla una condición, para que deje de repetir el bucle, esa condición debe cambiar.\n",
    "- Estructura:\n",
    "\n",
    "    variable_control\n",
    "    \n",
    "    while condicion:\n",
    "        bloque_instrucciones\n",
    "        modifica_variable\n",
    "\n",
    "- Mientras la condición sea True, vuelve a ejecutarse\n",
    "- Cuidado con los bucles infinitos: ¡Tenemos que hacer algo para que la condición cambien durante la repetición del bucle!\n",
    "- Tengo una amiga que se llama Antonia, pero si le llamo Toñi, se enfada. Siempre que le llamo Toñi se enfada y entramos en bucle. Si le llamo Antonia, salimos del bucle."
   ]
  },
  {
   "cell_type": "code",
   "execution_count": 71,
   "metadata": {},
   "outputs": [
    {
     "name": "stdout",
     "output_type": "stream",
     "text": [
      "Antonia: 'Estoy enfadada'\n",
      "Hola :D\n"
     ]
    }
   ],
   "source": [
    "saludo = '¡Hola, Toñi'\n",
    "\n",
    "while 'Toñi' in saludo:\n",
    "    print(\"Antonia: 'Estoy enfadada'\")\n",
    "    saludo = saludo.replace(\"Toñi\", \"Antonia\") #¡CUIDADO AQUÍ! Si no modificamos la variable original, no hacemos un cambio en realidad\n",
    "print(\"Hola :D\")\n",
    "   "
   ]
  },
  {
   "cell_type": "code",
   "execution_count": 72,
   "metadata": {},
   "outputs": [
    {
     "name": "stdout",
     "output_type": "stream",
     "text": [
      "No puedes montar en moto\n",
      "Ha pasado un año, ahora tienes 11 años\n",
      "No puedes montar en moto\n",
      "Ha pasado un año, ahora tienes 12 años\n",
      "No puedes montar en moto\n",
      "Ha pasado un año, ahora tienes 13 años\n",
      "No puedes montar en moto\n",
      "Ha pasado un año, ahora tienes 14 años\n",
      "No puedes montar en moto\n",
      "Ha pasado un año, ahora tienes 15 años\n",
      "No puedes montar en moto\n",
      "Ha pasado un año, ahora tienes 16 años\n",
      "No puedes montar en moto\n",
      "Ha pasado un año, ahora tienes 17 años\n",
      "No puedes montar en moto\n",
      "Ha pasado un año, ahora tienes 18 años\n",
      "¡Ya puedes montar en moto!\n"
     ]
    }
   ],
   "source": [
    "#Hasta que no cumplas los 18, no podrás montar en moto\n",
    "tu_edad = 10\n",
    "\n",
    "while tu_edad < 18:\n",
    "    print(\"No puedes montar en moto\")\n",
    "    tu_edad += 1   \n",
    "    print(f\"Ha pasado un año, ahora tienes {tu_edad} años\")\n",
    "    \n",
    "print(\"¡Ya puedes montar en moto!\")"
   ]
  },
  {
   "cell_type": "code",
   "execution_count": 74,
   "metadata": {},
   "outputs": [
    {
     "name": "stdout",
     "output_type": "stream",
     "text": [
      "0\n",
      "1\n",
      "2\n",
      "3\n",
      "4\n",
      "5\n"
     ]
    }
   ],
   "source": [
    "contador = 0\n",
    "while contador <= 5:\n",
    "\tprint(contador)\n",
    "\tcontador += 1 "
   ]
  },
  {
   "cell_type": "code",
   "execution_count": 76,
   "metadata": {},
   "outputs": [
    {
     "name": "stdout",
     "output_type": "stream",
     "text": [
      "Llevas ahorrado 20\n",
      "Llevas ahorrado 60\n",
      "Llevas ahorrado 110\n",
      "Has ahorrado 110 euros\n"
     ]
    }
   ],
   "source": [
    "#Tengo una hucha y quiero llenarla mínimo hasta 100 euros\n",
    "\n",
    "acumulador = 0\n",
    "\n",
    "while acumulador <= 100:\n",
    "    ahorro= int(input(\"¿Cuánto metes en la hucha?\"))\n",
    "    acumulador += ahorro\n",
    "    print(f\"Llevas ahorrado {acumulador}\")\n",
    "print(f\"Has ahorrado {acumulador} euros\")"
   ]
  },
  {
   "cell_type": "code",
   "execution_count": null,
   "metadata": {},
   "outputs": [],
   "source": [
    "contador = 5\n",
    "contador = contador + 1\n",
    "contador += 1"
   ]
  },
  {
   "cell_type": "markdown",
   "metadata": {},
   "source": [
    "## El uso del -= o +=\n",
    "- En vez de escribir contador = contador + 1, en Python escribimos contador += 1\n",
    "\n",
    "## Contadores:\n",
    "    - Variable a la que vamos sumando cuantas veces a pasado algo\n",
    "## Acumulador:\n",
    "    - Variable a la que le sumamos la cantidad de algo"
   ]
  },
  {
   "cell_type": "code",
   "execution_count": null,
   "metadata": {},
   "outputs": [],
   "source": [
    "numero = int(input(\"Escriba un numero positivo\"))\n",
    "numero = -2\n",
    "\n",
    "while numero <0:\n",
    "    print(\"He dicho positivo, vuelva a intentarlo\")\n",
    "    numero = int(input(\"Escriba un numero positivo\")) #CUIDADO AQUÍ, si no le volvemos a dar la oportunidad de reintroducir un número, se crea un bucle infinito\n",
    "print(\"¡Gracias!\")\n"
   ]
  },
  {
   "cell_type": "code",
   "execution_count": null,
   "metadata": {},
   "outputs": [],
   "source": [
    "# Haz este mismo ejercicio, pero con while. Pídele una y otra vez la contraseña a la usuaria hasta que sea la misma.\n",
    "password = \"rocio1234\"\n",
    "\n",
    "password2 = input(\"Introduce tu contraseña\")\n",
    "\n",
    "if password2 == password:\n",
    "    print(\"Genial, has entrado en tu cuenta.\")\n",
    "else:\n",
    "    print(\"Contraseña incorrecta. Hemos bloqueado tu cuenta\")\n",
    "\n",
    "\n",
    "#PISTA! Recuerda que para comparar dos elementos se usa ==, y para decir que son diferentes, se usa...?"
   ]
  },
  {
   "cell_type": "code",
   "execution_count": null,
   "metadata": {},
   "outputs": [],
   "source": [
    "password = \"rocio1234\"\n",
    "\n",
    "password2 = input(\"Introduce tu contraseña\")\n",
    "\n",
    "\n",
    "while password != password2:\n",
    "    password2 = input(\"Vuelve a intentarlo\")\n",
    "    "
   ]
  },
  {
   "cell_type": "markdown",
   "metadata": {},
   "source": [
    "## Control de bucles\n",
    "## Hoy los veremos por encima, se usan más en otro tipo de bucle que veremos el próximo día\n",
    "### Son declaraciones de control para controlar el flujo de ejecución de los ciclos: es decir, para nosotras decir cuándo parar por completo el bucle o que se salte una de las vueltas del bucle. Veamos...\n",
    "- Break\n",
    "- Continue "
   ]
  },
  {
   "cell_type": "code",
   "execution_count": 80,
   "metadata": {},
   "outputs": [
    {
     "name": "stdout",
     "output_type": "stream",
     "text": [
      "Has acertado\n"
     ]
    }
   ],
   "source": [
    "#BREAK: corta el bucle por completo y sale de él\n",
    "num1 = 20\n",
    "num2= int(input(\"Introduce un número\"))\n",
    "\n",
    "while num1 != num2:\n",
    "    num2= int(input(\"Adivina un número del 1 al 20. Introduce 0 para salir del juego\"))\n",
    "    if num2 == 0:\n",
    "        print(\"Adiós\")\n",
    "        break\n",
    "    elif num2 == num1:\n",
    "        print(\"Has acertado\")\n",
    "\n"
   ]
  },
  {
   "cell_type": "code",
   "execution_count": null,
   "metadata": {},
   "outputs": [],
   "source": [
    "#CONTINUE: se salta una de las repeticiones del bucle\n",
    "\n",
    "#Quiero hacer una lista de 5 numeros pares\n",
    "\n",
    "lista_pares = []\n",
    "\n",
    "while len(lista_pares) < 5:\n",
    "    num = int(input(\"Dime un número\"))\n",
    "    if num % 2 != 0:\n",
    "        print(\"Ese no es un número par\")\n",
    "        continue\n",
    "    else: lista_pares.append(num)\n",
    "\n",
    "print(lista_pares)\n",
    "\n",
    "#¿Se podría hacer diferente? ¿Se podrían cambiar las condiciones de posición?"
   ]
  },
  {
   "cell_type": "markdown",
   "metadata": {},
   "source": [
    "# BUCLE FOR"
   ]
  },
  {
   "cell_type": "markdown",
   "metadata": {},
   "source": [
    "- Es otra herramienta que permite repetir la misma porción de código tantas veces como queramos\n",
    "\n",
    "- Elegimos un elemento iterable (que esté dividido en partes más pequeñas, para pasar por ellas de una en una) y una acción que hacer con cada una.\n",
    "\n",
    "- El cuerpo del bucle se ejecuta tantas veces como elementos tenga un objeto iterable (una lista, una cadena de texto, rango de números, etc.) Es decir, coge un elemento que esté dividido en subelementos (un texto para pasar por sus caracteres, una lista para pasar por sus elementos, un rango de números para pasar por cada número) y cada vez que pasa por uno de ellos, hace algo.\n",
    "\n",
    "- La costumbre más extendida es usar la letra i como variable de control, pero se puede usar cualquier otra palabra.\n",
    "\n",
    "for i in \"Ana\":\n",
    "    print(i)\n",
    "\n",
    "- Sintaxis:\n",
    "    for variable_control in elemento_iterable:\n",
    "        instrucciones\n",
    "- 1º Elegir un elemento compuesto por subelemento, 2º realizar una acción por cada elemento"
   ]
  },
  {
   "cell_type": "code",
   "execution_count": null,
   "metadata": {},
   "outputs": [],
   "source": [
    "for letra in \"Ana\":\n",
    "    print(letra.upper())\n"
   ]
  },
  {
   "cell_type": "code",
   "execution_count": null,
   "metadata": {},
   "outputs": [],
   "source": [
    "#Tengo una lista de la compra y quiero que Alexa me diga todo lo que tengo que comprar\n",
    "\n",
    "lista_compra = [\"lechuga\", \"tomate\", \"zanahoria\", \"espinacas\", \"huevos\", \"tofu\"]\n",
    "\n",
    "for comida in lista_compra:\n",
    "    print(f\"Tienes que comprar {comida}\")\n"
   ]
  },
  {
   "cell_type": "code",
   "execution_count": null,
   "metadata": {},
   "outputs": [],
   "source": [
    "#Pero también podría ser alimento. El nombre que le demos lo elegimos nosotras, mientras seamos coherentes después.\n",
    "\n",
    "for alimento in lista_compra:\n",
    "    print(f\"Tienes que comprar {alimento}\")"
   ]
  },
  {
   "cell_type": "code",
   "execution_count": null,
   "metadata": {},
   "outputs": [],
   "source": [
    "lista_elementos = [\"pizza\", \"rojo\", \"azul\"]\n",
    "lista_num = [1,2,3,4,5]"
   ]
  },
  {
   "cell_type": "code",
   "execution_count": null,
   "metadata": {},
   "outputs": [],
   "source": [
    "for i in [\"pizza\", \"rojo\", \"azul\"]:\n",
    "    print(i)"
   ]
  },
  {
   "cell_type": "code",
   "execution_count": null,
   "metadata": {},
   "outputs": [],
   "source": [
    "for numero in [1,2,3]:\n",
    "    print(numero*20)"
   ]
  },
  {
   "cell_type": "code",
   "execution_count": null,
   "metadata": {},
   "outputs": [],
   "source": [
    "for i in [1,2,3]:\n",
    "    print(i) #ser coherentes con el nombre que le damos a la variable de control\n",
    "\n"
   ]
  },
  {
   "cell_type": "code",
   "execution_count": null,
   "metadata": {},
   "outputs": [],
   "source": [
    "for i in [1,2,3]:\n",
    "    print(f\"Mi número favorito es el {i}\")"
   ]
  },
  {
   "cell_type": "code",
   "execution_count": null,
   "metadata": {},
   "outputs": [],
   "source": [
    "# ¿Qué es esto? ¿Por qué está compuesto?\n",
    "# Necesitamos: algo sobre lo que iterar y una acción\n",
    "\n",
    "elementos = [\"Rosa\", 20, \"Málaga\", 1.70]\n",
    "\n",
    "for elemento in elementos:\n",
    "    print(elemento)"
   ]
  },
  {
   "cell_type": "code",
   "execution_count": null,
   "metadata": {},
   "outputs": [],
   "source": [
    "mascotas = [\"perro\", \"gato\", \"tortuga\", \"pez\", \"cobaya\"]\n",
    "\n",
    "for mascota in mascotas:\n",
    "    print(f\"¡QUÉ PRECIOSIDAD DE {mascota.upper()}!\")"
   ]
  },
  {
   "cell_type": "code",
   "execution_count": null,
   "metadata": {},
   "outputs": [],
   "source": [
    "# Tengo esta lista de nombres y quiero que me los imprima de uno en uno:\n",
    "\n",
    "amigas = [\"Ana\", \"Carmen\", \"Sara\", \"Pepi\", \"Gloria\"]\n",
    "\n",
    "for i in amigas:\n",
    "    print(i)"
   ]
  },
  {
   "cell_type": "code",
   "execution_count": 76,
   "metadata": {},
   "outputs": [],
   "source": [
    "#Aquí tengo mi lista de alumnas. Todas son estupendas, así que quiero ir de una en una y decirle que está haciendo un gran trabajo.\n",
    "\n",
    "alumnas_bootcamp = [\"Cris\", \"Cristina\", \"Evelina\", \"Carla\", \"Jana\", \"Montse\", \"Marta\", \"Sara\",\n",
    "                    \"Susana\", \"Elisa\", \"Hermi\", \"Mai\", \"Arellis\", \"Andrea\", \"Lorena\", \"Elena\", \"Inma\"]"
   ]
  },
  {
   "cell_type": "code",
   "execution_count": null,
   "metadata": {},
   "outputs": [],
   "source": [
    "for alumna in alumnas_bootcamp:\n",
    "    print(f\"Enhorabuena, qué bien lo haces, {alumna}!!!!!!!!!. Estás haciendo un gran trabajo\")"
   ]
  },
  {
   "cell_type": "code",
   "execution_count": null,
   "metadata": {},
   "outputs": [],
   "source": [
    "#Con estos elementos podemos hacer las acciones que queramos. \n",
    "#Por ejemplo, tengo una lista de nombres de clientes,\n",
    "#pero me los han pasado con espacios de más y no respeta las mayúsculas.\n",
    "#Yo quiero que cada palabra empiece com mayúscula y me la añada a una lista nueva ¿Cómo lo hago?\n",
    "\n",
    "clientas = [\" María romero\", \" susana ramírez\", \"carmen Castillo \"]\n",
    "nueva_lista_clientes = []\n",
    "\n",
    "for clienta in clientas:\n",
    "    nueva_lista_clientes.append(clienta.title().strip())\n",
    "\n",
    "print(nueva_lista_clientes)"
   ]
  },
  {
   "cell_type": "code",
   "execution_count": null,
   "metadata": {},
   "outputs": [],
   "source": [
    "# Tengo esta lista de números. Quiero que me diga en una frase, qué numero es y cuánto sería si lo multiplicamos por 10\n",
    "\n",
    "numeros_aleatorios = [30,5,20,12,40,100,2]\n",
    "\n",
    "for numero in numeros_aleatorios:\n",
    "    print(f\"El número es {numero} y si lo multiplicamos por 10 es {numero*10}\")"
   ]
  },
  {
   "cell_type": "markdown",
   "metadata": {},
   "source": [
    "- Si el iterable está vacío, no se repite ninguna vez\n",
    "- Por cada vuelta, la variable de control (\"i\" o el nombre que le queramos dar) tendrá un valor diferente.\n",
    "- for i in [1,2,3]--> aquí i es la variable de control y [1,2,3] es el elemento iterable\n",
    "- Hemos visto que el elemento iterable puede ser una lista, pero veamos qué más podría ser."
   ]
  },
  {
   "cell_type": "code",
   "execution_count": null,
   "metadata": {},
   "outputs": [],
   "source": [
    "for letra in \"ADALAB\":\n",
    "    print(f\"Dame una {letra}\")"
   ]
  },
  {
   "cell_type": "code",
   "execution_count": null,
   "metadata": {},
   "outputs": [],
   "source": [
    "for i in \"ADALAB\":\n",
    "    print(f\"Dame una {i}\")"
   ]
  },
  {
   "cell_type": "code",
   "execution_count": null,
   "metadata": {},
   "outputs": [],
   "source": [
    "for patata in \"ADALAB\":\n",
    "    print(f\"Dame una {patata}\")"
   ]
  },
  {
   "cell_type": "code",
   "execution_count": null,
   "metadata": {},
   "outputs": [],
   "source": [
    "#Ahora igual, pero que me dé cada letra en minúscula\n",
    "for i in \"ADALAB\":\n",
    "    print(f\"Dame una {i.lower()}\")"
   ]
  },
  {
   "cell_type": "code",
   "execution_count": null,
   "metadata": {},
   "outputs": [],
   "source": [
    "tupla_nombres = (\"Paco\", \"Antonia\", \"Jose\", \"María\", \"Mónica\", \"Ana\", \"Po\")\n",
    "\n",
    "#Quiero que me imprima por cada nombre una frase con el nombre y el número de caracteres que tiene\n",
    "\n",
    "for nombre in tupla_nombres:\n",
    "    print(f\"El nombre {nombre} tiene {len(nombre)} caracteres\")"
   ]
  },
  {
   "cell_type": "markdown",
   "metadata": {},
   "source": [
    "## IMPORTANTE: Cuando iteramos con un for en un diccionario, recorremos por defecto las claves"
   ]
  },
  {
   "cell_type": "code",
   "execution_count": null,
   "metadata": {},
   "outputs": [],
   "source": [
    "#Podemos usar otras estructuras como los diccionarios\n",
    "\n",
    "diccionario_menu = {\"primer plato\": \"sopa\", \"segundo plato\": \"pollo a la naranja\", \"postre\": \"tiramisú\"}\n",
    "\n",
    "for elemento in diccionario_menu:\n",
    "    print(f\"De {elemento} tenemos {diccionario_menu[elemento]}\")\n"
   ]
  },
  {
   "cell_type": "markdown",
   "metadata": {},
   "source": [
    "### Función range()\n",
    "- Se usa para elegir un rango de números. Empieza desde el cero y se queda en el anterior al que pongamos. Es decir, si pongo range(5), me contará 0, 1, 2, 3, 4.\n",
    "- También puedo ponerle de qué número a qué numero quiero que vaya. range(0,11) contará del 0 al 10.\n",
    "- ¡Es como el start:stop:step!"
   ]
  },
  {
   "cell_type": "code",
   "execution_count": null,
   "metadata": {},
   "outputs": [],
   "source": [
    "#uso del range: le podemos dar un rango de números\n",
    "\n",
    "for i in range(21):\n",
    "    print(i)"
   ]
  },
  {
   "cell_type": "code",
   "execution_count": null,
   "metadata": {},
   "outputs": [],
   "source": [
    "for i in range(5,11):\n",
    "    print(i)"
   ]
  },
  {
   "cell_type": "code",
   "execution_count": null,
   "metadata": {},
   "outputs": [],
   "source": [
    "#funciona como...\n",
    "\"Python\"[0:6:2]"
   ]
  },
  {
   "cell_type": "code",
   "execution_count": null,
   "metadata": {},
   "outputs": [],
   "source": [
    "for i in range(0,10,2):\n",
    "    print(i)"
   ]
  },
  {
   "cell_type": "markdown",
   "metadata": {},
   "source": [
    "### Dentro de un for, también podemos usar un condicional.\n",
    "### Es decir, vamos a ir pasando por cada elemento, pero si cumple una condición hacemos una cosa y si no, hacemos otra."
   ]
  },
  {
   "cell_type": "code",
   "execution_count": null,
   "metadata": {},
   "outputs": [],
   "source": [
    "lista_nueva = []\n",
    "\n",
    "for num in range(1,21):\n",
    "    if num % 2 :\n",
    "        lista_nueva.append(num)\n",
    "print(lista_nueva)"
   ]
  },
  {
   "cell_type": "code",
   "execution_count": null,
   "metadata": {},
   "outputs": [],
   "source": [
    "#Tengo esta lista de precios, pero solo me interesan los productos que valgan 30 euros o más.\n",
    "#Quiero me imprima de uno en uno los precios.\n",
    "\n",
    "lista_precios = [4,10,1,5,20,60,30,20,21,43,10,54,30,40]\n",
    "\n",
    "lista_nueva_precios = []\n",
    "\n",
    "\n",
    "for precio in lista_precios:\n",
    "    if precio >= 30:\n",
    "        lista_nueva_precios.append(precio)\n",
    "\n",
    "print(lista_nueva_precios)"
   ]
  },
  {
   "cell_type": "code",
   "execution_count": null,
   "metadata": {},
   "outputs": [],
   "source": [
    "#Ahora quiero hacer lo mismo pero con este diccionario y que me imprima el nombre del producto que valga 30 o menos, que tengo que ahorrar\n",
    "\n",
    "productos = {\"mesa\": 40, \"sillón\": 20, \"silla\": 60, \"cama\": 200, \"lámpara\": 10, \"plato\": 5, \"sillita\": 12}\n",
    "\n",
    "for producto in productos:\n",
    "    if productos[producto] <= 30:\n",
    "        print(f\"Para este {producto} el precio es {productos[producto]}\")\n",
    "\n"
   ]
  },
  {
   "cell_type": "code",
   "execution_count": null,
   "metadata": {},
   "outputs": [],
   "source": [
    "# Tengo una lista de socias que han colaborado conmigo, pero me ha llegado una lista nueva. No tengo tiempo para ver cuáles están repetidas,\n",
    "#así que voy a ir de una en una y si no está en la lista que ya tengo, quiero que me la agregue.\n",
    "\n",
    "lista_socias = [\"María Martín Luque\", \"Carmen García Vázquez\", \"Rosa María Martínez Castro\", \"Verónica Prieto Malpica\", \"Irene Luque Mesa\",\n",
    "                \"Estefanía Romero Medina\", \"Diana García Martín\", \"Beatriz López Aguirre\"]\n",
    "\n",
    "nueva_lista_socias = [\"Verónica Prieto Malpica\", \"María Pérez Martín\", \"Teresa Medina Sánchez\"]\n",
    "\n",
    "for socia in nueva_lista_socias:\n",
    "    if socia in lista_socias:\n",
    "        continue\n",
    "    else:\n",
    "        lista_socias.append(socia)\n",
    "print(lista_socias)"
   ]
  },
  {
   "cell_type": "code",
   "execution_count": null,
   "metadata": {},
   "outputs": [],
   "source": [
    "catalogo_peliculas = [{\"nombre\": \"Avatar\", \"duracion\": 150, \"genero\": \"accion\"},\n",
    "    {\"nombre\": \"Barbie\", \"duracion\": 120, \"genero\": \"familiar\"},\n",
    "    {\"nombre\": \"Una joven prometedora\", \"duracion\": 110, \"genero\": \"drama\"},\n",
    "    {\"nombre\": \"Retrato de una mujer en llamas\", \"duracion\": 130, \"genero\": \"romance\"},\n",
    "    {\"nombre\": \"Titanic\", \"duracion\": 150, \"genero\": \"drama\"},\n",
    "    {\"nombre\": \"Mujercitas\", \"duracion\": 135, \"genero\": \"drama\"},\n",
    "    {\"nombre\": \"Lady Bird\", \"duracion\": 94, \"genero\": \"comedia\"},\n",
    "    {\"nombre\": \"Nomadland\", \"duracion\": 107, \"genero\": \"drama\"},\n",
    "    {\"nombre\": \"Enola Holmes\", \"duracion\": 123, \"genero\": \"misterio\"},\n",
    "    {\"nombre\": \"Capitana Marvel\", \"duracion\": 124, \"genero\": \"accion\"},\n",
    "    {\"nombre\": \"Persépolis\", \"duracion\": 96, \"genero\": \"animacion\"},\n",
    "    {\"nombre\": \"The Farewell\", \"duracion\": 100, \"genero\": \"drama\"},\n",
    "    {\"nombre\": \"Mulán\", \"duracion\": 120, \"genero\": \"accion\"},\n",
    "    {\"nombre\": \"Las sufragistas\", \"duracion\": 106, \"genero\": \"drama\"},\n",
    "    {\"nombre\": \"Frozen\", \"duracion\": 102, \"genero\": \"animacion\"},\n",
    "    {\"nombre\": \"Clueless\", \"duracion\": 97, \"genero\": \"comedia\"},\n",
    "    {\"nombre\": \"La sonrisa de Mona Lisa\", \"duracion\": 117, \"genero\": \"drama\"},\n",
    "    {\"nombre\": \"Selma\", \"duracion\": 128, \"genero\": \"historia\"},\n",
    "    {\"nombre\": \"Thelma y Louise\", \"duracion\": 130, \"genero\": \"aventura\"},\n",
    "    {\"nombre\": \"Coco antes de Chanel\", \"duracion\": 105, \"genero\": \"biografia\"},\n",
    "    {\"nombre\": \"Aves de presa\", \"duracion\": 109, \"genero\": \"accion\"},\n",
    "    {\"nombre\": \"Bajo el sol de Toscana\", \"duracion\": 113, \"genero\": \"romance\"}]\n",
    "\n",
    "#¿Qué tenemos? ¿En qué se subdivide?\n",
    "#Queremos ir de una en una y ver si el título coincide con la que queremos\n",
    "\n",
    "pelicula_alquilada = input(\"Dime qué película quieres alquilar\")\n",
    "\n",
    "for pelicula in catalogo_peliculas:\n",
    "    if pelicula_alquilada != pelicula[\"nombre\"]:\n",
    "        continue\n",
    " \n",
    "    else:\n",
    "        print(f\"Aquí tienes {pelicula['nombre']}, tienes 3 días para devolverla.\")\n",
    "\n",
    "\n"
   ]
  },
  {
   "cell_type": "markdown",
   "metadata": {},
   "source": [
    "## Librería random"
   ]
  },
  {
   "cell_type": "code",
   "execution_count": null,
   "metadata": {},
   "outputs": [],
   "source": [
    "import random\n",
    "\n",
    "#Esta librería está curiosa para generar un número aleatorio.\n",
    "\n",
    "random.randint(1,10) # --> genera un número aleatorio, incluyendo ambos extremos\n",
    "random.randrange(1,10) # --> genera un número aleatorio, pero no incluye el final. Funciona como start:stop:step"
   ]
  },
  {
   "cell_type": "code",
   "execution_count": 50,
   "metadata": {},
   "outputs": [],
   "source": [
    "numero_aleatorio = random.randint(1,10)"
   ]
  },
  {
   "cell_type": "code",
   "execution_count": null,
   "metadata": {},
   "outputs": [],
   "source": [
    "numero_aleatorio"
   ]
  },
  {
   "cell_type": "markdown",
   "metadata": {},
   "source": [
    "- Voy a crear un juego. Yo voy a elegir un número al azar y quiero que la usuaria tengra 3 oportunidades (3 iteraciones) para adivinarlo.\n",
    "Durante tres veces compararemos su número con el número aleatorio. Si lo acierta, se acaba le decimos que ha hacertado."
   ]
  },
  {
   "cell_type": "code",
   "execution_count": null,
   "metadata": {},
   "outputs": [],
   "source": []
  },
  {
   "cell_type": "markdown",
   "metadata": {},
   "source": [
    "### USO DEL CONTINUE"
   ]
  },
  {
   "cell_type": "code",
   "execution_count": null,
   "metadata": {},
   "outputs": [],
   "source": [
    "#Veamos cómo podríamos usar el continue con un bucle for\n",
    "#Tengo un grupo de personas que ha venido a apuntarse a mi curso de pintura, pero es un curso especial para jóvenes\n",
    "#y solo aceptamos menores de edad, es para niños y adolescentes.\n",
    "#Voy a repasar esta lista con for y me voy a quedar solo con los mayores de edad\n",
    "#Cuando encuentre un mayor de edad, lo ignoro y paso al siguiente.\n",
    "\n",
    "edades = [10, 30, 45, 23, 90, 51, 11, 5, 34, 60, 17, 12, 43, 18]\n",
    "mayores_edad = []\n",
    "\n",
    "\n",
    "for edad in edades:\n",
    "    if edad > 18:\n",
    "        continue\n",
    "    else:\n",
    "        mayores_edad.append(edad)\n",
    "        \n",
    "print(mayores_edad)\n"
   ]
  },
  {
   "cell_type": "markdown",
   "metadata": {},
   "source": [
    "### List comprehension\n",
    "- Es una manera más concisa y muy profesional de hacer un bucle con for en una línea\n",
    "- Es más legible\n",
    "- Sintaxis: nueva_lista = [expresion for elemento in variable_iterable]\n",
    "- En vez de empezar por el for, empiezo creando esta nueva lista, diccionario o lo que queramos"
   ]
  },
  {
   "cell_type": "code",
   "execution_count": null,
   "metadata": {},
   "outputs": [],
   "source": [
    "#Tengo unas palabras pero quiero sustituir las a por las e\n",
    "\n",
    "palabras = [\"casa\", \"asa\", \"pasa\", \"gansa\"]\n",
    "\n",
    "nueva_lista = [palabra.replace(\"a\", \"e\") for palabra in palabras]\n",
    "\n",
    "print(nueva_lista)"
   ]
  },
  {
   "cell_type": "code",
   "execution_count": null,
   "metadata": {},
   "outputs": [],
   "source": [
    "lista_numeros = [40,50,60,70,80]\n",
    "\n",
    "numeros_entre_diez = [numero//10 for numero in lista_numeros]\n",
    "print(numeros_entre_diez)"
   ]
  },
  {
   "cell_type": "code",
   "execution_count": null,
   "metadata": {},
   "outputs": [],
   "source": [
    "frutas = [\"manzana\", \"banana\", \"cereza\"]\n",
    "\n",
    "diccionario = {fruta: len(fruta) for fruta in frutas} \n",
    "print(diccionario)"
   ]
  },
  {
   "cell_type": "markdown",
   "metadata": {},
   "source": [
    "### Try/except"
   ]
  },
  {
   "cell_type": "markdown",
   "metadata": {},
   "source": [
    "- Es una forma de controlar errores en Python.\n",
    "- Como os habéis fijado, cuando hacemos algo que está mal, da error en Python y se corta todo el código, esto puede ser un problema. Por eso usamos try/except para evitar que de error si algo sale mal. Así, si por ejemplo, estamos en el bucle, el código seguirá funcionando.\n",
    "- Se usa metiendo una estrucutra de código que puede que nos de error en try y luego definimos en except el error que podría ocurrir para que lo muestre.\n",
    "- La sintais es:\n",
    "    try:\n",
    "        código que pueda generar error\n",
    "    except TipoDeError:\n",
    "        código para manerar el error\n",
    "\n"
   ]
  },
  {
   "cell_type": "code",
   "execution_count": null,
   "metadata": {},
   "outputs": [],
   "source": [
    "#Esto nos daría un error que cortaría todo el código\n",
    "print(int(\"hola\"))\n"
   ]
  },
  {
   "cell_type": "code",
   "execution_count": 109,
   "metadata": {},
   "outputs": [
    {
     "name": "stdout",
     "output_type": "stream",
     "text": [
      "¡Pero qué haces????\n"
     ]
    }
   ],
   "source": [
    "try:\n",
    "    print(int(\"hola\"))\n",
    "except:\n",
    "    print(\"¡Pero qué haces????\")"
   ]
  },
  {
   "cell_type": "code",
   "execution_count": null,
   "metadata": {},
   "outputs": [],
   "source": [
    "#¿Os acordáis de este ejercicio de antes? ¿Qué pasaría si alguien ha metido algo que no es una cadena de texto?\n",
    "\n",
    "mascotas = [\"perro\", \"gato\", \"tortuga\", \"pez\", \"cobaya\", 20]\n",
    "\n",
    "for mascota in mascotas:\n",
    "    print(f\"¡QUÉ PRECIOSIDAD DE {mascota.upper()}!\")"
   ]
  },
  {
   "cell_type": "code",
   "execution_count": null,
   "metadata": {},
   "outputs": [],
   "source": [
    "# ¿Cómo puedo aquí utilizar el try/except?\n"
   ]
  },
  {
   "cell_type": "code",
   "execution_count": null,
   "metadata": {},
   "outputs": [],
   "source": [
    "try:\n",
    "    numero = int(input(\"Escribe un número\")) #pedimos que nos introduzca un número. ¿Pero si la usuaria escribe otra cosa?\n",
    "    print(f\"El doble de {numero} es {numero*2}\")\n",
    "\n",
    "except:\n",
    "    print(\"Tienes que introducir un NÚMERO\")"
   ]
  },
  {
   "cell_type": "code",
   "execution_count": null,
   "metadata": {},
   "outputs": [],
   "source": [
    "entradas = [\"10\", \"20\", \"hola\", \"30\", \"adios\"] \n",
    "\n",
    "for entrada in entradas:\n",
    "    try:\n",
    "        numero = int(entrada)  # Intentamos convertir cada elemento a un entero\n",
    "        print(f\"{entrada} es un número válido.\")\n",
    "    except ValueError:  # Si ocurre un error, manejamos la excepción\n",
    "        print(f\"{entrada} no es un número válido.\")"
   ]
  },
  {
   "cell_type": "code",
   "execution_count": null,
   "metadata": {},
   "outputs": [],
   "source": [
    "try:\n",
    "    print(int(\"hola\"))\n",
    "except:\n",
    "    print(\"Error\")"
   ]
  },
  {
   "cell_type": "code",
   "execution_count": null,
   "metadata": {},
   "outputs": [],
   "source": [
    "lista_de_cosas = [\"tetera\", \"mesa\", \"paraguas\", \"libro\", \"casco\", \"vino\"]\n",
    "\n",
    "\n",
    "posicion = int(input(\"Dime la posición de la cosa que quieres, siendo la primera la 0\"))\n",
    "\n",
    "try:\n",
    "    print(f\"Aquí tienes tu {lista_de_cosas[posicion]}\")\n",
    "except:\n",
    "    print(\"No hay nada en esa ubicación\")"
   ]
  }
 ],
 "metadata": {
  "kernelspec": {
   "display_name": "Python 3",
   "language": "python",
   "name": "python3"
  },
  "language_info": {
   "codemirror_mode": {
    "name": "ipython",
    "version": 3
   },
   "file_extension": ".py",
   "mimetype": "text/x-python",
   "name": "python",
   "nbconvert_exporter": "python",
   "pygments_lexer": "ipython3",
   "version": "3.9.5"
  }
 },
 "nbformat": 4,
 "nbformat_minor": 2
}
