{
 "cells": [
  {
   "cell_type": "markdown",
   "metadata": {},
   "source": [
    "# FUNCIONES\n",
    "- Son bloques de código reutilizables que realizan una tarea concreta\n",
    "-\"Encapsulamos\" unas instrucciones y le damos un nombre\n",
    "- Sirve para organizar mejor el código\n",
    "- Estructura:\n"
   ]
  },
  {
   "cell_type": "code",
   "execution_count": null,
   "metadata": {},
   "outputs": [],
   "source": [
    "lista_clientas = \" maria \", \" ana\"\n",
    "lista2 = []\n",
    "\n",
    "for i in lista_clientas:\n",
    "    lista2.append(i.strip().title())\n"
   ]
  },
  {
   "cell_type": "code",
   "execution_count": 50,
   "metadata": {},
   "outputs": [],
   "source": [
    "lista_nueva = []"
   ]
  },
  {
   "cell_type": "code",
   "execution_count": null,
   "metadata": {},
   "outputs": [],
   "source": [
    "def añadir_a_lista(lista):\n",
    "    try:\n",
    "        for i in lista:\n",
    "            lista_nueva.append(i.strip().title())\n",
    "    except:\n",
    "        print(\"Error\")\n",
    "    return lista_nueva\n",
    "        "
   ]
  },
  {
   "cell_type": "code",
   "execution_count": 59,
   "metadata": {},
   "outputs": [
    {
     "name": "stdout",
     "output_type": "stream",
     "text": [
      "Error\n"
     ]
    },
    {
     "data": {
      "text/plain": [
       "['Elena',\n",
       " 'Rocio',\n",
       " 'Marta',\n",
       " 'Cristina',\n",
       " 'Ana',\n",
       " 'Pepa',\n",
       " 'L',\n",
       " 'U',\n",
       " 'C',\n",
       " 'Í',\n",
       " 'A',\n",
       " 'Lucía']"
      ]
     },
     "execution_count": 59,
     "metadata": {},
     "output_type": "execute_result"
    }
   ],
   "source": [
    "añadir_a_lista(1)"
   ]
  },
  {
   "cell_type": "code",
   "execution_count": 52,
   "metadata": {},
   "outputs": [
    {
     "data": {
      "text/plain": [
       "['Elena', 'Rocio', 'Marta', 'Cristina']"
      ]
     },
     "execution_count": 52,
     "metadata": {},
     "output_type": "execute_result"
    }
   ],
   "source": [
    "añadir_a_lista([\" elena\", \" rocio \", \" marta \", \"cristina \"])"
   ]
  },
  {
   "cell_type": "code",
   "execution_count": 48,
   "metadata": {},
   "outputs": [],
   "source": [
    "lista_nombres = [ \" ana \", \" pepa \"]"
   ]
  },
  {
   "cell_type": "code",
   "execution_count": null,
   "metadata": {},
   "outputs": [],
   "source": [
    "añadir_a_lista(\"Lucía\")"
   ]
  },
  {
   "cell_type": "code",
   "execution_count": null,
   "metadata": {},
   "outputs": [],
   "source": [
    "def nombre_funcion(parametros):\n",
    "    código\n",
    "    return resultado"
   ]
  },
  {
   "cell_type": "code",
   "execution_count": 43,
   "metadata": {},
   "outputs": [],
   "source": [
    "def saludar():\n",
    "    return \"Hola\""
   ]
  },
  {
   "cell_type": "code",
   "execution_count": 44,
   "metadata": {},
   "outputs": [],
   "source": [
    "saludo = saludar()"
   ]
  },
  {
   "cell_type": "code",
   "execution_count": 45,
   "metadata": {},
   "outputs": [
    {
     "name": "stdout",
     "output_type": "stream",
     "text": [
      "Hola\n"
     ]
    }
   ],
   "source": [
    "print(saludo)"
   ]
  },
  {
   "cell_type": "code",
   "execution_count": 39,
   "metadata": {},
   "outputs": [
    {
     "name": "stdout",
     "output_type": "stream",
     "text": [
      "Hola\n"
     ]
    }
   ],
   "source": [
    "saludar()"
   ]
  },
  {
   "cell_type": "code",
   "execution_count": 63,
   "metadata": {},
   "outputs": [],
   "source": [
    "def separar_por_coma(texto):\n",
    "    try:\n",
    "        print(texto.split(\",\"))\n",
    "    except:\n",
    "        print(\"El dato introducido es erróneo\")"
   ]
  },
  {
   "cell_type": "code",
   "execution_count": null,
   "metadata": {},
   "outputs": [],
   "source": [
    "#¿Cómo usamos esta función?"
   ]
  },
  {
   "cell_type": "code",
   "execution_count": 64,
   "metadata": {},
   "outputs": [
    {
     "name": "stdout",
     "output_type": "stream",
     "text": [
      "El dato introducido es erróneo\n"
     ]
    }
   ],
   "source": [
    "separar_por_coma(5)"
   ]
  },
  {
   "cell_type": "code",
   "execution_count": 62,
   "metadata": {},
   "outputs": [
    {
     "name": "stdout",
     "output_type": "stream",
     "text": [
      "[' Hola', ' Buenos días', ' qué tal']\n"
     ]
    }
   ],
   "source": [
    "separar_por_coma(\" Hola, Buenos días, qué tal\")"
   ]
  },
  {
   "cell_type": "code",
   "execution_count": null,
   "metadata": {},
   "outputs": [],
   "source": [
    "#Primero elijo la acción que quiero encapsular, porque va a ser algo que utilice muchas veces.\n",
    "#Esta acción en concreto es corta, solo es saludar. Pero podemos hacer que sea aún más corta, convirtiéndola en función\n",
    "\n",
    "nombre = \"María\"\n",
    "\n",
    "print(f\"Hola, {nombre}\")"
   ]
  },
  {
   "cell_type": "code",
   "execution_count": 66,
   "metadata": {},
   "outputs": [],
   "source": [
    "#Creo una función llamada \"saludar\" a la que tengo que pasarle un nombre y el resultado es un print saludando a esa persona.\n",
    "\n",
    "def saludar(nombre):\n",
    "    print(f\"Hola, {nombre}\")"
   ]
  },
  {
   "cell_type": "code",
   "execution_count": 68,
   "metadata": {},
   "outputs": [
    {
     "name": "stdout",
     "output_type": "stream",
     "text": [
      "Hola, Ana\n"
     ]
    }
   ],
   "source": [
    "saludar(\"Ana\")"
   ]
  },
  {
   "cell_type": "code",
   "execution_count": 69,
   "metadata": {},
   "outputs": [],
   "source": [
    "nombre = \"María\""
   ]
  },
  {
   "cell_type": "code",
   "execution_count": 70,
   "metadata": {},
   "outputs": [
    {
     "name": "stdout",
     "output_type": "stream",
     "text": [
      "Hola, María\n"
     ]
    }
   ],
   "source": [
    "saludar(nombre)"
   ]
  },
  {
   "cell_type": "code",
   "execution_count": 71,
   "metadata": {},
   "outputs": [],
   "source": [
    "# ¿Cómo podríamos ir saludando nombre por nombre?\n",
    "# ¿Cómo podemos convertir eso en una función?\n",
    "\n",
    "lista_nombres = [\"Carmen\", \"Lucía\", \"Marisa\", \"Ester\", \"Juana\"]\n",
    "\n",
    "def saludar_clientas(lista):\n",
    "    for nombre in lista:\n",
    "        print(f\"Hola, {nombre}\")"
   ]
  },
  {
   "cell_type": "code",
   "execution_count": 72,
   "metadata": {},
   "outputs": [
    {
     "name": "stdout",
     "output_type": "stream",
     "text": [
      "Hola, Carmen\n",
      "Hola, Lucía\n",
      "Hola, Marisa\n",
      "Hola, Ester\n",
      "Hola, Juana\n"
     ]
    }
   ],
   "source": [
    "saludar_clientas(lista_nombres)"
   ]
  },
  {
   "cell_type": "code",
   "execution_count": null,
   "metadata": {},
   "outputs": [],
   "source": [
    "#Esto podemos hacerlo de manera manual, pero ¿no sería mejor pasarlo a una función?\n",
    "a = 20\n",
    "b = 35\n",
    "\n",
    "c = a + b\n",
    "print(c)"
   ]
  },
  {
   "cell_type": "code",
   "execution_count": 73,
   "metadata": {},
   "outputs": [],
   "source": [
    "def sumar_gastos(comida,ocio):\n",
    "    return comida + ocio"
   ]
  },
  {
   "cell_type": "code",
   "execution_count": 75,
   "metadata": {},
   "outputs": [],
   "source": [
    "gastos_enero = sumar_gastos(300, 200)"
   ]
  },
  {
   "cell_type": "code",
   "execution_count": 76,
   "metadata": {},
   "outputs": [
    {
     "name": "stdout",
     "output_type": "stream",
     "text": [
      "500\n"
     ]
    }
   ],
   "source": [
    "print(gastos_enero)"
   ]
  },
  {
   "cell_type": "markdown",
   "metadata": {},
   "source": [
    "### Las funciones que conocemos como len() o max() también tienen esa estructura por dentro.\n",
    "### Ahora nosotras también podemos crear funciones que hagan cosas"
   ]
  },
  {
   "cell_type": "code",
   "execution_count": null,
   "metadata": {},
   "outputs": [],
   "source": [
    "# Quiero una función a la que le pueda pasar dos números y me los sume\n",
    "# Pero que tenga un tercero opcional, si no se lo paso, que valga 0.\n"
   ]
  },
  {
   "cell_type": "code",
   "execution_count": null,
   "metadata": {},
   "outputs": [],
   "source": [
    "def restar_dos_num(a,b):\n",
    "    return a-b"
   ]
  },
  {
   "cell_type": "code",
   "execution_count": null,
   "metadata": {},
   "outputs": [],
   "source": [
    "restar_dos_num(50,20)"
   ]
  },
  {
   "cell_type": "code",
   "execution_count": null,
   "metadata": {},
   "outputs": [],
   "source": [
    "sumar_num(200,500)"
   ]
  },
  {
   "cell_type": "code",
   "execution_count": 55,
   "metadata": {},
   "outputs": [],
   "source": [
    "resultado = sumar_num(5,8)"
   ]
  },
  {
   "cell_type": "markdown",
   "metadata": {},
   "source": [
    "## Diferencias entre return y print():\n",
    "    - print() nos IMPRIME por pantalla un resultado. Una frase o algo que queramos leer. Además, usa comillas. print(\"Hola\")\n",
    "    - return devuelve un valor y además puede ser almacenado dandole a ese resultado un nombre. No usa paréntesis. Cuando aparece return, se termina la función."
   ]
  },
  {
   "cell_type": "code",
   "execution_count": null,
   "metadata": {},
   "outputs": [],
   "source": [
    "#También puedo hacer una función a la que no haya que pasarle nada. Solo que me imprima algo: Quiero una función que se despida\n",
    "\n",
    "def despedir():\n",
    "    return \"¡Adiós!\""
   ]
  },
  {
   "cell_type": "code",
   "execution_count": null,
   "metadata": {},
   "outputs": [],
   "source": [
    "despedir()"
   ]
  },
  {
   "cell_type": "code",
   "execution_count": 70,
   "metadata": {},
   "outputs": [],
   "source": [
    "def titular(frase):\n",
    "    frase_final = frase.title()\n",
    "    return frase_final\n"
   ]
  },
  {
   "cell_type": "code",
   "execution_count": 74,
   "metadata": {},
   "outputs": [],
   "source": [
    "frase_final = titular(\"hola que tal\")"
   ]
  },
  {
   "cell_type": "code",
   "execution_count": null,
   "metadata": {},
   "outputs": [],
   "source": [
    "titular(\"hola estoy haciendo un print\")"
   ]
  },
  {
   "cell_type": "code",
   "execution_count": 61,
   "metadata": {},
   "outputs": [],
   "source": [
    "frase_en_mayus = titular(\"hola que tal\")"
   ]
  },
  {
   "cell_type": "code",
   "execution_count": 62,
   "metadata": {},
   "outputs": [
    {
     "data": {
      "text/plain": [
       "'Hola Que Tal'"
      ]
     },
     "execution_count": 62,
     "metadata": {},
     "output_type": "execute_result"
    }
   ],
   "source": [
    "frase_en_mayus"
   ]
  },
  {
   "cell_type": "code",
   "execution_count": 77,
   "metadata": {},
   "outputs": [],
   "source": [
    "def titular(frase):\n",
    "    try: \n",
    "        frase_final = frase.title()\n",
    "        return frase_final\n",
    "    except:\n",
    "        print(\"Lo siento, esto no se puede hacer.\")"
   ]
  },
  {
   "cell_type": "code",
   "execution_count": null,
   "metadata": {},
   "outputs": [],
   "source": [
    "titular(1)"
   ]
  },
  {
   "cell_type": "code",
   "execution_count": 78,
   "metadata": {},
   "outputs": [],
   "source": [
    "frase_elegida = titular(input(\"Dime una frase, porfa\"))"
   ]
  },
  {
   "cell_type": "code",
   "execution_count": 79,
   "metadata": {},
   "outputs": [
    {
     "data": {
      "text/plain": [
       "'Hola Esto Es Una Prueba'"
      ]
     },
     "execution_count": 79,
     "metadata": {},
     "output_type": "execute_result"
    }
   ],
   "source": [
    "titular(frase_elegida)"
   ]
  },
  {
   "cell_type": "code",
   "execution_count": 82,
   "metadata": {},
   "outputs": [],
   "source": [
    "#Podría tener una función que me genere la tabla de multiplicar de un número cuando quiera,\n",
    "# así no tendría que escribir este código una y otra vez\n",
    "\n",
    "#Esto lo vimos ayer, ¿cómo lo convertimos en función? \n",
    "\n",
    "def tabla_multiplicar(num):\n",
    "    for i in range(0,11):\n",
    "        print (f\"{num} x {i} = {i*num}\")"
   ]
  },
  {
   "cell_type": "code",
   "execution_count": 84,
   "metadata": {},
   "outputs": [
    {
     "name": "stdout",
     "output_type": "stream",
     "text": [
      "6 x 0 = 0\n",
      "6 x 1 = 6\n",
      "6 x 2 = 12\n",
      "6 x 3 = 18\n",
      "6 x 4 = 24\n",
      "6 x 5 = 30\n",
      "6 x 6 = 36\n",
      "6 x 7 = 42\n",
      "6 x 8 = 48\n",
      "6 x 9 = 54\n",
      "6 x 10 = 60\n"
     ]
    }
   ],
   "source": [
    "tabla_multiplicar(6)"
   ]
  },
  {
   "cell_type": "markdown",
   "metadata": {},
   "source": [
    "### IMPORTANTE\n",
    "- Si le decimos a la función que le vamos a pasar dos parámetros como en suma(a,b), hay que pasarle dos, ni más ni menos\n",
    "- A esos parámetros podemos llamarles como queramos.\n"
   ]
  },
  {
   "cell_type": "code",
   "execution_count": 93,
   "metadata": {},
   "outputs": [],
   "source": [
    "def sumar(ocio,comida,viajes=100):\n",
    "    return ocio + comida + viajes\n"
   ]
  },
  {
   "cell_type": "code",
   "execution_count": 89,
   "metadata": {},
   "outputs": [],
   "source": [
    "febrero = sumar(100,400,500)"
   ]
  },
  {
   "cell_type": "code",
   "execution_count": 91,
   "metadata": {},
   "outputs": [
    {
     "name": "stdout",
     "output_type": "stream",
     "text": [
      "1000\n"
     ]
    }
   ],
   "source": [
    "print(febrero)"
   ]
  },
  {
   "cell_type": "code",
   "execution_count": 94,
   "metadata": {},
   "outputs": [],
   "source": [
    "marzo = sumar(300,500)"
   ]
  },
  {
   "cell_type": "code",
   "execution_count": 95,
   "metadata": {},
   "outputs": [
    {
     "name": "stdout",
     "output_type": "stream",
     "text": [
      "900\n"
     ]
    }
   ],
   "source": [
    "print(marzo)"
   ]
  },
  {
   "cell_type": "code",
   "execution_count": 10,
   "metadata": {},
   "outputs": [],
   "source": [
    "def restar(a,b):\n",
    "    return a-b"
   ]
  },
  {
   "cell_type": "code",
   "execution_count": null,
   "metadata": {},
   "outputs": [],
   "source": [
    "# ¿Qué me devolverá aquí? ¿Cuál será a y cuál será b?\n",
    "restar(8,4)"
   ]
  },
  {
   "cell_type": "code",
   "execution_count": null,
   "metadata": {},
   "outputs": [],
   "source": [
    "#Quiero una función que me sume dos numeros y los multiplique por 100\n",
    "# y me devuelva un resultado que pueda guardar en una nueva variable.\n",
    "\n",
    "def suma_y_porcien(a,b):\n",
    "    return (a+b)*100"
   ]
  },
  {
   "cell_type": "code",
   "execution_count": null,
   "metadata": {},
   "outputs": [],
   "source": [
    "resultado = suma_y_porcien(5,60)"
   ]
  },
  {
   "cell_type": "code",
   "execution_count": null,
   "metadata": {},
   "outputs": [],
   "source": [
    "#También podemos darle un valor por defecto a uno de los parámetros.\n",
    "#Por ejemplo, quiero una función que pida tres números y luego me devuelva cuál es el mayor.\n",
    "# Si alguien no introduce el tercer número, por defecto será 10\n",
    "\n",
    "def ordenar_num(a,b, c=10):\n",
    "    return max(a,b,c)"
   ]
  },
  {
   "cell_type": "code",
   "execution_count": 89,
   "metadata": {},
   "outputs": [
    {
     "data": {
      "text/plain": [
       "10"
      ]
     },
     "execution_count": 89,
     "metadata": {},
     "output_type": "execute_result"
    }
   ],
   "source": [
    "ordenar_num(5,6)"
   ]
  },
  {
   "cell_type": "markdown",
   "metadata": {},
   "source": [
    "- El parámetro al que le pongamos un valor por defecto ¡SIEMPRE IRÁ AL FINAL!\n",
    "- Las clases tienen PARÁMETROS y ARGUMENTOS.\n",
    "\n",
    "\n",
    "def sumar(a,b): --> Aquí a y b son parámetros\n",
    "    print(a + b) \n",
    "\n",
    "sumar(8,2) --> aquí 8 y 2 son argumentos"
   ]
  },
  {
   "cell_type": "markdown",
   "metadata": {},
   "source": [
    "- Vamos a hacer algunos ejemplos. Al principio lo más fácil es crear el código que necesitemos y luego meterlo en una función"
   ]
  },
  {
   "cell_type": "code",
   "execution_count": 100,
   "metadata": {},
   "outputs": [],
   "source": [
    "#Necesito una función a la que le pasemos una palabra y nos diga cuántos caracteres tiene\n",
    "\n",
    "def contar_caracteres(lista):\n",
    "    try:\n",
    "        for palabra in lista:\n",
    "            print(f\"La palabra {palabra} tiene {len(palabra)} caracteres\")\n",
    "    except:\n",
    "        print(\"El elemento introducido no es iterable, lo sentimos.\")"
   ]
  },
  {
   "cell_type": "code",
   "execution_count": 102,
   "metadata": {},
   "outputs": [
    {
     "name": "stdout",
     "output_type": "stream",
     "text": [
      "La palabra u tiene 1 caracteres\n",
      "La palabra n tiene 1 caracteres\n",
      "La palabra   tiene 1 caracteres\n",
      "La palabra t tiene 1 caracteres\n",
      "La palabra e tiene 1 caracteres\n",
      "La palabra x tiene 1 caracteres\n",
      "La palabra t tiene 1 caracteres\n",
      "La palabra o tiene 1 caracteres\n",
      "La palabra   tiene 1 caracteres\n",
      "La palabra l tiene 1 caracteres\n",
      "La palabra a tiene 1 caracteres\n",
      "La palabra r tiene 1 caracteres\n",
      "La palabra g tiene 1 caracteres\n",
      "La palabra o tiene 1 caracteres\n"
     ]
    }
   ],
   "source": [
    "contar_caracteres(\"un texto largo\")"
   ]
  },
  {
   "cell_type": "code",
   "execution_count": null,
   "metadata": {},
   "outputs": [],
   "source": [
    "#Necesito una función a la que pasarle una lista de nombres\n",
    "# y me quite de todos los espacio y me pase los nombres y apellidos a mayúsculas\n"
   ]
  },
  {
   "cell_type": "code",
   "execution_count": null,
   "metadata": {},
   "outputs": [],
   "source": [
    "#Necesito una función a la que le pasemos una palabra. Si tiene 3 caracteres o menos, que me diga que es una palabra corta,\n",
    "#si tiene entre 4 y 5 es normal y si tiene más de 5, es larga\n"
   ]
  },
  {
   "cell_type": "code",
   "execution_count": null,
   "metadata": {},
   "outputs": [],
   "source": [
    "# También vimos esta forma de repasar la lista de la compra. ¿Cómo podríamos convertirlo en una función?\n",
    "\n",
    "lista_compra = [\"lechuga\", \"tomate\", \"zanahoria\", \"espinacas\", \"huevos\", \"tofu\"]\n",
    "\n",
    "for comida in lista_compra:\n",
    "    print(f\"Tienes que comprar {comida}\")"
   ]
  },
  {
   "cell_type": "markdown",
   "metadata": {},
   "source": [
    "### ¿Qué pasa si yo no sé cuántos parámetros voy a pasarle a mi función?\n",
    "- Por ejemplo, voy a hacer una función a la que pasarle notas de exámenes y que me diga la media, pero según el curso y la clase, hacen más o menos exámenes...\n",
    "- Para ello le pasamos *args y dentro de la función lo nombramos como args\n",
    "- Los tratará como una tupla"
   ]
  },
  {
   "cell_type": "code",
   "execution_count": 103,
   "metadata": {},
   "outputs": [],
   "source": [
    "def media_examenes(*args):\n",
    "    return round(sum(args)/len(args))"
   ]
  },
  {
   "cell_type": "code",
   "execution_count": 104,
   "metadata": {},
   "outputs": [],
   "source": [
    "nota_final = media_examenes(4, 5, 7, 6, 7)"
   ]
  },
  {
   "cell_type": "code",
   "execution_count": 105,
   "metadata": {},
   "outputs": [
    {
     "name": "stdout",
     "output_type": "stream",
     "text": [
      "6\n"
     ]
    }
   ],
   "source": [
    "print(nota_final)"
   ]
  },
  {
   "cell_type": "code",
   "execution_count": 106,
   "metadata": {},
   "outputs": [],
   "source": [
    "def gastos_mensuales(*args):\n",
    "    return sum(args)"
   ]
  },
  {
   "cell_type": "code",
   "execution_count": 107,
   "metadata": {},
   "outputs": [],
   "source": [
    "diciembre = gastos_mensuales(500, 200, 300, 600, 150)"
   ]
  },
  {
   "cell_type": "code",
   "execution_count": 108,
   "metadata": {},
   "outputs": [
    {
     "name": "stdout",
     "output_type": "stream",
     "text": [
      "1750\n"
     ]
    }
   ],
   "source": [
    "print(diciembre)"
   ]
  },
  {
   "cell_type": "code",
   "execution_count": null,
   "metadata": {},
   "outputs": [],
   "source": [
    "#Quiero crear un robot que dé da bienvenida a mi grupo de invitados, pero no sé cuántos tendré.\n",
    "#Quiero que pueda pasarle muchos nombres y uno a uno le vaya diciendo bienvenida o bienvenido\n"
   ]
  },
  {
   "cell_type": "markdown",
   "metadata": {},
   "source": [
    "### Si lo que le vamos a pasar van a ser elementos de un diccionario, podemos usar *kwargs\n"
   ]
  },
  {
   "cell_type": "code",
   "execution_count": 109,
   "metadata": {},
   "outputs": [],
   "source": [
    "def mostrar_info(**kwargs):\n",
    "    for clave, valor in kwargs.items():\n",
    "        print(f\"{clave} : {valor}\")"
   ]
  },
  {
   "cell_type": "code",
   "execution_count": 34,
   "metadata": {},
   "outputs": [],
   "source": [
    "usuario1 = {\"nombre\": \"Ana\", \"apellido\": \"Martínez\"}"
   ]
  },
  {
   "cell_type": "code",
   "execution_count": null,
   "metadata": {},
   "outputs": [],
   "source": [
    "# Hay dos formas de pasarle la información a las funciones con **kwargs:\n",
    "\n",
    "# funcion(**{\"clave\": \"valor\"})\n",
    "\n",
    "\n",
    "# funcion(clave:\"valor\") aquí la clave es sin comillas"
   ]
  },
  {
   "cell_type": "code",
   "execution_count": 32,
   "metadata": {},
   "outputs": [],
   "source": [
    "diccionario1 = {**usuario1}"
   ]
  },
  {
   "cell_type": "code",
   "execution_count": null,
   "metadata": {},
   "outputs": [],
   "source": [
    "print(diccionario1)"
   ]
  },
  {
   "cell_type": "code",
   "execution_count": null,
   "metadata": {},
   "outputs": [],
   "source": [
    "diccionario2 = mostrar_info(nombre=\"Ana\", apellido=\"martínez\")"
   ]
  },
  {
   "cell_type": "markdown",
   "metadata": {},
   "source": [
    "## Variables locales *vs* globales\n",
    "\n",
    "Las **variables globales** son aquellas que **no** están definidas dentro de ninguna función y tienen un alcance global, mientras que las **variables locales** son aquellas que están definidas dentro de una función y su alcance está limitado sólo a esa función.\n",
    "\n",
    "> En otras palabras, podemos decir que las variables locales son accesibles sólo dentro de la función en la que se inicializó mientras que las variables globales son accesibles en todo el programa y dentro de cada función."
   ]
  },
  {
   "cell_type": "markdown",
   "metadata": {},
   "source": [
    "### Variables locales\n",
    "\n",
    "Una **variable local** es una variable definida dentro de una función y que solo está disponible dentro del ámbito de esa función. Es decir, una variable local solo puede ser utilizada dentro de la función donde se ha definido.\n",
    "\n",
    "Cuando se define una variable dentro de una función, se crea una variable local con el mismo nombre que la variable definida. Esta variable local solo existe dentro de la función y no se puede acceder desde fuera de ella. Además, cuando se define una variable local con el mismo nombre que una variable global, la variable local oculta la variable global dentro de la función."
   ]
  },
  {
   "cell_type": "code",
   "execution_count": 110,
   "metadata": {},
   "outputs": [],
   "source": [
    "def mantra():\n",
    "    mi_mantra = \"Puedo con todo\"\n",
    "    return mi_mantra"
   ]
  },
  {
   "cell_type": "code",
   "execution_count": 111,
   "metadata": {},
   "outputs": [
    {
     "ename": "NameError",
     "evalue": "name 'mi_mantra' is not defined",
     "output_type": "error",
     "traceback": [
      "\u001b[1;31m---------------------------------------------------------------------------\u001b[0m",
      "\u001b[1;31mNameError\u001b[0m                                 Traceback (most recent call last)",
      "Cell \u001b[1;32mIn[111], line 1\u001b[0m\n\u001b[1;32m----> 1\u001b[0m \u001b[43mmi_mantra\u001b[49m\n",
      "\u001b[1;31mNameError\u001b[0m: name 'mi_mantra' is not defined"
     ]
    }
   ],
   "source": [
    "mi_mantra"
   ]
  },
  {
   "cell_type": "markdown",
   "metadata": {},
   "source": [
    "### Variables globales\n",
    "\n",
    "Una **variable global** es una variable definida fuera de una función y que está disponible en todo el programa, es decir, en cualquier lugar donde se haga referencia a ella. Una variable global se puede acceder desde cualquier función o parte del código que esté en el mismo archivo de Python o Jupyter.\n",
    "\n",
    "Cuando se define una variable global, esta se puede utilizar y modificar en cualquier parte del programa."
   ]
  },
  {
   "cell_type": "code",
   "execution_count": null,
   "metadata": {},
   "outputs": [],
   "source": [
    "\n",
    "la_verdad = 'Python es el mejor lenguaje de programación'\n",
    "\n",
    "\n",
    "def mi_funcion2():\n",
    "    print(f' Dentro de la funcion:  {la_verdad}')\n",
    "\n",
    "mi_funcion2()"
   ]
  },
  {
   "cell_type": "code",
   "execution_count": null,
   "metadata": {},
   "outputs": [],
   "source": [
    "la_verdad"
   ]
  },
  {
   "cell_type": "code",
   "execution_count": null,
   "metadata": {},
   "outputs": [],
   "source": [
    "#Vemos entonces que las variables globales se pueden llamar tanto dentro como fuera de una función"
   ]
  },
  {
   "cell_type": "markdown",
   "metadata": {},
   "source": [
    "# Funciones Lambda\n",
    "- Funciones ya hechas, que se diferencias porque no llevan el def\n",
    "- Son funciones cortas para usarlas solo una vez y van solo en una línea, solo sirve para algo sencillo\n",
    "- Usan la palabra clave lambda\n",
    "- Sintaxis:\n",
    "    lambda parámetros: expresión"
   ]
  },
  {
   "cell_type": "code",
   "execution_count": 34,
   "metadata": {},
   "outputs": [],
   "source": [
    "suma = lambda a,b: a+b"
   ]
  },
  {
   "cell_type": "code",
   "execution_count": 36,
   "metadata": {},
   "outputs": [],
   "source": [
    "multiplicar_por_diez = lambda num: num * 10"
   ]
  },
  {
   "cell_type": "markdown",
   "metadata": {},
   "source": [
    "# Clases y Objetos"
   ]
  },
  {
   "cell_type": "markdown",
   "metadata": {},
   "source": [
    "### ¿Qué es una clase?\n",
    "- Es una plantilla, un modelo o molde en base al cual se pueden crear objetos. \n",
    "- Tendrá atributos y métodos. Los métodos son lo que conocemos como funciones.\n",
    "- Los nombres de las clases se escriben todo junto y con la primera letra de cada palabra en mayúscula: MiClase, CuentaBancaria, NombreClase\n",
    "- Los nombres de los atributos y métodos van en minúsculas\n",
    "- Por ejemplo, podemos crear un molde de dispositivo electrónico. Esa será la clase y un objeto puede ser un móvil, una tele...\n",
    "- Siempre tiene un método llamado \"método constructor\" que se llama def __init__\n",
    "- Sintaxis:\n",
    "\n",
    "\n",
    "class DispositivoElectronico:\n",
    "\n",
    "    def __init__(self, nombre color, marca, precio):\n",
    "        self.nombre = nombre\n",
    "        self.color = color\n",
    "        self.marca = marca\n",
    "        self.precio = precio\n",
    "\n",
    "    def apagar(self):\n",
    "        print(f\"Se ha apagado tu {self.nombre}\")\n",
    "    \n",
    "    def metodo2(self, argumento):\n",
    "        #El código que sea\n",
    "\n",
    "\n",
    "### ¿Qué es un objeto?\n",
    "- Es un elemento o instancia de una clase. Es decir, una identidad concreta creada a partir de la clase.\n",
    "- Si tengo una clase llamada DispositivoElectronico, puedo crear un objeto llamado Televisor con esta plantilla y tendrá esas características (atributos) y métodos.\n",
    "\n",
    "\n",
    "### Conceptos importantes:\n",
    "- Clase --> plantilla, modelo\n",
    "- Objeto --> objeto creado a partir de una plantilla\n",
    "- Atributo --> características de la clase\n",
    "- Método --> funciones de una clase"
   ]
  },
  {
   "cell_type": "code",
   "execution_count": 2,
   "metadata": {},
   "outputs": [],
   "source": [
    "class DispositivoElectronico:\n",
    "\n",
    "    def __init__(self, nombre, color, marca, precio):\n",
    "        self.nombre = nombre\n",
    "        self.color = color\n",
    "        self.marca = marca\n",
    "        self.precio = precio\n",
    "\n",
    "    def apagar(self):\n",
    "        print(f\"Se ha apagado tu {self.nombre}\")\n",
    "    \n",
    "    def metodo2(self, bateria):\n",
    "        print(f\"Tu {self.nombre} tiene un {bateria} % de batería.\")"
   ]
  },
  {
   "cell_type": "code",
   "execution_count": 3,
   "metadata": {},
   "outputs": [],
   "source": [
    "reloj_inteligente = DispositivoElectronico(\"reloj inteligente\",\"negro\", \"Xiaomi\", 500)"
   ]
  },
  {
   "cell_type": "code",
   "execution_count": 4,
   "metadata": {},
   "outputs": [
    {
     "name": "stdout",
     "output_type": "stream",
     "text": [
      "Se ha apagado tu reloj inteligente\n"
     ]
    }
   ],
   "source": [
    "reloj_inteligente.apagar()"
   ]
  },
  {
   "cell_type": "code",
   "execution_count": 7,
   "metadata": {},
   "outputs": [
    {
     "name": "stdout",
     "output_type": "stream",
     "text": [
      "Tu reloj inteligente tiene un cien % de batería.\n"
     ]
    }
   ],
   "source": [
    "reloj_inteligente.metodo2(\"cien\")"
   ]
  },
  {
   "cell_type": "code",
   "execution_count": 9,
   "metadata": {},
   "outputs": [],
   "source": [
    "reloj_inteligente.nombre = \"smart watch\""
   ]
  },
  {
   "cell_type": "code",
   "execution_count": 10,
   "metadata": {},
   "outputs": [
    {
     "data": {
      "text/plain": [
       "'smart watch'"
      ]
     },
     "execution_count": 10,
     "metadata": {},
     "output_type": "execute_result"
    }
   ],
   "source": [
    "reloj_inteligente.nombre "
   ]
  },
  {
   "cell_type": "code",
   "execution_count": 11,
   "metadata": {},
   "outputs": [],
   "source": [
    "class Persona:\n",
    "    def __init__(self,nombre,apellido,edad,profesion, altura):\n",
    "        self.nombre = nombre\n",
    "        self.apellido = apellido\n",
    "        self.edad = edad\n",
    "        self.profesion = profesion\n",
    "        self.altura = altura\n",
    "    \n",
    "    def saludar(self, nombre_desconocido):\n",
    "        print(f\"Hola {nombre_desconocido}. Soy {self.nombre} {self.apellido}\")\n",
    "    \n",
    "    def despedirse(self):\n",
    "        print(\"Adiós\")\n",
    "\n",
    "    def decir_edad(self):\n",
    "        print(f\"Tengo {self.edad} años\")\n",
    "    \n",
    "    def decir_profesion(self):\n",
    "        print(f\"Soy {self.profesion}\")\n",
    "    \n",
    "    def sumar_numeros(self, *args):\n",
    "        print(f\"Oye, claro que sé sumar, estos numeros suman {sum(args)}\")"
   ]
  },
  {
   "cell_type": "code",
   "execution_count": null,
   "metadata": {},
   "outputs": [],
   "source": [
    "#Creemos a una persona"
   ]
  },
  {
   "cell_type": "code",
   "execution_count": 12,
   "metadata": {},
   "outputs": [],
   "source": [
    "mujer1 = Persona(\"Marta\", \"Martín\", 40, \"científica\", 1.80)"
   ]
  },
  {
   "cell_type": "code",
   "execution_count": 14,
   "metadata": {},
   "outputs": [],
   "source": [
    "mujer1.nombre = \"María\""
   ]
  },
  {
   "cell_type": "code",
   "execution_count": 15,
   "metadata": {},
   "outputs": [
    {
     "name": "stdout",
     "output_type": "stream",
     "text": [
      "Hola Rocío. Soy María Martín\n"
     ]
    }
   ],
   "source": [
    "mujer1.saludar(\"Rocío\")"
   ]
  },
  {
   "cell_type": "code",
   "execution_count": 17,
   "metadata": {},
   "outputs": [
    {
     "name": "stdout",
     "output_type": "stream",
     "text": [
      "Soy científica\n"
     ]
    }
   ],
   "source": [
    "mujer1.decir_profesion()"
   ]
  },
  {
   "cell_type": "code",
   "execution_count": 18,
   "metadata": {},
   "outputs": [
    {
     "name": "stdout",
     "output_type": "stream",
     "text": [
      "Oye, claro que sé sumar, estos numeros suman 40051\n"
     ]
    }
   ],
   "source": [
    "mujer1.sumar_numeros(500,23405,10304,5842)"
   ]
  },
  {
   "cell_type": "code",
   "execution_count": 19,
   "metadata": {},
   "outputs": [],
   "source": [
    "class DispositivoElectronico:\n",
    "    def __init__(self, nombre, marca, color, precio):\n",
    "        self.nombre = nombre\n",
    "        self.marca = marca\n",
    "        self.color = color\n",
    "        self.precio = precio\n",
    "\n",
    "    def encender(self):\n",
    "        print(\"Se ha encendido\")\n",
    "\n",
    "    def apagar(self):\n",
    "        print(\"Se ha apagado\")\n",
    "\n",
    "    def descripcion(self):\n",
    "        print(f\"{self.nombre}: cuesta {self.precio} euros, es de la marca {self.marca} y de color {self.color}\")\n",
    "    \n",
    "    def comprar(self, dinero):\n",
    "        if dinero == self.precio:\n",
    "            print(\"Lo has comprado\")\n",
    "        elif dinero > self.precio:\n",
    "            print(f\"Aquí tienes tu vuelta:{dinero - self.precio} euros\")\n",
    "        else:\n",
    "            print(f\"Lo siento, no te puedes permitir un móvil de la marca {self.marca}.\")"
   ]
  },
  {
   "cell_type": "code",
   "execution_count": 20,
   "metadata": {},
   "outputs": [],
   "source": [
    "movil1 = DispositivoElectronico(\"Xiaomi 11TPro\", \"Xiaomi\", \"rojo\", 500)"
   ]
  },
  {
   "cell_type": "code",
   "execution_count": 21,
   "metadata": {},
   "outputs": [
    {
     "name": "stdout",
     "output_type": "stream",
     "text": [
      "Xiaomi 11TPro: cuesta 500 euros, es de la marca Xiaomi y de color rojo\n"
     ]
    }
   ],
   "source": [
    "movil1.descripcion()"
   ]
  },
  {
   "cell_type": "code",
   "execution_count": 23,
   "metadata": {},
   "outputs": [
    {
     "name": "stdout",
     "output_type": "stream",
     "text": [
      "Aquí tienes tu vuelta:300\n"
     ]
    }
   ],
   "source": [
    "movil1.comprar(800)"
   ]
  },
  {
   "cell_type": "code",
   "execution_count": null,
   "metadata": {},
   "outputs": [],
   "source": [
    "movil1.encender()"
   ]
  },
  {
   "cell_type": "code",
   "execution_count": 131,
   "metadata": {},
   "outputs": [],
   "source": [
    "movil1.color = \"rosa\""
   ]
  },
  {
   "cell_type": "code",
   "execution_count": null,
   "metadata": {},
   "outputs": [],
   "source": [
    "movil1.color"
   ]
  },
  {
   "cell_type": "code",
   "execution_count": null,
   "metadata": {},
   "outputs": [],
   "source": [
    "movil1.comprar(600)"
   ]
  },
  {
   "cell_type": "code",
   "execution_count": 42,
   "metadata": {},
   "outputs": [],
   "source": [
    "#Creación de un objeto con la plantilla que tenemos\n",
    "#Le damos un nombre, como si fuera una variable y cogemos la clase deseada y le pasamos los atributos que nos pide\n",
    "\n",
    "televisor = DispositivoElectronico(\"Televisión 4K\", \"Samsung\", \"negro\", 400)"
   ]
  },
  {
   "cell_type": "code",
   "execution_count": null,
   "metadata": {},
   "outputs": [],
   "source": [
    "televisor.nombre"
   ]
  },
  {
   "cell_type": "code",
   "execution_count": null,
   "metadata": {},
   "outputs": [],
   "source": [
    "televisor.color"
   ]
  },
  {
   "cell_type": "code",
   "execution_count": 45,
   "metadata": {},
   "outputs": [],
   "source": [
    "televisor.color = \"rojo\""
   ]
  },
  {
   "cell_type": "code",
   "execution_count": null,
   "metadata": {},
   "outputs": [],
   "source": [
    "televisor.comprar(50)"
   ]
  },
  {
   "cell_type": "code",
   "execution_count": 88,
   "metadata": {},
   "outputs": [],
   "source": [
    "#Al crear una clase, también podríamos poner algún atributo por defecto\n",
    "\n",
    "class DispositivoElectronico:\n",
    "    def __init__(self, nombre, marca, color, precio = 50):\n",
    "        self.nombre = nombre\n",
    "        self.marca = marca\n",
    "        self.color = color\n",
    "        self.precio = precio\n",
    "\n",
    "    def encender(self):\n",
    "        print(\"Se ha encendido\")\n",
    "\n",
    "    def apagar(self):\n",
    "        print(\"Se ha apagado\")\n",
    "\n",
    "    def descripcion(self):\n",
    "        print(f\"{self.nombre}: cuesta {self.precio} euros, es de la marca {self.marca} y de color {self.color}\")\n",
    "    \n",
    "    def comprar(self,dinero):\n",
    "        if dinero >= self.precio:\n",
    "            print(\"Lo has comprado\")\n",
    "        else:\n",
    "            print(\"Lo siento, no pudes permitírtelo.\")"
   ]
  },
  {
   "cell_type": "code",
   "execution_count": 93,
   "metadata": {},
   "outputs": [],
   "source": [
    "ordenador = DispositivoElectronico(\"PC Gamer\", \"ThinkPad\", \"gris\") #cuidado aquí, respetar el orden o ponemos...\n",
    "ordenador2 = DispositivoElectronico(nombre = \"PC Normal\", marca = \"ThinkPad\", color = \"gris\")"
   ]
  },
  {
   "cell_type": "markdown",
   "metadata": {},
   "source": [
    "### Además de usar sus funciones, podemos acceder a sus atributos usando nombreobjeto.atributo"
   ]
  },
  {
   "cell_type": "code",
   "execution_count": null,
   "metadata": {},
   "outputs": [],
   "source": [
    "ordenador.nombre"
   ]
  },
  {
   "cell_type": "code",
   "execution_count": null,
   "metadata": {},
   "outputs": [],
   "source": [
    "ordenador.color"
   ]
  },
  {
   "cell_type": "code",
   "execution_count": null,
   "metadata": {},
   "outputs": [],
   "source": [
    "ordenador.precio"
   ]
  },
  {
   "cell_type": "markdown",
   "metadata": {},
   "source": [
    "# Herencias de las clases\n",
    "\n",
    "Las herencias nos van a permitir crear nuevas clases a partir de clases que ya hemos definido previamente.\n",
    "\n",
    "- Clase que hereda --> CLASE HIJA, SUBCLASE o CHILD\n",
    "\n",
    "- Clase de la que hereda --> CLASE MADRE, SUPERCLASE o PARENT\n",
    "\n",
    "Las clases hijas pueden modificar los atributos y métodos de las clases madre o crear nuevos. En otras palabras, las clases hijas heredan todos los atributos y métodos de las clases padre, pero también pueden tener atributos y métodos que son exclusivos de ellas mismas.\n",
    "\n",
    "La ventaja principal... nos ayuda a reutilizar código"
   ]
  },
  {
   "cell_type": "code",
   "execution_count": 24,
   "metadata": {},
   "outputs": [],
   "source": [
    "class Hijo(Persona):\n",
    "    pass"
   ]
  },
  {
   "cell_type": "code",
   "execution_count": 25,
   "metadata": {},
   "outputs": [],
   "source": [
    "class Dispositivo(DispositivoElectronico):\n",
    "    pass"
   ]
  },
  {
   "cell_type": "code",
   "execution_count": 26,
   "metadata": {},
   "outputs": [],
   "source": [
    "reloj = Dispositivo(\"reloj\", \"rolex\", \"gris\", 50)"
   ]
  },
  {
   "cell_type": "code",
   "execution_count": null,
   "metadata": {},
   "outputs": [],
   "source": [
    "reloj.precio"
   ]
  },
  {
   "cell_type": "code",
   "execution_count": 27,
   "metadata": {},
   "outputs": [],
   "source": [
    "class SuperPersona(Persona):\n",
    "    def __init__(self,nombre, apellido, edad, altura, velocidad, profesion =\"superheroina\"):\n",
    "        super().__init__(nombre, apellido, edad, profesion, altura)\n",
    "        self.velocidad = velocidad\n",
    "\n",
    "    def volar(self):\n",
    "        print(f'Estoy volando!!! Voy a {self.velocidad}')"
   ]
  },
  {
   "cell_type": "code",
   "execution_count": 29,
   "metadata": {},
   "outputs": [],
   "source": [
    "diana = SuperPersona(nombre=\"Diana\", apellido=\"Wonder\", edad=25, altura=1.55, velocidad= \"120 km/h\")"
   ]
  },
  {
   "cell_type": "code",
   "execution_count": 31,
   "metadata": {},
   "outputs": [
    {
     "name": "stdout",
     "output_type": "stream",
     "text": [
      "Estoy volando!!! Voy a 120 km/h\n"
     ]
    }
   ],
   "source": [
    "diana.volar()"
   ]
  },
  {
   "cell_type": "code",
   "execution_count": null,
   "metadata": {},
   "outputs": [],
   "source": [
    "class Dispositivo(DispositivoElectronico):\n",
    "\n",
    "    def __init__(self, nombre, marca, color, estado, bateria):\n",
    "        super().__init__(nombre, marca, color) \n",
    "        self.estado = estado\n",
    "        self.bateria = bateria\n",
    "\n",
    "\n",
    "    def regalar(self):\n",
    "        print(f\"Toma, te regalo mi {self.nombre}\")\n",
    " "
   ]
  },
  {
   "cell_type": "code",
   "execution_count": null,
   "metadata": {},
   "outputs": [],
   "source": [
    "enchufe = Dispositivo(\"enchufe\", \"Xiami\", \"blanco\", \"nuevo\", \"100%\")"
   ]
  },
  {
   "cell_type": "code",
   "execution_count": null,
   "metadata": {},
   "outputs": [],
   "source": [
    "enchufe.comprar(10)"
   ]
  },
  {
   "cell_type": "code",
   "execution_count": null,
   "metadata": {},
   "outputs": [],
   "source": [
    "enchufe.regalar()"
   ]
  },
  {
   "cell_type": "code",
   "execution_count": 34,
   "metadata": {},
   "outputs": [],
   "source": [
    "class Biblioteca:\n",
    "    def __init__(self):\n",
    "        self.libros = [{\"titulo\": \"El Principito\", \"autor\": \"El Autor\", \"cantidad\":30}, {\"titulo\": \"El Quijote\", \"autor\": \"El Autor\", \"cantidad\":30}] \n",
    "        self.usuarias = {\"Ana Vega\":50, \"Carla Cuevas\":200}\n",
    "        self.prestamos_totales = 0\n",
    "    \n",
    "    def agregar_libro(self, titulo, autor, cantidad):\n",
    "        for libro in self.libros:\n",
    "            if libro['titulo'] == titulo:\n",
    "                libro['cantidad'] += cantidad\n",
    "                return\n",
    "        nuevo_libro = {'titulo': titulo, 'autor':autor, 'cantidad': cantidad}\n",
    "        self.libros.append(nuevo_libro)\n",
    "\n",
    "    def ver_libros(self):\n",
    "        for libro in self.libros:\n",
    "            print(f\"Título: {libro['titulo']}, Autor: {libro['autor']}),  Cantidad: {libro['cantidad']}\")\n",
    "\n",
    "    def buscar_libro(self, titulo):\n",
    "        for libro in self.libros:\n",
    "            if libro['titulo'] == titulo:\n",
    "                print(f\"Título: {libro['titulo']}, Autor: {libro['autor']}, Cantidad: {libro['cantidad']}\")\n",
    "                return\n",
    "        print(f\"El libro '{titulo}' no está disponible en la biblioteca.\")\n",
    "\n",
    "    def añadir_usuaria(self, nombre, prestamos):\n",
    "        if nombre in self.usuarias:\n",
    "            print(\"Persona ya registrada\")\n",
    "        else:\n",
    "            self.usuarias.update({nombre:prestamos})\n",
    "\n",
    "    def ver_usuarias(self):\n",
    "        print(self.usuarias)\n"
   ]
  },
  {
   "cell_type": "code",
   "execution_count": 35,
   "metadata": {},
   "outputs": [],
   "source": [
    "biblioteca_del_pueblo = Biblioteca()"
   ]
  },
  {
   "cell_type": "code",
   "execution_count": 36,
   "metadata": {},
   "outputs": [],
   "source": [
    "biblioteca_del_pueblo.agregar_libro(\"El Quijote\", \"Cervantes\", 50)"
   ]
  },
  {
   "cell_type": "code",
   "execution_count": 37,
   "metadata": {},
   "outputs": [
    {
     "name": "stdout",
     "output_type": "stream",
     "text": [
      "Título: El Principito, Autor: El Autor),  Cantidad: 30\n",
      "Título: El Quijote, Autor: El Autor),  Cantidad: 80\n"
     ]
    }
   ],
   "source": [
    "biblioteca_del_pueblo.ver_libros()"
   ]
  },
  {
   "cell_type": "code",
   "execution_count": 66,
   "metadata": {},
   "outputs": [],
   "source": [
    "biblioteca1 = Biblioteca()"
   ]
  },
  {
   "cell_type": "code",
   "execution_count": 67,
   "metadata": {},
   "outputs": [],
   "source": [
    "biblioteca1.agregar_libro(\"El Quijote\", \"Cervantes\", 2)"
   ]
  },
  {
   "cell_type": "code",
   "execution_count": 68,
   "metadata": {},
   "outputs": [
    {
     "data": {
      "text/plain": [
       "[{'titulo': 'El Quijote', 'autor': 'Cervantes', 'cantidad': 2}]"
      ]
     },
     "execution_count": 68,
     "metadata": {},
     "output_type": "execute_result"
    }
   ],
   "source": [
    "biblioteca1.libros"
   ]
  },
  {
   "cell_type": "code",
   "execution_count": 69,
   "metadata": {},
   "outputs": [],
   "source": [
    "biblioteca1.agregar_libro(\"El Quijote\", \"Cervantes\", 5)"
   ]
  },
  {
   "cell_type": "code",
   "execution_count": 70,
   "metadata": {},
   "outputs": [
    {
     "data": {
      "text/plain": [
       "[{'titulo': 'El Quijote', 'autor': 'Cervantes', 'cantidad': 7}]"
      ]
     },
     "execution_count": 70,
     "metadata": {},
     "output_type": "execute_result"
    }
   ],
   "source": [
    "biblioteca1.libros"
   ]
  },
  {
   "cell_type": "code",
   "execution_count": 72,
   "metadata": {},
   "outputs": [],
   "source": [
    "biblioteca1.añadir_usuaria(\"María Pérez\", 4)"
   ]
  },
  {
   "cell_type": "code",
   "execution_count": 73,
   "metadata": {},
   "outputs": [
    {
     "data": {
      "text/plain": [
       "{'María Pérez': 4}"
      ]
     },
     "execution_count": 73,
     "metadata": {},
     "output_type": "execute_result"
    }
   ],
   "source": [
    "biblioteca1.usuarias"
   ]
  },
  {
   "cell_type": "markdown",
   "metadata": {},
   "source": [
    "Vamos a crear la clase Adalaber.\n",
    "Toda Adalaber tiene los siguientes atributos: nombre, apellido, superpoder, frase que más repite y una mascota, aunque por defecto puede tener \"ninguna\".\n",
    "Toda Adalaber puede: saludar a alguien, decir su propio nombre y apellido, decir cuál es su mascota (si tiene), decir su frase, decir su superpoder y decir la tabla de multiplicar del numero que le pasemos (somos muy listas :aliviado:)\n",
    "Cada una podrá crearse un objeto que rellenar con sus datos, es decir, podrá crear un objeto de ella misma. Y así demostrar que puede hacer lo que toda Adalaber!\n",
    "Os enseñaré mi Adalaber llamada Rocío el martes! Si os da tiempo intentar la vuestra, también las veremos ;)."
   ]
  },
  {
   "cell_type": "code",
   "execution_count": 3,
   "metadata": {},
   "outputs": [],
   "source": [
    "class Adalaber:\n",
    "    def __init__(self, nombre, apellido, superpoder, frase, mascota = \"ninguna\"):\n",
    "        self.nombre = nombre\n",
    "        self.apellido = apellido\n",
    "        self.superpoder = superpoder\n",
    "        self.frase = frase\n",
    "        self.mascota = mascota\n",
    "\n",
    "    def saludar(self, nombre):\n",
    "        print(f\"Hola, {nombre}\")\n",
    "    \n",
    "    def decir_nombre(self):\n",
    "        print(f\"Me llamo {self.nombre} {self.apellido}\")\n",
    "    \n",
    "    def decir_mascota(self):\n",
    "        if self.mascota == \"ninguna\":\n",
    "            print(\"No tengo mascota\")\n",
    "        else:\n",
    "            print(f\"Mi mascota es {self.mascota}\")\n",
    "\n",
    "    def decir_frase(self):\n",
    "        print(f\"Yo siempre digo: {self.frase}\")\n",
    "    \n",
    "    def decir_superpoder(self):\n",
    "        print(f\"Mi superpoder es {self.superpoder}\")\n",
    "    \n",
    "    def tabla_multiplicar(self, numero):\n",
    "        for i in range(0,11):\n",
    "            print(f\"{numero} x {i} = {numero * i}\")\n"
   ]
  },
  {
   "cell_type": "code",
   "execution_count": 4,
   "metadata": {},
   "outputs": [],
   "source": [
    "rocio_martinez = Adalaber(\"Rocío\", \"Martínez\", \"contar chistes malos\", \"Esto puede ser cualquier cosa, por ejemplo: patata\")"
   ]
  }
 ],
 "metadata": {
  "kernelspec": {
   "display_name": "Python 3",
   "language": "python",
   "name": "python3"
  },
  "language_info": {
   "codemirror_mode": {
    "name": "ipython",
    "version": 3
   },
   "file_extension": ".py",
   "mimetype": "text/x-python",
   "name": "python",
   "nbconvert_exporter": "python",
   "pygments_lexer": "ipython3",
   "version": "3.9.5"
  }
 },
 "nbformat": 4,
 "nbformat_minor": 2
}
