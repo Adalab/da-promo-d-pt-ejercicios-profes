{
 "cells": [
  {
   "cell_type": "markdown",
   "metadata": {},
   "source": [
    "## REGEX o expresiones regulares\n",
    "- Usamos una librería de python llamada re: import re\n",
    "- Nos permite crear patrones de texto y después buscar una coincidencia, entre otras cosas.\n",
    "- Imaginaos que yo espero que la usuaria me introduzca un correo electrónico valido. Podría usar \"if @ not in email\". Pero igual el correo es rocio@.com y tampoco es válido. Me tendría que asegurar de que la estructura es @ algo más y .com o .es.\n",
    "Para ello puedo crear una estructura y asegurarme de qe se cumple.\n",
    "-Es decir, sirve para crear patrones y comprobar que se cumple en un texto.\n"
   ]
  },
  {
   "cell_type": "code",
   "execution_count": null,
   "metadata": {},
   "outputs": [],
   "source": [
    "import re"
   ]
  },
  {
   "cell_type": "code",
   "execution_count": null,
   "metadata": {},
   "outputs": [],
   "source": [
    "re.search() #busca el patrón dentro de una cadena y devuelve LA PRIMERA COINCIDENCIA que encuentre\n",
    "resultado = re.search(patron,texto) #esta sería la estructura"
   ]
  },
  {
   "cell_type": "code",
   "execution_count": null,
   "metadata": {},
   "outputs": [],
   "source": [
    "resultado = re.match(patron, texto) #comprueba si el patrón coincide con EL PRINCIPIO de una cadena"
   ]
  },
  {
   "cell_type": "code",
   "execution_count": null,
   "metadata": {},
   "outputs": [],
   "source": [
    "resultado = re.findall(patron, texto) #encuentra las coincidencias del patrón en una cadena de texto y las devuelve en forma de lista"
   ]
  },
  {
   "cell_type": "code",
   "execution_count": null,
   "metadata": {},
   "outputs": [],
   "source": [
    "resultado = re.split(patron,texto) #divide el texto por el patrón y devuelve las subcadenas"
   ]
  },
  {
   "cell_type": "markdown",
   "metadata": {},
   "source": [
    "## SINTAXIS\n",
    "- Los caracteres literales: podemos usar caracteres comunes (letras de la a a la z, numeros, signos de puntuación)\n",
    "- Metacaracteres: caracteres que tienen un comportamiento especial para definir los patrones:\n",
    "    - . --> el punto se usa en un patrón para permitir cualquier caracter menos el salto de línea\n",
    "    Por ejemplo, \"a.c\" coincide con \"abc\", \"adc\", \"aec\", etc. Es decir, con el . indicamos \"cualquier cosa\".\n",
    "\n",
    "    - | --> se coloca entre dos elementos de un patrón, quiere decir que tiene que aparecer o uno u otro.\n",
    "    Por ejemplo hola|hi\n",
    "\n",
    "    - * --> permite 0 o más repeticiones del elemento que tiene a su izquierda\n",
    "    Por ejemplo ab*c coincide con abc, ac, abbc, abbbbbbbc...\n",
    "\n",
    "    - + --> permite que aparezca una o más veces el elemento que tiene a su izquierda\n",
    "    Por ejemplo ab+c coincide con abc, abbc, abbc, pero NO con ac\n",
    "\n",
    "    - ? --> permite que aparezca SOLO 0 o 1 vez el elemento de su izquierda:\n",
    "    Por ejemplo, colou?r coincide con colour y color. PERO NO CON colouur\n",
    "\n",
    "    - {} -- se usan para especificar el número de veces que puede aparecer el valor de su izquierda. Podemos poner un rango de valores separados por comas, AMBOS INCLUSIVE.\n",
    "    Por ejemplo ab{3,4} servirá para abbb y abbbb, pero no abbbbbbb\n",
    "\n",
    "    - ^ --> Significa que el elemento que hay a su DERECHA coincide con el inicio de la cadena de texto\n",
    "    Por ejemplo: puedo usar ^¡ para asegurarnos de que el texto comienza con exclamación.\n",
    "\n",
    "    - $ --> indica que el elemento de su DERECHA coincide con el final del texto\n",
    "    Por ejemplo: $.com para asegurarme de que el correo termina en .com\n",
    "\n",
    "    - [] --> se usa para indicar un conjunto de valores válidos\n",
    "    Por ejemplo: [A-Z] significa que cualquier letra, pero en mayúsculas\n",
    "    \n",
    "    - \\ --> sirve para usar como caracter normal lo que aparezca a su DERECHA\n",
    "    Por ejemplo, \\. para que no me use punto como metacaracter\n"
   ]
  },
  {
   "cell_type": "markdown",
   "metadata": {},
   "source": [
    "## Secuencias especiales: secuencia de caracteres que van precedidos por el caracter y tienen un significado especial.\n",
    "\n",
    "\n",
    "- `\\w`: buscaremos cualquier caracter de tipo alfabético.\n",
    "\n",
    "- `\\W`: buscaremos cualquier caracter que no sea una letra.\n",
    "\n",
    "- `\\d`: buscaremos cualquier caracter de tipo númerico.\n",
    "\n",
    "- `\\D`: buscaremos cualquier caracter que no sea un dígito. \n",
    "\n",
    "- `\\s`: buscaremos los espacios en nuestro *string*.\n",
    "\n",
    "- `\\S`: buscaremos cualquier elemento que no sea un espacio en nuestro *string* \n",
    "\n",
    "- `\\B`: el patrón hace match si el elemento a su izquierda O a su derecha NO están al principio y al final de una palabra respectivamente\n",
    "\n",
    "- `\\b`: el patrón hace match si el elemento que hay a su izquierda y derecha SÍ están al principio o final de una palabra respectivamente\n",
    "\n"
   ]
  },
  {
   "cell_type": "code",
   "execution_count": null,
   "metadata": {},
   "outputs": [],
   "source": [
    "# re.search(), ¿para qué servía?\n",
    "import re\n",
    "texto = \"Hola, amiga, ¿cómo estas? ¿seguimos siendo amigas?\"\n",
    "resultado = re.search(r\"amig[a|o]\", texto)\n",
    "#El resultado es de tipo Match\n"
   ]
  },
  {
   "cell_type": "code",
   "execution_count": null,
   "metadata": {},
   "outputs": [],
   "source": [
    "# re.match(), ¿para qué servía?\n",
    "\n",
    "texto2 = \"Buenos días, ¿qué desean?\"\n",
    "resultado2 = re.match(r\"Buen*\", texto2)\n",
    "\n",
    "#El resultado es de tipo match\n",
    "print(resultado2)"
   ]
  },
  {
   "cell_type": "code",
   "execution_count": null,
   "metadata": {},
   "outputs": [],
   "source": [
    "# re.findall(), ¿para qué servía?\n",
    "\n",
    "texto3 = \"Hola, mi número es 123456789 y el de mi amigo es 987654321\"\n",
    "            \n",
    "resultado3 = re.findall(r\"\\d+\", texto3)\n",
    "\n",
    "print(resultado3)"
   ]
  },
  {
   "cell_type": "code",
   "execution_count": null,
   "metadata": {},
   "outputs": [],
   "source": [
    "#re.split(), ¿para qué servía? Me elimina ese elemento por el que lo separamos\n",
    "\n",
    "texto4 = \"Me gusta ir a la ciudad, pero prefiero el campo y también la montaña aunque ir al cine es una pasada\"\n",
    "\n",
    "resultado4= re.split(r\"pero|además|también|aunque\", texto4)\n",
    "\n",
    "print(resultado4)"
   ]
  },
  {
   "cell_type": "code",
   "execution_count": 28,
   "metadata": {},
   "outputs": [],
   "source": [
    "#EJEMPLOS:\n",
    "\n",
    "#¿para qué serviría? ¿cómo lo usamos?\n",
    "\n",
    "\n",
    "patron_nuevo = \"[\\w\\d]+@(hotmail|gmail)\\.(com|es)\""
   ]
  },
  {
   "cell_type": "code",
   "execution_count": null,
   "metadata": {},
   "outputs": [],
   "source": [
    "#¿para qué serviría? ¿cómo lo usamos?\n",
    "\n",
    "patron_mente = r\"\\b\\w+mente\\b\"\n",
    "\n",
    "frase= \"Estupendamente, creo que ese vestido te queda divinamente\"\n",
    "\n"
   ]
  },
  {
   "cell_type": "code",
   "execution_count": null,
   "metadata": {},
   "outputs": [],
   "source": [
    "#¿para qué serviría? ¿cómo lo usamos?\n",
    "patron_numero = r\"^[67]\\d{8}$\"\n",
    "\n",
    "numero = 64455929\n",
    "\n",
    "resultado_numero = re.match(patron_numero, str(numero))\n",
    "\n",
    "if resultado_numero:\n",
    "    print(f\"El número {numero} es válido.\")\n",
    "else:\n",
    "    print(f\"El número {numero} no es válido.\")"
   ]
  }
 ],
 "metadata": {
  "kernelspec": {
   "display_name": "Python 3",
   "language": "python",
   "name": "python3"
  },
  "language_info": {
   "codemirror_mode": {
    "name": "ipython",
    "version": 3
   },
   "file_extension": ".py",
   "mimetype": "text/x-python",
   "name": "python",
   "nbconvert_exporter": "python",
   "pygments_lexer": "ipython3",
   "version": "3.9.5"
  }
 },
 "nbformat": 4,
 "nbformat_minor": 2
}
