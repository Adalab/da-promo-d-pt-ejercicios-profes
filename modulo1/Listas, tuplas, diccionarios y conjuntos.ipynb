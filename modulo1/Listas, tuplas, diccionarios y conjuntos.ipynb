{
 "cells": [
  {
   "cell_type": "markdown",
   "metadata": {},
   "source": [
    "### Listas --> Datos heterogéneos, acepta repetidos, elementos mutables, accesible por índice"
   ]
  },
  {
   "cell_type": "code",
   "execution_count": 77,
   "metadata": {},
   "outputs": [],
   "source": [
    "tupla1 = (1, 2, 3)\n",
    "tupla2 = (\"Marta\", \"María\", \"Jane\")\n",
    "\n",
    "\n",
    "resultado = zip(tupla1, tupla2)\n"
   ]
  },
  {
   "cell_type": "code",
   "execution_count": 78,
   "metadata": {},
   "outputs": [
    {
     "data": {
      "text/plain": [
       "<zip at 0x26492b01300>"
      ]
     },
     "execution_count": 78,
     "metadata": {},
     "output_type": "execute_result"
    }
   ],
   "source": [
    "resultado"
   ]
  },
  {
   "cell_type": "code",
   "execution_count": 79,
   "metadata": {},
   "outputs": [],
   "source": [
    "lista_final = list(resultado)"
   ]
  },
  {
   "cell_type": "code",
   "execution_count": 80,
   "metadata": {},
   "outputs": [
    {
     "data": {
      "text/plain": [
       "[(1, 'Marta'), (2, 'María'), (3, 'Jane')]"
      ]
     },
     "execution_count": 80,
     "metadata": {},
     "output_type": "execute_result"
    }
   ],
   "source": [
    "lista_final"
   ]
  },
  {
   "cell_type": "code",
   "execution_count": 1,
   "metadata": {},
   "outputs": [],
   "source": [
    "lista1 = [\"Marta\", 20, \"Madrid\", True, \"Madrid\"]"
   ]
  },
  {
   "cell_type": "code",
   "execution_count": 2,
   "metadata": {},
   "outputs": [],
   "source": [
    "lista1[0] = \"María\""
   ]
  },
  {
   "cell_type": "code",
   "execution_count": 3,
   "metadata": {},
   "outputs": [
    {
     "name": "stdout",
     "output_type": "stream",
     "text": [
      "['María', 20, 'Madrid', True, 'Madrid']\n"
     ]
    }
   ],
   "source": [
    "print(lista1)"
   ]
  },
  {
   "cell_type": "code",
   "execution_count": 6,
   "metadata": {},
   "outputs": [],
   "source": [
    "lista_nombres = [\"Rosa\", \"Alba\", \"Marta\"]"
   ]
  },
  {
   "cell_type": "code",
   "execution_count": 4,
   "metadata": {},
   "outputs": [],
   "source": [
    "lista1[1] = 23"
   ]
  },
  {
   "cell_type": "code",
   "execution_count": 5,
   "metadata": {},
   "outputs": [
    {
     "data": {
      "text/plain": [
       "['María', 23, 'Madrid', True, 'Madrid']"
      ]
     },
     "execution_count": 5,
     "metadata": {},
     "output_type": "execute_result"
    }
   ],
   "source": [
    "lista1"
   ]
  },
  {
   "cell_type": "code",
   "execution_count": 8,
   "metadata": {},
   "outputs": [
    {
     "data": {
      "text/plain": [
       "'Madrid'"
      ]
     },
     "execution_count": 8,
     "metadata": {},
     "output_type": "execute_result"
    }
   ],
   "source": [
    "lista1.pop()"
   ]
  },
  {
   "cell_type": "code",
   "execution_count": 9,
   "metadata": {},
   "outputs": [
    {
     "data": {
      "text/plain": [
       "['María', 23, 'Madrid', True]"
      ]
     },
     "execution_count": 9,
     "metadata": {},
     "output_type": "execute_result"
    }
   ],
   "source": [
    "lista1"
   ]
  },
  {
   "cell_type": "code",
   "execution_count": 10,
   "metadata": {},
   "outputs": [],
   "source": [
    "lista1.append(300)"
   ]
  },
  {
   "cell_type": "code",
   "execution_count": 11,
   "metadata": {},
   "outputs": [
    {
     "data": {
      "text/plain": [
       "['María', 23, 'Madrid', True, 300]"
      ]
     },
     "execution_count": 11,
     "metadata": {},
     "output_type": "execute_result"
    }
   ],
   "source": [
    "lista1"
   ]
  },
  {
   "cell_type": "code",
   "execution_count": 13,
   "metadata": {},
   "outputs": [
    {
     "data": {
      "text/plain": [
       "True"
      ]
     },
     "execution_count": 13,
     "metadata": {},
     "output_type": "execute_result"
    }
   ],
   "source": [
    "23 in lista1"
   ]
  },
  {
   "cell_type": "code",
   "execution_count": 14,
   "metadata": {},
   "outputs": [],
   "source": [
    "numeros = 2,3,4,5,41"
   ]
  },
  {
   "cell_type": "code",
   "execution_count": 15,
   "metadata": {},
   "outputs": [],
   "source": [
    "lista_numeros = list(numeros)"
   ]
  },
  {
   "cell_type": "code",
   "execution_count": 16,
   "metadata": {},
   "outputs": [
    {
     "data": {
      "text/plain": [
       "[2, 3, 4, 5, 41]"
      ]
     },
     "execution_count": 16,
     "metadata": {},
     "output_type": "execute_result"
    }
   ],
   "source": [
    "lista_numeros"
   ]
  },
  {
   "cell_type": "markdown",
   "metadata": {},
   "source": [
    "- Listas = []\n",
    "- Heterogénea [3,4,\"María, False]\n",
    "- Indexación y Slicing\n",
    "- Mutable: lista[1] = 4\n",
    "- Convertir en lista: list()\n",
    "- in y not in\n",
    "\n",
    "Funciones:\n",
    "\n",
    "- .append() --> añadir nuevo elemento a la lista (solo uno)\n",
    "- .insert() --> añadir elemento, pero diciéndole primero en qué índice lo quiero\n",
    "- .extend() --> añadir varios elementos a la lista, entre corchetes\n",
    "- .remove() --> quita un elemento en concreto\n",
    "- .pop() --> quita el último elemento de la lista o el de una ubicación en concreto\n",
    "- .reverse() --> le da la vuelta a esa lista\n",
    "- .sort() --> ordena la lista // .sort(reverse=True) ordenar al revés\n",
    "- .clear() --> vacía la lista\n",
    "- .count() --> cuenta cuántas veces aparece en la lista el elemento que pongamos entre paréntesis ej: lista_compra.count(\"fresas\")\n",
    "- .index() --> nos dice el índice del valor que le pasemos\n",
    "- len() --> nos dice cuántos elementos tiene la lista\n",
    "- min()\n",
    "- max()\n",
    "- .copy() --> crea una copia para no sobreescribir la primera\n"
   ]
  },
  {
   "cell_type": "code",
   "execution_count": null,
   "metadata": {},
   "outputs": [],
   "source": [
    "#Como añadir otra lista de datos\n",
    "#Como saber la longitud\n",
    "#Como eliminar el último elemento\n",
    "#Cómo añadirle un elemento\n",
    "#Preguntar si aparece \"María\"\n",
    "#Borrar la lista"
   ]
  },
  {
   "cell_type": "code",
   "execution_count": null,
   "metadata": {},
   "outputs": [],
   "source": [
    "lista_clienta = [30, \"Marta\", \"Lugo\", True, 5]\n",
    "\n",
    "lista_gustos = [\"libros\", \"música\", \"ciencia\"]\n"
   ]
  },
  {
   "cell_type": "code",
   "execution_count": null,
   "metadata": {},
   "outputs": [],
   "source": [
    "lista_clienta.extend(lista_gustos)"
   ]
  },
  {
   "cell_type": "code",
   "execution_count": null,
   "metadata": {},
   "outputs": [],
   "source": [
    "lista_clienta"
   ]
  },
  {
   "cell_type": "code",
   "execution_count": 36,
   "metadata": {},
   "outputs": [
    {
     "data": {
      "text/plain": [
       "23"
      ]
     },
     "execution_count": 36,
     "metadata": {},
     "output_type": "execute_result"
    }
   ],
   "source": [
    "len(lista_clienta)"
   ]
  },
  {
   "cell_type": "code",
   "execution_count": 37,
   "metadata": {},
   "outputs": [
    {
     "data": {
      "text/plain": [
       "'ciencia'"
      ]
     },
     "execution_count": 37,
     "metadata": {},
     "output_type": "execute_result"
    }
   ],
   "source": [
    "lista_clienta.pop()"
   ]
  },
  {
   "cell_type": "code",
   "execution_count": 38,
   "metadata": {},
   "outputs": [
    {
     "data": {
      "text/plain": [
       "5"
      ]
     },
     "execution_count": 38,
     "metadata": {},
     "output_type": "execute_result"
    }
   ],
   "source": [
    "lista_clienta.pop(4)"
   ]
  },
  {
   "cell_type": "code",
   "execution_count": 39,
   "metadata": {},
   "outputs": [],
   "source": [
    "lista_clienta.remove(\"Lugo\")"
   ]
  },
  {
   "cell_type": "code",
   "execution_count": 40,
   "metadata": {},
   "outputs": [],
   "source": [
    "lista_clienta.append(\"España\")"
   ]
  },
  {
   "cell_type": "code",
   "execution_count": 42,
   "metadata": {},
   "outputs": [
    {
     "data": {
      "text/plain": [
       "True"
      ]
     },
     "execution_count": 42,
     "metadata": {},
     "output_type": "execute_result"
    }
   ],
   "source": [
    "\"música\" in lista_clienta"
   ]
  },
  {
   "cell_type": "code",
   "execution_count": 43,
   "metadata": {},
   "outputs": [],
   "source": [
    "num_movil = int(input(\"Pásanos tu número móvil, por favor: \"))"
   ]
  },
  {
   "cell_type": "code",
   "execution_count": 44,
   "metadata": {},
   "outputs": [],
   "source": [
    "lista_clienta.append(num_movil)"
   ]
  },
  {
   "cell_type": "code",
   "execution_count": 45,
   "metadata": {},
   "outputs": [
    {
     "name": "stdout",
     "output_type": "stream",
     "text": [
      "[30, 'Marta', True, 'libros', 'música', 'ciencia', 'libros', 'música', 'ciencia', 'libros', 'música', 'ciencia', 'libros', 'música', 'ciencia', 'libros', 'música', 'ciencia', 'libros', 'música', 'España', 666999444]\n"
     ]
    }
   ],
   "source": [
    "print(lista_clienta)"
   ]
  },
  {
   "cell_type": "code",
   "execution_count": 46,
   "metadata": {},
   "outputs": [],
   "source": [
    "lista_clienta.clear()"
   ]
  },
  {
   "cell_type": "code",
   "execution_count": 47,
   "metadata": {},
   "outputs": [
    {
     "data": {
      "text/plain": [
       "[]"
      ]
     },
     "execution_count": 47,
     "metadata": {},
     "output_type": "execute_result"
    }
   ],
   "source": [
    "lista_clienta"
   ]
  },
  {
   "cell_type": "code",
   "execution_count": 33,
   "metadata": {},
   "outputs": [],
   "source": [
    "lista_clienta += lista_gustos"
   ]
  },
  {
   "cell_type": "code",
   "execution_count": 34,
   "metadata": {},
   "outputs": [
    {
     "name": "stdout",
     "output_type": "stream",
     "text": [
      "[30, 'Marta', 'Lugo', True, 5, 'libros', 'música', 'ciencia', 'libros', 'música', 'ciencia', 'libros', 'música', 'ciencia', 'libros', 'música', 'ciencia', 'libros', 'música', 'ciencia', 'libros', 'música', 'ciencia']\n"
     ]
    }
   ],
   "source": [
    "print(lista_clienta)"
   ]
  },
  {
   "cell_type": "code",
   "execution_count": null,
   "metadata": {},
   "outputs": [],
   "source": []
  },
  {
   "cell_type": "code",
   "execution_count": 1,
   "metadata": {},
   "outputs": [],
   "source": [
    "#Ejercicio: De la siguiente lista, elimina un país concreto, añade otro en una ubicación concreta, dale la vuelta, pide a la usuaria que introduzca\n",
    "# un país y añádelo a la lista,\n",
    "# ordénala por orden alfabético y cuenta cuántos países hay\n",
    "paises = [\"España\", \"Italia\", \"Bélgica\", \"Suiza\", \"Portugal\"]"
   ]
  },
  {
   "cell_type": "code",
   "execution_count": 31,
   "metadata": {},
   "outputs": [],
   "source": [
    "paises.remove(\"Italia\")"
   ]
  },
  {
   "cell_type": "code",
   "execution_count": 32,
   "metadata": {},
   "outputs": [],
   "source": [
    "paises.insert(0, \"Suecia\")"
   ]
  },
  {
   "cell_type": "code",
   "execution_count": 33,
   "metadata": {},
   "outputs": [
    {
     "data": {
      "text/plain": [
       "['Suecia', 'España', 'Bélgica', 'Suiza', 'Portugal']"
      ]
     },
     "execution_count": 33,
     "metadata": {},
     "output_type": "execute_result"
    }
   ],
   "source": [
    "paises"
   ]
  },
  {
   "cell_type": "code",
   "execution_count": null,
   "metadata": {},
   "outputs": [],
   "source": [
    "#Pide un país y agrégalo a la lista"
   ]
  },
  {
   "cell_type": "markdown",
   "metadata": {},
   "source": [
    "# Tuplas --> Datos heterogéneos, acepta repetidos, inmutables, accesible por índice"
   ]
  },
  {
   "cell_type": "markdown",
   "metadata": {},
   "source": [
    "- Tuplas = ()\n",
    "- Heterogénea\n",
    "- Indexación y Slicing\n",
    "- Inmutables: no se pueden añadir, eliminar o cambiar sus elementos\n",
    "- Para cambiar, se puede pasar a lista\n",
    "- Puede contener elementos MUTABLES\n",
    "- Convertir en tupla: tuple()\n",
    "- in y not in\n",
    "\n",
    "Funciones:\n",
    "\n",
    "- .count()\n",
    "- .index()\n",
    "- len()\n",
    "- min()\n",
    "- max()\n"
   ]
  },
  {
   "cell_type": "code",
   "execution_count": 53,
   "metadata": {},
   "outputs": [],
   "source": [
    "cifras = (200, 300, 40000, 50, 120)"
   ]
  },
  {
   "cell_type": "code",
   "execution_count": 54,
   "metadata": {},
   "outputs": [],
   "source": [
    "cifra_lista = list(cifras)"
   ]
  },
  {
   "cell_type": "code",
   "execution_count": 56,
   "metadata": {},
   "outputs": [
    {
     "data": {
      "text/plain": [
       "[200, 300, 40000, 50, 120]"
      ]
     },
     "execution_count": 56,
     "metadata": {},
     "output_type": "execute_result"
    }
   ],
   "source": [
    "cifra_lista"
   ]
  },
  {
   "cell_type": "code",
   "execution_count": 57,
   "metadata": {},
   "outputs": [],
   "source": [
    "cifra_lista.extend([3000, 12000, 500, 60])"
   ]
  },
  {
   "cell_type": "code",
   "execution_count": 58,
   "metadata": {},
   "outputs": [
    {
     "data": {
      "text/plain": [
       "[200, 300, 40000, 50, 120, 3000, 12000, 500, 60]"
      ]
     },
     "execution_count": 58,
     "metadata": {},
     "output_type": "execute_result"
    }
   ],
   "source": [
    "cifra_lista"
   ]
  },
  {
   "cell_type": "code",
   "execution_count": 59,
   "metadata": {},
   "outputs": [],
   "source": [
    "cifra_tupla = tuple(cifra_lista)"
   ]
  },
  {
   "cell_type": "code",
   "execution_count": 60,
   "metadata": {},
   "outputs": [
    {
     "data": {
      "text/plain": [
       "(200, 300, 40000, 50, 120, 3000, 12000, 500, 60)"
      ]
     },
     "execution_count": 60,
     "metadata": {},
     "output_type": "execute_result"
    }
   ],
   "source": [
    "cifra_tupla"
   ]
  },
  {
   "cell_type": "code",
   "execution_count": 48,
   "metadata": {},
   "outputs": [],
   "source": [
    "tupla = (20, \"Lluvia\", \"Sevilla\", [1,2,3,4])"
   ]
  },
  {
   "cell_type": "code",
   "execution_count": 51,
   "metadata": {},
   "outputs": [],
   "source": [
    "tupla[3][-1] = 0"
   ]
  },
  {
   "cell_type": "code",
   "execution_count": 52,
   "metadata": {},
   "outputs": [
    {
     "name": "stdout",
     "output_type": "stream",
     "text": [
      "(20, 'Lluvia', 'Sevilla', [2, 2, 3, 0])\n"
     ]
    }
   ],
   "source": [
    "print(tupla)"
   ]
  },
  {
   "cell_type": "code",
   "execution_count": 45,
   "metadata": {},
   "outputs": [],
   "source": [
    "lista1 = list(tupla)"
   ]
  },
  {
   "cell_type": "code",
   "execution_count": null,
   "metadata": {},
   "outputs": [],
   "source": [
    "lista1"
   ]
  },
  {
   "cell_type": "code",
   "execution_count": 47,
   "metadata": {},
   "outputs": [],
   "source": [
    "lista1.append(\"Madrid\")"
   ]
  },
  {
   "cell_type": "code",
   "execution_count": null,
   "metadata": {},
   "outputs": [],
   "source": [
    "tuple(lista1)"
   ]
  },
  {
   "cell_type": "code",
   "execution_count": null,
   "metadata": {},
   "outputs": [],
   "source": [
    "#Accede al último dato de la tupla\n",
    "#Coge solo los dos primeros datos.\n",
    "#Pregúntale si aparece \"María\"\n",
    "#Conviértelo en lista, añádele un valor y después conviértelo en tupla\n",
    "#cuenta cuántos valores tiene"
   ]
  },
  {
   "cell_type": "code",
   "execution_count": 62,
   "metadata": {},
   "outputs": [],
   "source": [
    "datos = (\"María\", 30, \"Madrid\", \"Calle Ramón y Cajal\", \"Marketing\")"
   ]
  },
  {
   "cell_type": "code",
   "execution_count": 63,
   "metadata": {},
   "outputs": [
    {
     "data": {
      "text/plain": [
       "2"
      ]
     },
     "execution_count": 63,
     "metadata": {},
     "output_type": "execute_result"
    }
   ],
   "source": [
    "datos.index(\"Madrid\")"
   ]
  },
  {
   "cell_type": "code",
   "execution_count": 64,
   "metadata": {},
   "outputs": [
    {
     "data": {
      "text/plain": [
       "'Marketing'"
      ]
     },
     "execution_count": 64,
     "metadata": {},
     "output_type": "execute_result"
    }
   ],
   "source": [
    "datos[-1]"
   ]
  },
  {
   "cell_type": "code",
   "execution_count": 68,
   "metadata": {},
   "outputs": [
    {
     "data": {
      "text/plain": [
       "('María', 30)"
      ]
     },
     "execution_count": 68,
     "metadata": {},
     "output_type": "execute_result"
    }
   ],
   "source": [
    "datos[0:2]"
   ]
  },
  {
   "cell_type": "code",
   "execution_count": 69,
   "metadata": {},
   "outputs": [
    {
     "data": {
      "text/plain": [
       "False"
      ]
     },
     "execution_count": 69,
     "metadata": {},
     "output_type": "execute_result"
    }
   ],
   "source": [
    "\"Tahiera\" in datos"
   ]
  },
  {
   "cell_type": "code",
   "execution_count": 70,
   "metadata": {},
   "outputs": [],
   "source": [
    "datos_lista = list(datos)"
   ]
  },
  {
   "cell_type": "code",
   "execution_count": 71,
   "metadata": {},
   "outputs": [
    {
     "data": {
      "text/plain": [
       "['María', 30, 'Madrid', 'Calle Ramón y Cajal', 'Marketing']"
      ]
     },
     "execution_count": 71,
     "metadata": {},
     "output_type": "execute_result"
    }
   ],
   "source": [
    "datos_lista"
   ]
  },
  {
   "cell_type": "code",
   "execution_count": 72,
   "metadata": {},
   "outputs": [],
   "source": [
    "datos_lista.append(\"Tahiera\")"
   ]
  },
  {
   "cell_type": "code",
   "execution_count": 73,
   "metadata": {},
   "outputs": [
    {
     "data": {
      "text/plain": [
       "['María', 30, 'Madrid', 'Calle Ramón y Cajal', 'Marketing', 'Tahiera']"
      ]
     },
     "execution_count": 73,
     "metadata": {},
     "output_type": "execute_result"
    }
   ],
   "source": [
    "datos_lista"
   ]
  },
  {
   "cell_type": "code",
   "execution_count": 74,
   "metadata": {},
   "outputs": [],
   "source": [
    "datos_tuple = tuple(datos_lista)"
   ]
  },
  {
   "cell_type": "code",
   "execution_count": 75,
   "metadata": {},
   "outputs": [
    {
     "data": {
      "text/plain": [
       "('María', 30, 'Madrid', 'Calle Ramón y Cajal', 'Marketing', 'Tahiera')"
      ]
     },
     "execution_count": 75,
     "metadata": {},
     "output_type": "execute_result"
    }
   ],
   "source": [
    "datos_tuple"
   ]
  },
  {
   "cell_type": "markdown",
   "metadata": {},
   "source": [
    "# Diccionario --> Acepta repetidos (pero NO las claves, solo los valores), clave y valor, las claves son inmutables y únicas, accesible por clave"
   ]
  },
  {
   "cell_type": "markdown",
   "metadata": {},
   "source": [
    "- Diccionarios = {clave:valor}\n",
    "- Acepta valores repetidos\n",
    "- Claves inmutables y no se pueden repetir, pero se pueden añadir y eliminar pares de clave-valor y modificar valores\n",
    "- Valores heterogéneos\n",
    "- Accesible por clave, NO POR ÍNDICE\n",
    "- Convertir en diccionario: dict()\n",
    "- in, not in\n",
    "\n",
    "Funciones:\n",
    "\n",
    "- len()\n",
    "- .keys() --> muestra las claves\n",
    "- .values() --> muestra los valores\n",
    "- .items() --> devuelve una lista de tuplas con cada clave y valor\n",
    "- .copy()\n",
    "- .clear()\n",
    "- .update() --> para añadir un elemento nuevo al diccionario, pero SIEMPRE se le pasa en formato diccionario, ejemplo: diccionario.update({\"alumnas\":18})\n",
    "- .get() --> para obtener un valor, dándole una clave, aunque usamos más diccionario[clave]\n",
    "- .pop() --> elimina un valor pasándole la clave\n",
    "- .popitem() --> elimina el ultimo clave-valor agregado\n",
    "- dictnuevo = {**dict1, **dict2, **dict3}"
   ]
  },
  {
   "cell_type": "code",
   "execution_count": 87,
   "metadata": {},
   "outputs": [],
   "source": [
    "dict1 = {\"nombre\": \"Raquel\", \"edad\": 40, \"país\": \"Portugal\"}"
   ]
  },
  {
   "cell_type": "code",
   "execution_count": 88,
   "metadata": {},
   "outputs": [],
   "source": [
    "dict2 = {\"id\": 12323, \"profesión\": \"detective\"}"
   ]
  },
  {
   "cell_type": "code",
   "execution_count": 92,
   "metadata": {},
   "outputs": [],
   "source": [
    "dict1.update(dict2)"
   ]
  },
  {
   "cell_type": "code",
   "execution_count": null,
   "metadata": {},
   "outputs": [],
   "source": [
    "dict1"
   ]
  },
  {
   "cell_type": "code",
   "execution_count": null,
   "metadata": {},
   "outputs": [],
   "source": [
    "#¿Otra forma de hacerlo?"
   ]
  },
  {
   "cell_type": "code",
   "execution_count": null,
   "metadata": {},
   "outputs": [],
   "source": [
    "#Con este diccionario quiero...\n",
    "#Pedir una fruta y su cantidad y añadirla al diccionario\n",
    "#Acceder al valor de manzanas y fresas\n",
    "#Eliminar el último clave-valor\n",
    "#Mostrar todas las frutas que hay (tipos)\n",
    "#Mostrar la cantidad de frutas que tenemos en total\n",
    "#Contar cuántos pares clave-valor tenemos\n",
    "#Borrar el diccionario\n",
    "\n",
    "frutas = {\"peras\": 10, \"manzanas\": 50, \"uvas\": 5, \"fresas\": 8, \"sandías\": 14, \"naranjas\": 14, \"plátanos\": 60}"
   ]
  },
  {
   "cell_type": "markdown",
   "metadata": {},
   "source": [
    "# CONJUNTOS O SETS:"
   ]
  },
  {
   "cell_type": "markdown",
   "metadata": {},
   "source": [
    "- Conjunto = {}\n",
    "- No acepta valores repetidos\n",
    "- Elementos mutables en cuanto a añadir o eliminar, pero no permite listas o diccionarios dentro\n",
    "- Valores heterogéneos\n",
    "- No accesible por índice, desordenados\n",
    "- Convertir en conjunto: set()\n",
    "- in, not in\n",
    "\n",
    "Funciones:\n",
    "\n",
    "- len()\n",
    "- .add() --> para añadir un elemento más, SOLO UNO\n",
    "- .update() --> para pasarle una lista de elementos a añadir\n",
    "- .copy()\n",
    "- .remove() --> elimina UN SOLO ELEMENTO y da error si no existe\n",
    "- .discard() --> igual, pero no da errr\n",
    "- .pop()\n",
    "- .clear()\n",
    "\n",
    "Operaciones especiales:\n",
    "\n",
    "- a.union(b) o a | b --> Muestra los elementos que suman entre los dos conjuntos, sin repetir\n",
    "- a.intersection(b) o a & b --> Muestra los elementos en común\n",
    "- a.difference(b) o a-b --> Muestra los que aparece en uno, quitando los que aparecen en el otro\n",
    "- a.symmetric_difference(b) o a^b --> Muestra los que no tengan en común\n",
    "- a.issubset(b) o a <= b --> Da True si todos los elementos de a están en b\n",
    "- a.issuperset(b) o a >= b --> Da True si a contiene todos los elementos de b\n",
    "NO TIENE NADA QUE VER LA CANTIDAD DE VALORES"
   ]
  },
  {
   "cell_type": "markdown",
   "metadata": {},
   "source": [
    "![![Conjuntos] (https://i.sstatic.net/uH6cL.png)](https://i.sstatic.net/uH6cL.png)"
   ]
  },
  {
   "cell_type": "code",
   "execution_count": null,
   "metadata": {},
   "outputs": [],
   "source": [
    "regalos_navidad = {\"chuches\", \"juguetes\", \"libros\", \"ropa\", \"carbón\"}\n",
    "regalos_cumple = {\"tocadiscos\", \"ropa\", \"dinero\", \"libros\", \"juguetes\"}"
   ]
  },
  {
   "cell_type": "code",
   "execution_count": null,
   "metadata": {},
   "outputs": [],
   "source": [
    "#Quiero unir todos en un mismo conjunto llamado regalos"
   ]
  },
  {
   "cell_type": "code",
   "execution_count": null,
   "metadata": {},
   "outputs": [],
   "source": [
    "#Quiero solo los regalos que aparezcan en común"
   ]
  },
  {
   "cell_type": "code",
   "execution_count": null,
   "metadata": {},
   "outputs": [],
   "source": [
    "#Quiero los regalos que sean de navidad, pero que no sean de cumpleaños"
   ]
  },
  {
   "cell_type": "code",
   "execution_count": null,
   "metadata": {},
   "outputs": [],
   "source": [
    "conjunto1 = {\"María\", \"Antonio\", \"Juan\", \"Luisa\", \"Cecilia\", \"Pepa\"}\n",
    "conjunto2 = {\"María\", \"Antonio\"} "
   ]
  },
  {
   "cell_type": "code",
   "execution_count": null,
   "metadata": {},
   "outputs": [],
   "source": [
    "#¿Es el conjunto2 un subconjunto del 1?"
   ]
  },
  {
   "cell_type": "code",
   "execution_count": null,
   "metadata": {},
   "outputs": [],
   "source": [
    "#¿Es el conjunto1 un superconjunto del 2?"
   ]
  }
 ],
 "metadata": {
  "kernelspec": {
   "display_name": "Python 3",
   "language": "python",
   "name": "python3"
  },
  "language_info": {
   "codemirror_mode": {
    "name": "ipython",
    "version": 3
   },
   "file_extension": ".py",
   "mimetype": "text/x-python",
   "name": "python",
   "nbconvert_exporter": "python",
   "pygments_lexer": "ipython3",
   "version": "3.9.5"
  }
 },
 "nbformat": 4,
 "nbformat_minor": 2
}
