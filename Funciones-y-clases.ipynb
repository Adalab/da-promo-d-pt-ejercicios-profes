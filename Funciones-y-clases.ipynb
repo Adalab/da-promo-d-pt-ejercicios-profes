{
 "cells": [
  {
   "cell_type": "markdown",
   "metadata": {},
   "source": [
    "# FUNCIONES\n",
    "- Son bloques de código reutilizables que realizan una tarea concreta\n",
    "-\"Encapsulamos\" unas instrucciones y le damos un nombre\n",
    "- Sirve para organizar mejor el código\n",
    "- Estructura:\n"
   ]
  },
  {
   "cell_type": "code",
   "execution_count": null,
   "metadata": {},
   "outputs": [],
   "source": [
    "def nombre_funcion(parametros):\n",
    "    código\n",
    "    return resultado"
   ]
  },
  {
   "cell_type": "code",
   "execution_count": 17,
   "metadata": {},
   "outputs": [],
   "source": [
    "def saludar():\n",
    "    print(\"Hola\")"
   ]
  },
  {
   "cell_type": "code",
   "execution_count": 18,
   "metadata": {},
   "outputs": [
    {
     "name": "stdout",
     "output_type": "stream",
     "text": [
      "Hola\n"
     ]
    }
   ],
   "source": [
    "saludar()"
   ]
  },
  {
   "cell_type": "code",
   "execution_count": 19,
   "metadata": {},
   "outputs": [],
   "source": [
    "def separar_por_coma(texto):\n",
    "    print(texto.split(\",\"))"
   ]
  },
  {
   "cell_type": "code",
   "execution_count": 21,
   "metadata": {},
   "outputs": [
    {
     "name": "stdout",
     "output_type": "stream",
     "text": [
      "['Hola', ' que', ' tal', ' bien', ' y', '  tu']\n"
     ]
    }
   ],
   "source": [
    "separar_por_coma(\"Hola, que, tal, bien, y,  tu\")"
   ]
  },
  {
   "cell_type": "code",
   "execution_count": null,
   "metadata": {},
   "outputs": [],
   "source": [
    "#Primero elijo la acción que quiero encapsular, porque va a ser algo que utilice muchas veces.\n",
    "#Esta acción en concreta es corta, solo es saludar. Pero podemos hacer que sea aún más corta, convirtiéndola en función\n",
    "\n",
    "nombre = \"María\"\n",
    "\n",
    "print(f\"Hola, {nombre}\")"
   ]
  },
  {
   "cell_type": "code",
   "execution_count": 2,
   "metadata": {},
   "outputs": [],
   "source": [
    "#Creo una función llamada \"saludar\" a la que tengo que pasarle un nombre y el resultado es un print saludando a esa persona.\n",
    "\n",
    "def saludar(nombre):\n",
    "    print(f\"Hola, {nombre}\")"
   ]
  },
  {
   "cell_type": "code",
   "execution_count": 5,
   "metadata": {},
   "outputs": [
    {
     "name": "stdout",
     "output_type": "stream",
     "text": [
      "Hola, Ana\n"
     ]
    }
   ],
   "source": [
    "saludar(\"Ana\")"
   ]
  },
  {
   "cell_type": "code",
   "execution_count": 6,
   "metadata": {},
   "outputs": [
    {
     "name": "stdout",
     "output_type": "stream",
     "text": [
      "Hola, Carmen\n",
      "Hola, Lucía\n",
      "Hola, Marisa\n",
      "Hola, Ester\n",
      "Hola, Juana\n"
     ]
    }
   ],
   "source": [
    "# ¿Cómo podríamos ir saludando nombre por nombre?\n",
    "# ¿Cómo podemos convertir eso en una función?\n",
    "\n",
    "lista_nombres = [\"Carmen\", \"Lucía\", \"Marisa\", \"Ester\", \"Juana\"]\n",
    "\n",
    "\n",
    "\n",
    "for nombre in lista_nombres:\n",
    "    print(f\"Hola, {nombre}\")"
   ]
  },
  {
   "cell_type": "code",
   "execution_count": null,
   "metadata": {},
   "outputs": [],
   "source": [
    "def saludar_amigas(lista):\n",
    "    for nombre in lista:\n",
    "        print(f\"Hola, {nombre}\")"
   ]
  },
  {
   "cell_type": "code",
   "execution_count": 9,
   "metadata": {},
   "outputs": [
    {
     "name": "stdout",
     "output_type": "stream",
     "text": [
      "Hola, Elena\n",
      "Hola, Sara\n",
      "Hola, Carla\n",
      "Hola, Paula\n"
     ]
    }
   ],
   "source": [
    "saludar_amigas([\"Elena\", \"Sara\", \"Carla\", \"Paula\"])"
   ]
  },
  {
   "cell_type": "code",
   "execution_count": 10,
   "metadata": {},
   "outputs": [
    {
     "name": "stdout",
     "output_type": "stream",
     "text": [
      "Hola, Paulina\n",
      "Hola, Iris\n",
      "Hola, Luisa\n"
     ]
    }
   ],
   "source": [
    "saludar_amigas([\"Paulina\", \"Iris\", \"Luisa\"])"
   ]
  },
  {
   "cell_type": "code",
   "execution_count": null,
   "metadata": {},
   "outputs": [
    {
     "name": "stdout",
     "output_type": "stream",
     "text": [
      "55\n"
     ]
    }
   ],
   "source": [
    "#Esto podemos hacerlo de manera manual, pero ¿no sería mejor pasarlo a una función?\n",
    "a = 20\n",
    "b = 35\n",
    "\n",
    "c = a + b\n",
    "print(c)"
   ]
  },
  {
   "cell_type": "code",
   "execution_count": 15,
   "metadata": {},
   "outputs": [],
   "source": [
    "def sumar_numeros(num1,num2):\n",
    "    return num1 + num2"
   ]
  },
  {
   "cell_type": "code",
   "execution_count": 16,
   "metadata": {},
   "outputs": [
    {
     "data": {
      "text/plain": [
       "12"
      ]
     },
     "execution_count": 16,
     "metadata": {},
     "output_type": "execute_result"
    }
   ],
   "source": [
    "sumar_numeros(5,7)"
   ]
  },
  {
   "cell_type": "code",
   "execution_count": 22,
   "metadata": {},
   "outputs": [
    {
     "data": {
      "text/plain": [
       "20"
      ]
     },
     "execution_count": 22,
     "metadata": {},
     "output_type": "execute_result"
    }
   ],
   "source": [
    "num1 = 30\n",
    "num2= 10\n",
    "\n",
    "num1 - num2"
   ]
  },
  {
   "cell_type": "code",
   "execution_count": 35,
   "metadata": {},
   "outputs": [],
   "source": [
    "def restar_numeros(num1, num2):\n",
    "    print(num1-num2)"
   ]
  },
  {
   "cell_type": "code",
   "execution_count": 31,
   "metadata": {},
   "outputs": [],
   "source": [
    "def sumar_numeros(num1,num2):\n",
    "    return num1 + num2"
   ]
  },
  {
   "cell_type": "code",
   "execution_count": 36,
   "metadata": {},
   "outputs": [
    {
     "name": "stdout",
     "output_type": "stream",
     "text": [
      "-600\n"
     ]
    }
   ],
   "source": [
    "mes_noviembre = restar_numeros(400, 1000)"
   ]
  },
  {
   "cell_type": "code",
   "execution_count": 38,
   "metadata": {},
   "outputs": [
    {
     "name": "stdout",
     "output_type": "stream",
     "text": [
      "None\n"
     ]
    }
   ],
   "source": [
    "print(mes_noviembre)"
   ]
  },
  {
   "cell_type": "code",
   "execution_count": 33,
   "metadata": {},
   "outputs": [
    {
     "data": {
      "text/plain": [
       "1400"
      ]
     },
     "execution_count": 33,
     "metadata": {},
     "output_type": "execute_result"
    }
   ],
   "source": [
    "mes_noviembre"
   ]
  },
  {
   "cell_type": "code",
   "execution_count": 30,
   "metadata": {},
   "outputs": [
    {
     "name": "stdout",
     "output_type": "stream",
     "text": [
      "1500\n"
     ]
    }
   ],
   "source": [
    "restar_numeros(2500, 1000)"
   ]
  },
  {
   "cell_type": "markdown",
   "metadata": {},
   "source": [
    "### Las funciones que conocemos como len() o max() también tienen esa estructura por dentro.\n",
    "### Ahora nosotras también podemos crear funciones que hagan cosas"
   ]
  },
  {
   "cell_type": "code",
   "execution_count": null,
   "metadata": {},
   "outputs": [],
   "source": [
    "# Quiero una función a la que le pueda pasar dos números y me los sume. Pero que tenga un tercero opcional, si no se lo paso, que valga 0.\n",
    "\n",
    "def sumar_num(a,b,c=0):\n",
    "    return a+b+c"
   ]
  },
  {
   "cell_type": "code",
   "execution_count": null,
   "metadata": {},
   "outputs": [],
   "source": [
    "def restar_dos_num(a,b):\n",
    "    return a-b"
   ]
  },
  {
   "cell_type": "code",
   "execution_count": null,
   "metadata": {},
   "outputs": [],
   "source": [
    "restar_dos_num(50,20)"
   ]
  },
  {
   "cell_type": "code",
   "execution_count": 60,
   "metadata": {},
   "outputs": [
    {
     "data": {
      "text/plain": [
       "700"
      ]
     },
     "execution_count": 60,
     "metadata": {},
     "output_type": "execute_result"
    }
   ],
   "source": [
    "sumar_num(200,500)"
   ]
  },
  {
   "cell_type": "code",
   "execution_count": 55,
   "metadata": {},
   "outputs": [],
   "source": [
    "resultado = sumar_num(5,8)"
   ]
  },
  {
   "cell_type": "markdown",
   "metadata": {},
   "source": [
    "## Diferencias entre return y print():\n",
    "    - print() nos IMPRIME por pantalla un resultado. Una frase o algo que queramos leer. Además, usa comillas. print(\"Hola\")\n",
    "    - return devuelve un valor y además puede ser almacenado dandole a ese resultado un nombre. No usa comillas. Cuando aparece return, se termina la función."
   ]
  },
  {
   "cell_type": "code",
   "execution_count": null,
   "metadata": {},
   "outputs": [],
   "source": [
    "sumar_num(5,6)"
   ]
  },
  {
   "cell_type": "code",
   "execution_count": null,
   "metadata": {},
   "outputs": [],
   "source": [
    "resultado = sumar_num(30,50)"
   ]
  },
  {
   "cell_type": "code",
   "execution_count": 39,
   "metadata": {},
   "outputs": [],
   "source": [
    "#También puedo hacer una función a la que no haya que pasarle nada. Solo que me imprima algo: Quiero una función que se despida\n",
    "\n",
    "def despedir():\n",
    "    print(\"¡Adiós!\")"
   ]
  },
  {
   "cell_type": "code",
   "execution_count": 40,
   "metadata": {},
   "outputs": [
    {
     "name": "stdout",
     "output_type": "stream",
     "text": [
      "¡Adiós!\n"
     ]
    }
   ],
   "source": [
    "despedir()"
   ]
  },
  {
   "cell_type": "code",
   "execution_count": 70,
   "metadata": {},
   "outputs": [],
   "source": [
    "def titular(frase):\n",
    "    frase_final = frase.title()\n",
    "    return frase_final\n"
   ]
  },
  {
   "cell_type": "code",
   "execution_count": 74,
   "metadata": {},
   "outputs": [],
   "source": [
    "frase_final = titular(\"hola que tal\")"
   ]
  },
  {
   "cell_type": "code",
   "execution_count": 64,
   "metadata": {},
   "outputs": [
    {
     "name": "stdout",
     "output_type": "stream",
     "text": [
      "Hola Estoy Haciendo Un Print\n"
     ]
    }
   ],
   "source": [
    "titular(\"hola estoy haciendo un print\")"
   ]
  },
  {
   "cell_type": "code",
   "execution_count": 61,
   "metadata": {},
   "outputs": [],
   "source": [
    "frase_en_mayus = titular(\"hola que tal\")"
   ]
  },
  {
   "cell_type": "code",
   "execution_count": 62,
   "metadata": {},
   "outputs": [
    {
     "data": {
      "text/plain": [
       "'Hola Que Tal'"
      ]
     },
     "execution_count": 62,
     "metadata": {},
     "output_type": "execute_result"
    }
   ],
   "source": [
    "frase_en_mayus"
   ]
  },
  {
   "cell_type": "code",
   "execution_count": 50,
   "metadata": {},
   "outputs": [
    {
     "name": "stdout",
     "output_type": "stream",
     "text": [
      "Lo siento, no se puede hacer\n"
     ]
    }
   ],
   "source": [
    "titular(1)"
   ]
  },
  {
   "cell_type": "code",
   "execution_count": 51,
   "metadata": {},
   "outputs": [],
   "source": [
    "frase_elegida = titular(input(\"Dime una frase, porfa\"))"
   ]
  },
  {
   "cell_type": "code",
   "execution_count": 52,
   "metadata": {},
   "outputs": [
    {
     "data": {
      "text/plain": [
       "'Hola Jaja Que Tal'"
      ]
     },
     "execution_count": 52,
     "metadata": {},
     "output_type": "execute_result"
    }
   ],
   "source": [
    "frase_elegida"
   ]
  },
  {
   "cell_type": "code",
   "execution_count": 46,
   "metadata": {},
   "outputs": [],
   "source": [
    "texto_final = titular(frase_elegida)"
   ]
  },
  {
   "cell_type": "code",
   "execution_count": 47,
   "metadata": {},
   "outputs": [
    {
     "name": "stdout",
     "output_type": "stream",
     "text": [
      "Hola Estoy Aprendiendo Pthon\n"
     ]
    }
   ],
   "source": [
    "print(texto_final)"
   ]
  },
  {
   "cell_type": "code",
   "execution_count": null,
   "metadata": {},
   "outputs": [],
   "source": [
    "#Podría tener una función que me genere la tabla del dos cuando quiera, así no tendría que escribir este código una y otra vez\n",
    "\n",
    "def tabla_del_dos(num1):\n",
    "    for i in range(0,11):\n",
    "        print (f\"{num1} x {i} = {i*2}\")"
   ]
  },
  {
   "cell_type": "code",
   "execution_count": 77,
   "metadata": {},
   "outputs": [
    {
     "name": "stdout",
     "output_type": "stream",
     "text": [
      "2 x 0 = 0\n",
      "2 x 1 = 2\n",
      "2 x 2 = 4\n",
      "2 x 3 = 6\n",
      "2 x 4 = 8\n",
      "2 x 5 = 10\n",
      "2 x 6 = 12\n",
      "2 x 7 = 14\n",
      "2 x 8 = 16\n",
      "2 x 9 = 18\n",
      "2 x 10 = 20\n"
     ]
    }
   ],
   "source": [
    "tabla_del_dos()"
   ]
  },
  {
   "cell_type": "code",
   "execution_count": null,
   "metadata": {},
   "outputs": [],
   "source": [
    "#O una función que me cree la tabla de multiplicar del número que yo le diga. ¿Cómo sería eso?\n",
    "\n",
    "def tabla_multiplicar(numero):\n",
    "    for i in range(0,11):\n",
    "        print(f\"{numero} x {i} = {numero*i}\")\n"
   ]
  },
  {
   "cell_type": "code",
   "execution_count": 82,
   "metadata": {},
   "outputs": [
    {
     "name": "stdout",
     "output_type": "stream",
     "text": [
      "8 x 0 = 0\n",
      "8 x 1 = 8\n",
      "8 x 2 = 16\n",
      "8 x 3 = 24\n",
      "8 x 4 = 32\n",
      "8 x 5 = 40\n",
      "8 x 6 = 48\n",
      "8 x 7 = 56\n",
      "8 x 8 = 64\n",
      "8 x 9 = 72\n",
      "8 x 10 = 80\n"
     ]
    }
   ],
   "source": [
    "tabla_multiplicar(8)"
   ]
  },
  {
   "cell_type": "markdown",
   "metadata": {},
   "source": [
    "### IMPORTANTE\n",
    "- Si le decimos a la función que le vamos a pasar dos parámetros como en suma(a,b), hay que pasarle dos, ni más ni menos\n",
    "- A esos parámetros podemos llamarles como queramos.\n"
   ]
  },
  {
   "cell_type": "code",
   "execution_count": 10,
   "metadata": {},
   "outputs": [],
   "source": [
    "def restar(a,b):\n",
    "    return a-b"
   ]
  },
  {
   "cell_type": "code",
   "execution_count": null,
   "metadata": {},
   "outputs": [],
   "source": [
    "# ¿Qué me devolverá aquí? ¿Cuál será a y cuál será b?\n",
    "restar(8,4)"
   ]
  },
  {
   "cell_type": "code",
   "execution_count": 84,
   "metadata": {},
   "outputs": [],
   "source": [
    "#Quiero una función que me sume dos numeros y los multiplique por 100 y me devuelva un resultado que pueda guardar en una nueva variable.\n",
    "\n",
    "def suma_y_porcien(a,b):\n",
    "    return (a+b)*100"
   ]
  },
  {
   "cell_type": "code",
   "execution_count": null,
   "metadata": {},
   "outputs": [
    {
     "data": {
      "text/plain": [
       "6500"
      ]
     },
     "execution_count": 85,
     "metadata": {},
     "output_type": "execute_result"
    }
   ],
   "source": [
    "resultado = suma_y_porcien(5,60)"
   ]
  },
  {
   "cell_type": "code",
   "execution_count": 88,
   "metadata": {},
   "outputs": [],
   "source": [
    "#También podemos darle un valor por defecto a uno de los parámetros.\n",
    "#Por ejemplo, quiero una función que pida tres números y luego me devuelva cuál es el mayor. Si alguien no introduce el tercer número, por defecto será cero.\n",
    "\n",
    "def ordenar_num(a,b, c=10):\n",
    "    return max(a,b,c)"
   ]
  },
  {
   "cell_type": "code",
   "execution_count": 89,
   "metadata": {},
   "outputs": [
    {
     "data": {
      "text/plain": [
       "10"
      ]
     },
     "execution_count": 89,
     "metadata": {},
     "output_type": "execute_result"
    }
   ],
   "source": [
    "ordenar_num(5,6)"
   ]
  },
  {
   "cell_type": "markdown",
   "metadata": {},
   "source": [
    "- El parámetro al que le pongamos un valor por defecto ¡SIEMPRE IRÁ AL FINAL!\n",
    "- Las clases tienen PARÁMETROS y ARGUMENTOS.\n",
    "\n",
    "\n",
    "def sumar(a,b): --> Aquí a y b son parámetros\n",
    "    print(a + b) \n",
    "\n",
    "sumar(8,2) --> aquí 8 y 2 son argumentos"
   ]
  },
  {
   "cell_type": "markdown",
   "metadata": {},
   "source": [
    "- Vamos a hacer algunos ejemplos. Al principio lo más fácil es crear el código que necesitemos y luego meterlo en una función"
   ]
  },
  {
   "cell_type": "code",
   "execution_count": 93,
   "metadata": {},
   "outputs": [],
   "source": [
    "#Necesito una función a la que le pasemos una palabra y nos diga cuántos caracteres tiene\n",
    "\n",
    "def caracteres(palabra):\n",
    "    print(f\"Tiene {len(palabra)} caracteres\")"
   ]
  },
  {
   "cell_type": "code",
   "execution_count": 94,
   "metadata": {},
   "outputs": [
    {
     "name": "stdout",
     "output_type": "stream",
     "text": [
      "Tiene 11 caracteres\n"
     ]
    }
   ],
   "source": [
    "caracteres(\"Chupacabras\")"
   ]
  },
  {
   "cell_type": "code",
   "execution_count": null,
   "metadata": {},
   "outputs": [],
   "source": [
    "#Necesito una función que separe por comas una frase\n"
   ]
  },
  {
   "cell_type": "code",
   "execution_count": null,
   "metadata": {},
   "outputs": [],
   "source": [
    "#Necesito una función a la que le pasemos una palabra. Si tiene 3 caracteres o menos, que me diga que es una palabra corta,\n",
    "#si tiene entre 4 y 5 es normal y si tiene más de 5, es larga\n"
   ]
  },
  {
   "cell_type": "code",
   "execution_count": null,
   "metadata": {},
   "outputs": [],
   "source": [
    "#El otro día veíamos esta lista y vimos cómo ir de nombre en nombre y quitar espacios y poner en mayúscula la primera letra.\n",
    "# ¿Cómo podemos convertir eso en una función que podamos reutilizar?\n",
    "\n",
    "clientas = [\" María romero\", \" susana ramírez\", \"carmen Castillo \"]\n",
    "nueva_lista_clientes = []\n"
   ]
  },
  {
   "cell_type": "code",
   "execution_count": null,
   "metadata": {},
   "outputs": [],
   "source": [
    "# También vimos esta forma de repasar la lista de la compra. ¿Cómo podríamos convertirlo en una función?\n",
    "\n",
    "lista_compra = [\"lechuga\", \"tomate\", \"zanahoria\", \"espinacas\", \"huevos\", \"tofu\"]\n",
    "\n",
    "for comida in lista_compra:\n",
    "    print(f\"Tienes que comprar {comida}\")"
   ]
  },
  {
   "cell_type": "markdown",
   "metadata": {},
   "source": [
    "### ¿Qué pasa si yo no sé cuántos parámetros voy a pasarle a mi función?\n",
    "- Por ejemplo, voy a hacer una función a la que pasarle notas de exámenes y que me diga la media, pero según el curso y la clase, hacen más o menos exámenes...\n",
    "- Para ello le pasamos *args y dentro de la función lo nombramos como args\n",
    "- Los tratará como una tupla"
   ]
  },
  {
   "cell_type": "code",
   "execution_count": 99,
   "metadata": {},
   "outputs": [],
   "source": [
    "def media_examenes(*args):\n",
    "    return round(sum(args)/len(args), 2)"
   ]
  },
  {
   "cell_type": "code",
   "execution_count": 100,
   "metadata": {},
   "outputs": [
    {
     "data": {
      "text/plain": [
       "7.17"
      ]
     },
     "execution_count": 100,
     "metadata": {},
     "output_type": "execute_result"
    }
   ],
   "source": [
    "media_examenes(5,8,4,7,9,10)"
   ]
  },
  {
   "cell_type": "code",
   "execution_count": null,
   "metadata": {},
   "outputs": [],
   "source": [
    "#Quiero crear un robot que dé da bienvenida a mi grupo de invitados, pero no sé cuántos tendré.\n",
    "#Quiero que pueda pasarle muchos nombres y uno a uno le vaya diciendo bienvenida o bienvenido\n",
    "\n",
    "\n"
   ]
  },
  {
   "cell_type": "markdown",
   "metadata": {},
   "source": [
    "### Hagamos juntas el primer ejercicio de los materiales\n",
    "- Escribe una función que reciba una cadena de texto como parámetro y devuelva un diccionario con las frecuencias de cada letra en la cadena.\n",
    "Los espacios no deben ser considerados."
   ]
  },
  {
   "cell_type": "markdown",
   "metadata": {},
   "source": [
    "### Si lo que le vamos a pasar van a ser elementos de un diccionario, podemos usar *kwargs\n"
   ]
  },
  {
   "cell_type": "code",
   "execution_count": 40,
   "metadata": {},
   "outputs": [],
   "source": [
    "def mostrar_info(**kwargs):\n",
    "    for clave, valor in kwargs.items():\n",
    "        print(f\"{clave.capitalize()} : {valor}\")"
   ]
  },
  {
   "cell_type": "code",
   "execution_count": 47,
   "metadata": {},
   "outputs": [],
   "source": [
    "usuario1 = {\"nombre\": \"Ana\", \"apellido\": \"martínez\"}"
   ]
  },
  {
   "cell_type": "code",
   "execution_count": 52,
   "metadata": {},
   "outputs": [],
   "source": [
    "mostrar_info = {**usuario1}"
   ]
  },
  {
   "cell_type": "markdown",
   "metadata": {},
   "source": [
    "## Variables locales *vs* globales\n",
    "\n",
    "Las **variables globales** son aquellas que **no** están definidas dentro de ninguna función y tienen un alcance global, mientras que las **variables locales** son aquellas que están definidas dentro de una función y su alcance está limitado sólo a esa función.\n",
    "\n",
    "> En otras palabras, podemos decir que las variables locales son accesibles sólo dentro de la función en la que se inicializó mientras que las variables globales son accesibles en todo el programa y dentro de cada función."
   ]
  },
  {
   "cell_type": "markdown",
   "metadata": {},
   "source": [
    "### Variables locales\n",
    "\n",
    "Una **variable local** es una variable definida dentro de una función y que solo está disponible dentro del ámbito de esa función. Es decir, una variable local solo puede ser utilizada dentro de la función donde se ha definido.\n",
    "\n",
    "Cuando se define una variable dentro de una función, se crea una variable local con el mismo nombre que la variable definida. Esta variable local solo existe dentro de la función y no se puede acceder desde fuera de ella. Además, cuando se define una variable local con el mismo nombre que una variable global, la variable local oculta la variable global dentro de la función."
   ]
  },
  {
   "cell_type": "code",
   "execution_count": 22,
   "metadata": {},
   "outputs": [],
   "source": [
    "def mantra():\n",
    "    mi_mantra = \"Puedo con todo\"\n",
    "    return mi_mantra"
   ]
  },
  {
   "cell_type": "code",
   "execution_count": null,
   "metadata": {},
   "outputs": [],
   "source": [
    "mi_mantra"
   ]
  },
  {
   "cell_type": "markdown",
   "metadata": {},
   "source": [
    "### Variables globales\n",
    "\n",
    "Una **variable global** es una variable definida fuera de una función y que está disponible en todo el programa, es decir, en cualquier lugar donde se haga referencia a ella. Una variable global se puede acceder desde cualquier función o parte del código que esté en el mismo archivo de Python o Jupyter.\n",
    "\n",
    "Cuando se define una variable global, esta se puede utilizar y modificar en cualquier parte del programa."
   ]
  },
  {
   "cell_type": "code",
   "execution_count": null,
   "metadata": {},
   "outputs": [],
   "source": [
    "\n",
    "la_verdad = 'Python es el mejor lenguaje de programación'\n",
    "\n",
    "\n",
    "def mi_funcion2():\n",
    "    print(f' Dentro de la funcion:  {la_verdad}')\n",
    "\n",
    "mi_funcion2()"
   ]
  },
  {
   "cell_type": "code",
   "execution_count": null,
   "metadata": {},
   "outputs": [],
   "source": [
    "la_verdad"
   ]
  },
  {
   "cell_type": "code",
   "execution_count": null,
   "metadata": {},
   "outputs": [],
   "source": [
    "#Vemos entonces que las variables globales se pueden llamar tanto dentro como fuera de una función"
   ]
  },
  {
   "cell_type": "markdown",
   "metadata": {},
   "source": [
    "# Funciones Lambda\n",
    "- Funciones ya hechas, que se diferencias porque no llevan el def\n",
    "- Son funciones cortas para usarlas solo una vez y van solo en una línea, solo sirve para algo sencillo\n",
    "- Usan la palabra clave lambda\n",
    "- Sintaxis:\n",
    "    lambda parámetros: expresión"
   ]
  },
  {
   "cell_type": "code",
   "execution_count": 34,
   "metadata": {},
   "outputs": [],
   "source": [
    "suma = lambda a,b: a+b"
   ]
  },
  {
   "cell_type": "code",
   "execution_count": 36,
   "metadata": {},
   "outputs": [],
   "source": [
    "multiplicar_por_diez = lambda num: num * 10"
   ]
  },
  {
   "cell_type": "code",
   "execution_count": 38,
   "metadata": {},
   "outputs": [],
   "source": [
    "sumar_tres_numeros = lambda a, b, c=5: (a+b+c)"
   ]
  },
  {
   "cell_type": "code",
   "execution_count": 101,
   "metadata": {},
   "outputs": [],
   "source": [
    "def sumar_facturas(*args):\n",
    "    return sum(args)"
   ]
  },
  {
   "cell_type": "code",
   "execution_count": 102,
   "metadata": {},
   "outputs": [],
   "source": [
    "suma_facturas = sumar_facturas(200, 100, 50, 500, 30, 120)"
   ]
  },
  {
   "cell_type": "code",
   "execution_count": 103,
   "metadata": {},
   "outputs": [
    {
     "data": {
      "text/plain": [
       "1000"
      ]
     },
     "execution_count": 103,
     "metadata": {},
     "output_type": "execute_result"
    }
   ],
   "source": [
    "suma_facturas"
   ]
  },
  {
   "cell_type": "markdown",
   "metadata": {},
   "source": [
    "# Clases y Objetos"
   ]
  },
  {
   "cell_type": "markdown",
   "metadata": {},
   "source": [
    "### ¿Qué es una clase?\n",
    "- Es una plantilla, un modelo o molde en base al cual se pueden crear objetos. \n",
    "- Tendrá atributos y métodos. Los métodos son lo que conocemos como funciones.\n",
    "- Los nombres de las clases se escriben todo junto y con la primera letra de cada palabra en mayúscula: MiClase, CuentaBancaria, NombreClase\n",
    "- Los nombres de los atributos y métodos van en minúsculas\n",
    "- Por ejemplo, podemos crear un molde de dispositivo electrónico. Esa será la clase y un objeto puede ser un móvil, una tele...\n",
    "- Siempre tiene un método llamado \"método constructor\" que se llama def __init__\n",
    "- Sintaxis:\n",
    "\n",
    "\n",
    "class DispositivoElectronico:\n",
    "\n",
    "    def __init__(self, nombre color, marca, precio):\n",
    "        self.nombre = nombre\n",
    "        self.color = color\n",
    "        self.marca = marca\n",
    "        self.precio = precio\n",
    "\n",
    "    def apagar(self):\n",
    "        print(f\"Se ha apagado tu {self.nombre}\")\n",
    "    \n",
    "    def metodo2(self, argumento):\n",
    "        #El código que sea\n",
    "\n",
    "\n",
    "### ¿Qué es un objeto?\n",
    "- Es un elemento o instancia de una clase. Es decir, una identidad concreta creada a partir de la clase.\n",
    "- Si tengo una clase llamada DispositivoElectronico, puedo crear un objeto llamado Televisor con esta plantilla y tendrá esas características (atributos) y métodos.\n",
    "\n",
    "\n",
    "### Conceptos importantes:\n",
    "- Clase --> plantilla, modelo\n",
    "- Objeto --> objeto creado a partir de una plantilla\n",
    "- Atributo --> características de la clase\n",
    "- Método --> funciones de una clase"
   ]
  },
  {
   "cell_type": "code",
   "execution_count": 2,
   "metadata": {},
   "outputs": [],
   "source": [
    "class Persona:\n",
    "    def __init__(self,nombre,apellido,edad,profesion, altura):\n",
    "        self.nombre = nombre\n",
    "        self.apellido = apellido\n",
    "        self.edad = edad\n",
    "        self.profesion = profesion\n",
    "        self.altura = altura\n",
    "    \n",
    "    def saludar(self, nombre_desconocido):\n",
    "        print(f\"Hola {nombre_desconocido}. Soy {self.nombre} {self.apellido}\")\n",
    "    \n",
    "    def despedirse(self):\n",
    "        print(\"Adiós\")\n",
    "\n",
    "    def decir_edad(self):\n",
    "        print(f\"Tengo {self.edad} años\")\n",
    "    \n",
    "    def decir_profesion(self):\n",
    "        print(f\"Soy {self.profesion}\")\n",
    "    \n",
    "    def sumar_numeros(self, *args):\n",
    "        print(f\"Oye, claro que sé sumar, estos numeros suman {sum(args)}\")"
   ]
  },
  {
   "cell_type": "code",
   "execution_count": null,
   "metadata": {},
   "outputs": [],
   "source": [
    "def sumar_numeros(num1, num2):\n",
    "    return num1 + num2"
   ]
  },
  {
   "cell_type": "code",
   "execution_count": 123,
   "metadata": {},
   "outputs": [],
   "source": [
    "HenryCavill = Persona(\"Henry\", \"Cavill\", 41, \"actor\", 1.90)"
   ]
  },
  {
   "cell_type": "code",
   "execution_count": 111,
   "metadata": {},
   "outputs": [],
   "source": [
    "HenryCavill.altura = 1.95"
   ]
  },
  {
   "cell_type": "code",
   "execution_count": 113,
   "metadata": {},
   "outputs": [],
   "source": [
    "HenryCavill.edad = 42"
   ]
  },
  {
   "cell_type": "code",
   "execution_count": 116,
   "metadata": {},
   "outputs": [
    {
     "name": "stdout",
     "output_type": "stream",
     "text": [
      "Hola Adalabers. Soy Henry Cavill\n"
     ]
    }
   ],
   "source": [
    "HenryCavill.saludar(\"Adalabers\")"
   ]
  },
  {
   "cell_type": "code",
   "execution_count": 117,
   "metadata": {},
   "outputs": [
    {
     "name": "stdout",
     "output_type": "stream",
     "text": [
      "Adiós\n"
     ]
    }
   ],
   "source": [
    "HenryCavill.despedirse()"
   ]
  },
  {
   "cell_type": "code",
   "execution_count": 118,
   "metadata": {},
   "outputs": [
    {
     "name": "stdout",
     "output_type": "stream",
     "text": [
      "Tengo 42 años\n"
     ]
    }
   ],
   "source": [
    "HenryCavill.decir_edad()"
   ]
  },
  {
   "cell_type": "code",
   "execution_count": 124,
   "metadata": {},
   "outputs": [
    {
     "name": "stdout",
     "output_type": "stream",
     "text": [
      "Oye, claro que sé sumar, estos numeros suman 25\n"
     ]
    }
   ],
   "source": [
    "HenryCavill.sumar_numeros(2,3,5, 10, 5)"
   ]
  },
  {
   "cell_type": "code",
   "execution_count": 140,
   "metadata": {},
   "outputs": [],
   "source": [
    "class DispositivoElectronico:\n",
    "    def __init__(self, nombre, marca, color, precio):\n",
    "        self.nombre = nombre\n",
    "        self.marca = marca\n",
    "        self.color = color\n",
    "        self.precio = precio\n",
    "\n",
    "    def encender(self):\n",
    "        print(\"Se ha encendido\")\n",
    "\n",
    "    def apagar(self):\n",
    "        print(\"Se ha apagado\")\n",
    "\n",
    "    def descripcion(self):\n",
    "        print(f\"{self.nombre}: cuesta {self.precio} euros, es de la marca {self.marca} y de color {self.color}\")\n",
    "    \n",
    "    def comprar(self, dinero):\n",
    "        if dinero == self.precio:\n",
    "            print(\"Lo has comprado\")\n",
    "        elif dinero > self.precio:\n",
    "            print(f\"Aquí tienes tu vuelta:{dinero - self.precio}\")\n",
    "        else:\n",
    "            print(f\"Lo siento, no te puedes permitir un móvil de la marca {self.marca}.\")"
   ]
  },
  {
   "cell_type": "code",
   "execution_count": 141,
   "metadata": {},
   "outputs": [],
   "source": [
    "movil1 = DispositivoElectronico(\"Xiaomi 11TPro\", \"Xiaomi\", \"rojo\", 500)"
   ]
  },
  {
   "cell_type": "code",
   "execution_count": 129,
   "metadata": {},
   "outputs": [
    {
     "name": "stdout",
     "output_type": "stream",
     "text": [
      "Se ha encendido\n"
     ]
    }
   ],
   "source": [
    "movil1.encender()"
   ]
  },
  {
   "cell_type": "code",
   "execution_count": 131,
   "metadata": {},
   "outputs": [],
   "source": [
    "movil1.color = \"rosa\""
   ]
  },
  {
   "cell_type": "code",
   "execution_count": 132,
   "metadata": {},
   "outputs": [
    {
     "data": {
      "text/plain": [
       "'rosa'"
      ]
     },
     "execution_count": 132,
     "metadata": {},
     "output_type": "execute_result"
    }
   ],
   "source": [
    "movil1.color"
   ]
  },
  {
   "cell_type": "code",
   "execution_count": 142,
   "metadata": {},
   "outputs": [
    {
     "name": "stdout",
     "output_type": "stream",
     "text": [
      "Aquí tienes tu vuelta:100\n"
     ]
    }
   ],
   "source": [
    "movil1.comprar(600)"
   ]
  },
  {
   "cell_type": "code",
   "execution_count": 42,
   "metadata": {},
   "outputs": [],
   "source": [
    "#Creación de un objeto con la plantilla que tenemos\n",
    "#Le damos un nombre, como si fuera una variable y cogemos la clase deseada y le pasamos los atributos que nos pide\n",
    "\n",
    "televisor = DispositivoElectronico(\"Televisión 4K\", \"Samsung\", \"negro\", 400)"
   ]
  },
  {
   "cell_type": "code",
   "execution_count": null,
   "metadata": {},
   "outputs": [],
   "source": [
    "televisor.nombre"
   ]
  },
  {
   "cell_type": "code",
   "execution_count": null,
   "metadata": {},
   "outputs": [],
   "source": [
    "televisor.color"
   ]
  },
  {
   "cell_type": "code",
   "execution_count": 45,
   "metadata": {},
   "outputs": [],
   "source": [
    "televisor.color = \"rojo\""
   ]
  },
  {
   "cell_type": "code",
   "execution_count": null,
   "metadata": {},
   "outputs": [],
   "source": [
    "televisor.comprar(50)"
   ]
  },
  {
   "cell_type": "code",
   "execution_count": 88,
   "metadata": {},
   "outputs": [],
   "source": [
    "#Al crear una clase, también podríamos poner algún atributo por defecto\n",
    "\n",
    "class DispositivoElectronico:\n",
    "    def __init__(self, nombre, marca, color, precio = 0):\n",
    "        self.nombre = nombre\n",
    "        self.marca = marca\n",
    "        self.color = color\n",
    "        self.precio = precio\n",
    "\n",
    "    def encender(self):\n",
    "        print(\"Se ha encendido\")\n",
    "\n",
    "    def apagar(self):\n",
    "        print(\"Se ha apagado\")\n",
    "\n",
    "    def descripcion(self):\n",
    "        print(f\"{self.nombre}: cuesta {self.precio} euros, es de la marca {self.marca} y de color {self.color}\")\n",
    "    \n",
    "    def comprar(self,dinero):\n",
    "        if dinero >= self.precio:\n",
    "            print(\"Lo has comprado\")\n",
    "        else:\n",
    "            print(\"Lo siento, no pudes permitírtelo.\")"
   ]
  },
  {
   "cell_type": "code",
   "execution_count": 93,
   "metadata": {},
   "outputs": [],
   "source": [
    "ordenador = DispositivoElectronico(\"PC Gamer\", \"ThinkPad\", \"gris\") #cuidado aquí, respetar el orden o ponemos...\n",
    "ordenador2 = DispositivoElectronico(nombre = \"PC Normal\", marca = \"ThinkPad\", color = \"gris\")"
   ]
  },
  {
   "cell_type": "markdown",
   "metadata": {},
   "source": [
    "### Además de usar sus funciones, podemos acceder a sus atributos usando nombreobjeto.atributo"
   ]
  },
  {
   "cell_type": "code",
   "execution_count": null,
   "metadata": {},
   "outputs": [],
   "source": [
    "ordenador.nombre"
   ]
  },
  {
   "cell_type": "code",
   "execution_count": null,
   "metadata": {},
   "outputs": [],
   "source": [
    "ordenador.color"
   ]
  },
  {
   "cell_type": "code",
   "execution_count": null,
   "metadata": {},
   "outputs": [],
   "source": [
    "ordenador.precio"
   ]
  },
  {
   "cell_type": "markdown",
   "metadata": {},
   "source": [
    "### ¿Qué pasa si una vez creado el objeto quiero cambiar un atributo?\n",
    "### No he introducido el precio del pc, pero ahora sé que vale 500 euros"
   ]
  },
  {
   "cell_type": "code",
   "execution_count": null,
   "metadata": {},
   "outputs": [],
   "source": [
    "ordenador.precio"
   ]
  },
  {
   "cell_type": "markdown",
   "metadata": {},
   "source": [
    "# Herencias de las clases\n",
    "\n",
    "Las herencias nos van a permitir crear nuevas clases a partir de clases que ya hemos definido previamente.\n",
    "\n",
    "- Clase que hereda --> CLASE HIJA, SUBCLASE o CHILD\n",
    "\n",
    "- Clase de la que hereda --> CLASE MADRE, SUPERCLASE o PARENT\n",
    "\n",
    "Las clases hijas pueden modificar los atributos y métodos de las clases madre o crear nuevos. En otras palabras, las clases hijas heredan todos los atributos y métodos de las clases padre, pero también pueden tener atributos y métodos que son exclusivos de ellas mismas.\n",
    "\n",
    "La ventaja principal... nos ayuda a reutilizar código"
   ]
  },
  {
   "cell_type": "code",
   "execution_count": 143,
   "metadata": {},
   "outputs": [],
   "source": [
    "class Hijo(Persona):\n",
    "    pass"
   ]
  },
  {
   "cell_type": "code",
   "execution_count": 47,
   "metadata": {},
   "outputs": [],
   "source": [
    "class Dispositivo(DispositivoElectronico):\n",
    "    pass"
   ]
  },
  {
   "cell_type": "code",
   "execution_count": 49,
   "metadata": {},
   "outputs": [],
   "source": [
    "reloj = Dispositivo(\"reloj\", \"rolex\", \"gris\", 50)"
   ]
  },
  {
   "cell_type": "code",
   "execution_count": 50,
   "metadata": {},
   "outputs": [
    {
     "data": {
      "text/plain": [
       "50"
      ]
     },
     "execution_count": 50,
     "metadata": {},
     "output_type": "execute_result"
    }
   ],
   "source": [
    "reloj.precio"
   ]
  },
  {
   "cell_type": "code",
   "execution_count": 7,
   "metadata": {},
   "outputs": [],
   "source": [
    "class SuperPersona(Persona):\n",
    "    def __init__(self,nombre, apellido, edad, altura, velocidad, profesion =\"superheroina\"):\n",
    "        super().__init__(nombre, apellido, edad, profesion, altura)\n",
    "        self.velocidad = velocidad\n",
    "\n",
    "    def volar(self):\n",
    "        print(f'Estoy volando!!! Voy a {self.velocidad}')"
   ]
  },
  {
   "cell_type": "code",
   "execution_count": 8,
   "metadata": {},
   "outputs": [],
   "source": [
    "Diana = SuperPersona(nombre=\"Diana\", apellido=\"Wonder\", edad=25, altura=1.55, velocidad= \"120 km/h\")"
   ]
  },
  {
   "cell_type": "code",
   "execution_count": 9,
   "metadata": {},
   "outputs": [
    {
     "name": "stdout",
     "output_type": "stream",
     "text": [
      "Soy superheroina\n"
     ]
    }
   ],
   "source": [
    "Diana.decir_profesion()"
   ]
  },
  {
   "cell_type": "code",
   "execution_count": null,
   "metadata": {},
   "outputs": [],
   "source": [
    "class Dispositivo(DispositivoElectronico):\n",
    "\n",
    "    def __init__(self, nombre, marca, color, estado, bateria):\n",
    "        super().__init__(nombre, marca, color) \n",
    "        self.estado = estado\n",
    "        self.bateria = bateria\n",
    "\n",
    "\n",
    "    def regalar(self):\n",
    "        print(f\"Toma, te regalo mi {self.nombre}\")\n",
    " "
   ]
  },
  {
   "cell_type": "code",
   "execution_count": null,
   "metadata": {},
   "outputs": [],
   "source": [
    "enchufe = Dispositivo(\"enchufe\", \"Xiami\", \"blanco\", \"nuevo\", \"100%\")"
   ]
  },
  {
   "cell_type": "code",
   "execution_count": 53,
   "metadata": {},
   "outputs": [
    {
     "name": "stdout",
     "output_type": "stream",
     "text": [
      "Lo has comprado\n"
     ]
    }
   ],
   "source": [
    "enchufe.comprar(10)"
   ]
  },
  {
   "cell_type": "code",
   "execution_count": 54,
   "metadata": {},
   "outputs": [
    {
     "name": "stdout",
     "output_type": "stream",
     "text": [
      "Toma, te regalo mi enchufe\n"
     ]
    }
   ],
   "source": [
    "enchufe.regalar()"
   ]
  },
  {
   "cell_type": "code",
   "execution_count": 65,
   "metadata": {},
   "outputs": [],
   "source": [
    "class Biblioteca:\n",
    "    def __init__(self):\n",
    "        self.libros = []\n",
    "        self.usuarias = {}\n",
    "        self.prestamos_totales = 0\n",
    "    \n",
    "    def agregar_libro(self, titulo, autor, cantidad):\n",
    "        for libro in self.libros:\n",
    "            if libro['titulo'] == titulo:\n",
    "                libro['cantidad'] += cantidad\n",
    "                return\n",
    "        nuevo_libro = {'titulo': titulo, 'autor':autor, 'cantidad': cantidad}\n",
    "        self.libros.append(nuevo_libro)\n",
    "\n",
    "    def ver_libros(self):\n",
    "        for libro in self.libros:\n",
    "            print(f\"Título: {libro['titulo']}, Autor: {libro['autor']}),  Cantidad: {libro['cantidad']}\")\n",
    "\n",
    "    def buscar_libro(self, titulo):\n",
    "        for libro in self.libros:\n",
    "            if libro['titulo'] == titulo:\n",
    "                print(f\"Título: {libro['titulo']}, Autor: {libro['autor']}, Cantidad: {libro['cantidad']}\")\n",
    "                return\n",
    "        print(f\"El libro '{titulo}' no está disponible en la biblioteca.\")\n",
    "\n",
    "    def añadir_usuaria(self, nombre, prestamos):\n",
    "        if nombre in self.usuarias:\n",
    "            print(\"Persona ya registrada\")\n",
    "        else:\n",
    "            self.usuarias.update({nombre:prestamos})\n",
    "\n",
    "    def ver_usuarias(self):\n",
    "        print(self.usuarias)\n"
   ]
  },
  {
   "cell_type": "code",
   "execution_count": 66,
   "metadata": {},
   "outputs": [],
   "source": [
    "biblioteca1 = Biblioteca()"
   ]
  },
  {
   "cell_type": "code",
   "execution_count": 67,
   "metadata": {},
   "outputs": [],
   "source": [
    "biblioteca1.agregar_libro(\"El Quijote\", \"Cervantes\", 2)"
   ]
  },
  {
   "cell_type": "code",
   "execution_count": 68,
   "metadata": {},
   "outputs": [
    {
     "data": {
      "text/plain": [
       "[{'titulo': 'El Quijote', 'autor': 'Cervantes', 'cantidad': 2}]"
      ]
     },
     "execution_count": 68,
     "metadata": {},
     "output_type": "execute_result"
    }
   ],
   "source": [
    "biblioteca1.libros"
   ]
  },
  {
   "cell_type": "code",
   "execution_count": 69,
   "metadata": {},
   "outputs": [],
   "source": [
    "biblioteca1.agregar_libro(\"El Quijote\", \"Cervantes\", 5)"
   ]
  },
  {
   "cell_type": "code",
   "execution_count": 70,
   "metadata": {},
   "outputs": [
    {
     "data": {
      "text/plain": [
       "[{'titulo': 'El Quijote', 'autor': 'Cervantes', 'cantidad': 7}]"
      ]
     },
     "execution_count": 70,
     "metadata": {},
     "output_type": "execute_result"
    }
   ],
   "source": [
    "biblioteca1.libros"
   ]
  },
  {
   "cell_type": "code",
   "execution_count": 72,
   "metadata": {},
   "outputs": [],
   "source": [
    "biblioteca1.añadir_usuaria(\"María Pérez\", 4)"
   ]
  },
  {
   "cell_type": "code",
   "execution_count": 73,
   "metadata": {},
   "outputs": [
    {
     "data": {
      "text/plain": [
       "{'María Pérez': 4}"
      ]
     },
     "execution_count": 73,
     "metadata": {},
     "output_type": "execute_result"
    }
   ],
   "source": [
    "biblioteca1.usuarias"
   ]
  }
 ],
 "metadata": {
  "kernelspec": {
   "display_name": "Python 3",
   "language": "python",
   "name": "python3"
  },
  "language_info": {
   "codemirror_mode": {
    "name": "ipython",
    "version": 3
   },
   "file_extension": ".py",
   "mimetype": "text/x-python",
   "name": "python",
   "nbconvert_exporter": "python",
   "pygments_lexer": "ipython3",
   "version": "3.9.5"
  }
 },
 "nbformat": 4,
 "nbformat_minor": 2
}
