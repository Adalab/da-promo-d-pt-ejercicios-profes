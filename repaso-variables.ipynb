{
 "cells": [
  {
   "cell_type": "markdown",
   "metadata": {},
   "source": [
    "# Repaso"
   ]
  },
  {
   "cell_type": "markdown",
   "metadata": {},
   "source": [
    "Markdown sirve para describir nuestro código y podemor modificar el texto\n",
    "# Añadiendo un título\n",
    "## O subtítulos\n",
    "_poniendo cursiva_\n",
    "**o negrita**"
   ]
  },
  {
   "cell_type": "markdown",
   "metadata": {},
   "source": []
  },
  {
   "cell_type": "code",
   "execution_count": null,
   "metadata": {},
   "outputs": [],
   "source": [
    "#también podemos comentar nuestro código así\n",
    "\n",
    "a = b"
   ]
  },
  {
   "cell_type": "code",
   "execution_count": null,
   "metadata": {},
   "outputs": [],
   "source": [
    "#Las variables son el nombre que le damos a un valor. Este nombre debe empezar por letra y no llevar espacios, por ejemplo\n",
    "edad\n",
    "mi_edad\n",
    "numero_de_pasajeros\n",
    "numerodepasarejos\n",
    "\n",
    "#podrían ser nombres de variables, pero no...\n",
    "12edad\n",
    "mi edad\n",
    "*numerodepasajeros\n"
   ]
  },
  {
   "cell_type": "code",
   "execution_count": null,
   "metadata": {},
   "outputs": [],
   "source": [
    "num_cliente = 1234\n"
   ]
  },
  {
   "cell_type": "code",
   "execution_count": 4,
   "metadata": {},
   "outputs": [
    {
     "name": "stdout",
     "output_type": "stream",
     "text": [
      "1\n",
      "40.0\n"
     ]
    }
   ],
   "source": [
    "#Las variables numéricas son enteras o int y decimales o float\n",
    "edad = 40 #esta es entera\n",
    "estatura = 1.75 #esta es decimal o float y lleva punto\n",
    "#usamos la función int() para convertir algo a entero y la función float() para convertir a decimal, por ejemplo\n",
    "\n",
    "print(int(estatura))\n",
    "print(float(edad))"
   ]
  },
  {
   "cell_type": "code",
   "execution_count": 6,
   "metadata": {},
   "outputs": [
    {
     "name": "stdout",
     "output_type": "stream",
     "text": [
      "60\n",
      "400\n"
     ]
    },
    {
     "data": {
      "text/plain": [
       "2"
      ]
     },
     "execution_count": 6,
     "metadata": {},
     "output_type": "execute_result"
    }
   ],
   "source": [
    "#podemos hacer diferentes operaciones\n",
    "print(edad + 20)\n",
    "print(edad * 10)\n",
    "2024 - edad\n",
    "round(estatura)"
   ]
  },
  {
   "cell_type": "code",
   "execution_count": 7,
   "metadata": {},
   "outputs": [
    {
     "data": {
      "text/plain": [
       "4"
      ]
     },
     "execution_count": 7,
     "metadata": {},
     "output_type": "execute_result"
    }
   ],
   "source": [
    "min(4,30,20, edad)"
   ]
  },
  {
   "cell_type": "code",
   "execution_count": 8,
   "metadata": {},
   "outputs": [
    {
     "name": "stdout",
     "output_type": "stream",
     "text": [
      "HOY HACE UN BUEN DÍA\n",
      "hoy hace un buen día\n",
      "hOY HACE UN BUEN DÍA\n",
      "Hoy hace un mal día\n"
     ]
    }
   ],
   "source": [
    "#las variables de tipo texto llevan comillas y tienen funciones especiales para modificar este texto\n",
    "texto = \"Hoy hace un buen día\"\n",
    "print(texto.upper())\n",
    "print(texto.lower())\n",
    "print(texto.swapcase())\n",
    "print(texto.replace(\"buen\", \"mal\"))"
   ]
  },
  {
   "cell_type": "code",
   "execution_count": 10,
   "metadata": {},
   "outputs": [
    {
     "name": "stdout",
     "output_type": "stream",
     "text": [
      "H\n",
      "Hoy \n"
     ]
    }
   ],
   "source": [
    "#Podemos acceder a un caracter en concreto del texto\n",
    "print(texto[0])\n",
    "#la primera posición es la 0. La última posición que le pedimos no la pone, se queda en la anterior\n",
    "print(texto[0:4])"
   ]
  },
  {
   "cell_type": "code",
   "execution_count": 12,
   "metadata": {},
   "outputs": [
    {
     "name": "stdout",
     "output_type": "stream",
     "text": [
      " c\n"
     ]
    }
   ],
   "source": [
    "texto2 = \"Qué cuesta madrugar un sábado\"\n",
    "print(texto2[3:5])"
   ]
  },
  {
   "cell_type": "code",
   "execution_count": null,
   "metadata": {},
   "outputs": [
    {
     "name": "stdout",
     "output_type": "stream",
     "text": [
      "Tengo 40 años\n"
     ]
    }
   ],
   "source": [
    "#la función print() sirve para imprimir en pantalla. Si en el texto que imprimimos, queremos intercalar el dato de una variable que tengamos guardada, usamos un f-string\n",
    "print(f\"Tengo {edad} años\")"
   ]
  },
  {
   "cell_type": "code",
   "execution_count": null,
   "metadata": {},
   "outputs": [
    {
     "data": {
      "text/plain": [
       "20"
      ]
     },
     "execution_count": 24,
     "metadata": {},
     "output_type": "execute_result"
    }
   ],
   "source": [
    "edad = int(input(\"¿Qué edad tienes?\"))\n",
    "edad = 20"
   ]
  },
  {
   "cell_type": "code",
   "execution_count": 23,
   "metadata": {},
   "outputs": [
    {
     "ename": "ValueError",
     "evalue": "invalid literal for int() with base 10: 'Cris'",
     "output_type": "error",
     "traceback": [
      "\u001b[1;31m---------------------------------------------------------------------------\u001b[0m",
      "\u001b[1;31mValueError\u001b[0m                                Traceback (most recent call last)",
      "Cell \u001b[1;32mIn[23], line 1\u001b[0m\n\u001b[1;32m----> 1\u001b[0m edad_usuario \u001b[38;5;241m=\u001b[39m \u001b[38;5;28;43mint\u001b[39;49m\u001b[43m(\u001b[49m\u001b[38;5;28;43minput\u001b[39;49m\u001b[43m(\u001b[49m\u001b[38;5;124;43m\"\u001b[39;49m\u001b[38;5;124;43m¿Qué edad tienes?\u001b[39;49m\u001b[38;5;124;43m\"\u001b[39;49m\u001b[43m)\u001b[49m\u001b[43m)\u001b[49m\n",
      "\u001b[1;31mValueError\u001b[0m: invalid literal for int() with base 10: 'Cris'"
     ]
    }
   ],
   "source": [
    "edad_usuario = int(input(\"¿Qué edad tienes?\"))"
   ]
  },
  {
   "cell_type": "code",
   "execution_count": 14,
   "metadata": {},
   "outputs": [],
   "source": [
    "#En vez de asignarle el valor a una variable, puedo pedirle a la usuaria que introduzca información\n",
    "ciudad = input(\"¿De qué ciudad eres?\")"
   ]
  },
  {
   "cell_type": "code",
   "execution_count": 15,
   "metadata": {},
   "outputs": [],
   "source": [
    "#pero si lo que va a introducir es un número, tendré que poner delante de input int() o float()\n",
    "perros = int(input(\"¿Cuántos perros tienes\"))"
   ]
  },
  {
   "cell_type": "code",
   "execution_count": 18,
   "metadata": {},
   "outputs": [
    {
     "name": "stdout",
     "output_type": "stream",
     "text": [
      "100\n"
     ]
    }
   ],
   "source": [
    "print(perros * 20)"
   ]
  },
  {
   "cell_type": "code",
   "execution_count": null,
   "metadata": {},
   "outputs": [],
   "source": [
    "#los booleanos son valores de True o False y van sin comillas\n",
    "mayor_de_edad = True"
   ]
  },
  {
   "cell_type": "code",
   "execution_count": 20,
   "metadata": {},
   "outputs": [
    {
     "data": {
      "text/plain": [
       "False"
      ]
     },
     "execution_count": 20,
     "metadata": {},
     "output_type": "execute_result"
    }
   ],
   "source": [
    "#nos permite comparar dos valores o saber si un valor está dentro de otro\n",
    "2 > 4\n"
   ]
  },
  {
   "cell_type": "code",
   "execution_count": 21,
   "metadata": {},
   "outputs": [
    {
     "data": {
      "text/plain": [
       "False"
      ]
     },
     "execution_count": 21,
     "metadata": {},
     "output_type": "execute_result"
    }
   ],
   "source": [
    "4 == 5"
   ]
  },
  {
   "cell_type": "code",
   "execution_count": 22,
   "metadata": {},
   "outputs": [
    {
     "data": {
      "text/plain": [
       "True"
      ]
     },
     "execution_count": 22,
     "metadata": {},
     "output_type": "execute_result"
    }
   ],
   "source": [
    "5 in [2,3,4,5]"
   ]
  }
 ],
 "metadata": {
  "kernelspec": {
   "display_name": "Python 3",
   "language": "python",
   "name": "python3"
  },
  "language_info": {
   "codemirror_mode": {
    "name": "ipython",
    "version": 3
   },
   "file_extension": ".py",
   "mimetype": "text/x-python",
   "name": "python",
   "nbconvert_exporter": "python",
   "pygments_lexer": "ipython3",
   "version": "3.9.5"
  }
 },
 "nbformat": 4,
 "nbformat_minor": 2
}
